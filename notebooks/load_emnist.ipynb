{
 "cells": [
  {
   "cell_type": "markdown",
   "id": "fd5d4529",
   "metadata": {
    "ExecuteTime": {
     "end_time": "2023-07-03T01:24:43.863921Z",
     "start_time": "2023-07-03T01:24:43.855526Z"
    }
   },
   "source": [
    "# Imports"
   ]
  },
  {
   "cell_type": "code",
   "execution_count": 2,
   "id": "af88c9af",
   "metadata": {
    "ExecuteTime": {
     "end_time": "2023-07-03T16:35:22.126565Z",
     "start_time": "2023-07-03T16:35:16.767202Z"
    }
   },
   "outputs": [],
   "source": [
    "# misc\n",
    "import sys\n",
    "import os\n",
    "\n",
    "# load/save files\n",
    "import zipfile\n",
    "import json\n",
    "\n",
    "# plot\n",
    "import matplotlib.pyplot as plt\n",
    "from PIL import Image\n",
    "\n",
    "# datascience libs\n",
    "import numpy as np\n",
    "import pandas as pd\n",
    "\n",
    "try: # python\n",
    "    path_ = os.path.join(os.path.dirname(os.path.abspath(__file__)), \"..\")\n",
    "except NameError: # jupyter notebook\n",
    "    path_ = os.path.dirname(os.getcwd())\n",
    "\n",
    "dataset_dir = os.path.join(path_, \"datasets\")\n",
    "model_dir = os.path.join(path_, \"models\")\n"
   ]
  },
  {
   "cell_type": "markdown",
   "id": "54e8f58d",
   "metadata": {},
   "source": [
    "# Helpers"
   ]
  },
  {
   "cell_type": "code",
   "execution_count": 3,
   "id": "478508f0",
   "metadata": {
    "ExecuteTime": {
     "end_time": "2023-07-03T16:35:24.399667Z",
     "start_time": "2023-07-03T16:35:24.388645Z"
    }
   },
   "outputs": [],
   "source": [
    "from time import time\n",
    "from sys import argv\n",
    "\n",
    "def _time(f):\n",
    "    def wrapper(*args):\n",
    "        start = time()\n",
    "        r = f(*args)\n",
    "        end = time()\n",
    "        print(\"%s timed %f\" % (f.__name__, end-start))\n",
    "        return r\n",
    "    return wrapper"
   ]
  },
  {
   "cell_type": "markdown",
   "id": "e6504048",
   "metadata": {
    "ExecuteTime": {
     "end_time": "2023-07-03T01:24:23.889709Z",
     "start_time": "2023-07-03T01:24:23.880291Z"
    }
   },
   "source": [
    "# Load exemple"
   ]
  },
  {
   "cell_type": "code",
   "execution_count": 61,
   "id": "37121241",
   "metadata": {
    "ExecuteTime": {
     "end_time": "2023-07-03T18:55:06.078187Z",
     "start_time": "2023-07-03T18:55:06.011709Z"
    }
   },
   "outputs": [
    {
     "name": "stdout",
     "output_type": "stream",
     "text": [
      "emnist_load_data timed 0.024504\n",
      "\n",
      "X_train: (201, 28, 28, 1)\n",
      "y_train_id: (201,)\n",
      "y_train_bbox: (201, 4)\n",
      "\n",
      "X_test: (201, 28, 28, 1)\n",
      "y_test_id: (201,)\n",
      "y_test_bbox: (201, 4)\n"
     ]
    }
   ],
   "source": [
    "try:\n",
    "    from types import SimpleNamespace as Namespace\n",
    "except ImportError:\n",
    "    from argparse import Namespace\n",
    "\n",
    "# https://towardsdatascience.com/efficiently-splitting-an-image-into-tiles-in-python-using-numpy-d1bf0dd7b6f7\n",
    "def array_to_tiled_array(img:np.ndarray, kernel_size:tuple):\n",
    "    if len(img.shape) == 2:\n",
    "        img = np.expand_dims(img, axis=-1)\n",
    "    img_height, img_width, channels = img.shape\n",
    "    tile_height, tile_width = kernel_size\n",
    "    tiles = img.reshape(img_height // tile_height,\n",
    "                        tile_height,\n",
    "                        img_width // tile_width,\n",
    "                        tile_width,\n",
    "                        channels)\n",
    "    return tiles.swapaxes(1,2).reshape(-1, tile_height,tile_width, 1)\n",
    "\n",
    "def emnistload_data_X(path:str):\n",
    "    dir_path = os.path.dirname(path)\n",
    "    with open(path, 'r', encoding='utf-8') as f:\n",
    "        obj = json.loads(f.read(), object_hook = lambda d: Namespace(**d))\n",
    "    X = np.zeros((0, 28,28,1))\n",
    "    for s in obj.files:\n",
    "        img_path = os.path.join(dir_path, s)\n",
    "        im = Image.open(img_path).convert('L')\n",
    "        data = array_to_tiled_array(np.array(im,dtype=\"uint8\"), (28,28))\n",
    "        X = np.append(X, data, axis=0)\n",
    "    return X\n",
    "\n",
    "def emnistload_data_y(path:str):\n",
    "    dir_path = os.path.dirname(path)\n",
    "    with open(path, 'r', encoding='utf-8') as f:\n",
    "        obj = json.loads(f.read(), object_hook = lambda d: Namespace(**d))\n",
    "    return [np.array(obj.id, dtype=\"uint8\"), np.array(obj.bbox, dtype=\"uint8\")]\n",
    "\n",
    "@_time\n",
    "def emnist_load_data(dir_path:str):\n",
    "    test_path = os.path.join(dir_path, \"test.json\")\n",
    "    train_path = os.path.join(dir_path, \"train.json\")\n",
    "    X_test = emnistload_data_X(test_path)\n",
    "    X_train = emnistload_data_X(train_path)\n",
    "    y_test = emnistload_data_y(test_path)\n",
    "    y_train = emnistload_data_y(train_path)\n",
    "    return (X_train, y_train), (X_test, y_test)\n",
    "    \n",
    "#(X_train, y_train), (X_test, y_test) = datasets.mnist.load_data(path=\"mnist.npz\")\n",
    "(X_train, y_train), (X_test, y_test) = emnist_load_data(os.path.join(dataset_dir, \"origin-emnist-mnist\"))\n",
    "print(\"\")\n",
    "print(\"X_train:\", X_train.shape)\n",
    "print(\"y_train_id:\", y_train[0].shape)\n",
    "print(\"y_train_bbox:\", y_train[1].shape)\n",
    "print(\"\")\n",
    "print(\"X_test:\", X_test.shape)\n",
    "print(\"y_test_id:\", y_test[0].shape)\n",
    "print(\"y_test_bbox:\", y_test[1].shape)\n"
   ]
  }
 ],
 "metadata": {
  "kernelspec": {
   "display_name": "Python 3 (ipykernel)",
   "language": "python",
   "name": "python3"
  },
  "language_info": {
   "codemirror_mode": {
    "name": "ipython",
    "version": 3
   },
   "file_extension": ".py",
   "mimetype": "text/x-python",
   "name": "python",
   "nbconvert_exporter": "python",
   "pygments_lexer": "ipython3",
   "version": "3.8.12"
  },
  "toc": {
   "base_numbering": 1,
   "nav_menu": {},
   "number_sections": true,
   "sideBar": true,
   "skip_h1_title": false,
   "title_cell": "Table of Contents",
   "title_sidebar": "Contents",
   "toc_cell": false,
   "toc_position": {},
   "toc_section_display": true,
   "toc_window_display": true
  }
 },
 "nbformat": 4,
 "nbformat_minor": 5
}
