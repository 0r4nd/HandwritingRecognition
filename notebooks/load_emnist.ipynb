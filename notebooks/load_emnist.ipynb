{
 "cells": [
  {
   "cell_type": "markdown",
   "id": "dae4c8db",
   "metadata": {
    "ExecuteTime": {
     "end_time": "2023-07-03T01:24:43.863921Z",
     "start_time": "2023-07-03T01:24:43.855526Z"
    }
   },
   "source": [
    "# Imports"
   ]
  },
  {
   "cell_type": "code",
   "execution_count": 3,
   "id": "25addbfa",
   "metadata": {
    "ExecuteTime": {
     "end_time": "2023-07-03T01:25:56.091593Z",
     "start_time": "2023-07-03T01:25:52.953164Z"
    }
   },
   "outputs": [],
   "source": [
    "# misc\n",
    "import sys\n",
    "import os\n",
    "\n",
    "# load/save files\n",
    "import zipfile\n",
    "import json\n",
    "\n",
    "# plot\n",
    "import matplotlib.pyplot as plt\n",
    "from PIL import Image\n",
    "\n",
    "# datascience libs\n",
    "import numpy as np\n",
    "import pandas as pd\n",
    "\n",
    "try: # python\n",
    "    path_ = os.path.join(os.path.dirname(os.path.abspath(__file__)), \"..\")\n",
    "except NameError: # jupyter notebook\n",
    "    path_ = os.path.dirname(os.getcwd())\n",
    "\n",
    "dataset_dir = os.path.join(path_, \"datasets\")\n",
    "model_dir = os.path.join(path_, \"models\")\n"
   ]
  },
  {
   "cell_type": "markdown",
   "id": "5fa6e965",
   "metadata": {},
   "source": [
    "# Helpers"
   ]
  },
  {
   "cell_type": "code",
   "execution_count": 5,
   "id": "761a608b",
   "metadata": {
    "ExecuteTime": {
     "end_time": "2023-07-03T01:31:36.296902Z",
     "start_time": "2023-07-03T01:31:36.278784Z"
    }
   },
   "outputs": [],
   "source": [
    "from time import time\n",
    "from sys import argv\n",
    "\n",
    "def _time(f):\n",
    "    def wrapper(*args):\n",
    "        start = time()\n",
    "        r = f(*args)\n",
    "        end = time()\n",
    "        print(\"%s timed %f\" % (f.__name__, end-start))\n",
    "        return r\n",
    "    return wrapper"
   ]
  },
  {
   "cell_type": "markdown",
   "id": "77328807",
   "metadata": {
    "ExecuteTime": {
     "end_time": "2023-07-03T01:24:23.889709Z",
     "start_time": "2023-07-03T01:24:23.880291Z"
    }
   },
   "source": [
    "# Load exemple"
   ]
  },
  {
   "cell_type": "code",
   "execution_count": 7,
   "id": "25a65eed",
   "metadata": {
    "ExecuteTime": {
     "end_time": "2023-07-03T01:33:31.327096Z",
     "start_time": "2023-07-03T01:33:31.290430Z"
    }
   },
   "outputs": [
    {
     "name": "stdout",
     "output_type": "stream",
     "text": [
      "(252, 252, 1)\n",
      "(252, 252, 1)\n",
      "(84, 364, 1)\n",
      "load_data timed 0.008824\n"
     ]
    }
   ],
   "source": [
    "try:\n",
    "    from types import SimpleNamespace as Namespace\n",
    "except ImportError:\n",
    "    from argparse import Namespace\n",
    "\n",
    "# https://towardsdatascience.com/efficiently-splitting-an-image-into-tiles-in-python-using-numpy-d1bf0dd7b6f7\n",
    "def reshape_split(image:np.ndarray, kernel_size:tuple):\n",
    "    img_height, img_width, channels = image.shape\n",
    "    tile_height, tile_width = kernel_size\n",
    "    tiled_array = image.reshape(img_height // tile_height,\n",
    "                                tile_height,\n",
    "                                img_width // tile_width,\n",
    "                                tile_width,\n",
    "                                channels)\n",
    "    return tiled_array.swapaxes(1,2)\n",
    "    \n",
    "\n",
    "#(X_train, y_train), (X_test, y_test) = datasets.mnist.load_data(path=\"mnist.npz\")\n",
    "@_time\n",
    "def load_data(dir_path):\n",
    "    test_path = os.path.join(dir_path, \"test.json\")\n",
    "    #train_path = os.path.join(dir_path, \"train.json\")\n",
    "    with open(test_path, 'r', encoding='utf-8') as f:\n",
    "        obj = json.loads(f.read(), object_hook = lambda d: Namespace(**d))\n",
    "    for s in obj.files:\n",
    "        #print(os.path.basename(s))\n",
    "        img_path = os.path.join(dir_path, os.path.basename(s))\n",
    "        img = Image.open(img_path).convert('L')\n",
    "        data = np.array(img, dtype=np.uint8)\n",
    "        data = np.expand_dims(data, axis=-1)\n",
    "        #data = reshape_split(data, (28,28))[0][0]\n",
    "        print(data.shape)\n",
    "        #plt.figure(figsize = (20,20))\n",
    "        #plt.imshow(data, cmap='gray')\n",
    "        #plt.show()\n",
    "        #break # only the first one\n",
    "        \n",
    "load_data(os.path.join(dataset_dir, \"origin-emnist-mnist\"))"
   ]
  }
 ],
 "metadata": {
  "kernelspec": {
   "display_name": "Python 3 (ipykernel)",
   "language": "python",
   "name": "python3"
  },
  "language_info": {
   "codemirror_mode": {
    "name": "ipython",
    "version": 3
   },
   "file_extension": ".py",
   "mimetype": "text/x-python",
   "name": "python",
   "nbconvert_exporter": "python",
   "pygments_lexer": "ipython3",
   "version": "3.8.12"
  },
  "toc": {
   "base_numbering": 1,
   "nav_menu": {},
   "number_sections": true,
   "sideBar": true,
   "skip_h1_title": false,
   "title_cell": "Table of Contents",
   "title_sidebar": "Contents",
   "toc_cell": false,
   "toc_position": {},
   "toc_section_display": true,
   "toc_window_display": true
  }
 },
 "nbformat": 4,
 "nbformat_minor": 5
}
