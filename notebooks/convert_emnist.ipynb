{
 "cells": [
  {
   "cell_type": "markdown",
   "id": "685c70d8",
   "metadata": {},
   "source": [
    "# Imports"
   ]
  },
  {
   "cell_type": "code",
   "execution_count": 1,
   "id": "cc8125b9",
   "metadata": {
    "ExecuteTime": {
     "end_time": "2023-06-17T18:54:38.061746Z",
     "start_time": "2023-06-17T18:54:34.359350Z"
    }
   },
   "outputs": [],
   "source": [
    "# misc\n",
    "import os\n",
    "\n",
    "# load/save files\n",
    "import zipfile\n",
    "import json\n",
    "\n",
    "# plot\n",
    "import matplotlib.pyplot as plt\n",
    "from PIL import Image\n",
    "\n",
    "# datascience libs\n",
    "import numpy as np\n",
    "import pandas as pd\n",
    "\n",
    "\n",
    "\n",
    "try: # python\n",
    "    path_ = os.path.join(os.path.dirname(os.path.abspath(__file__)), \"..\")\n",
    "except NameError: # jupyter notebook\n",
    "    path_ = os.path.dirname(os.getcwd())\n",
    "\n",
    "dataset_dir = os.path.join(path_, \"datasets\")\n",
    "model_dir = os.path.join(path_, \"models\")"
   ]
  },
  {
   "cell_type": "markdown",
   "id": "2d3f1a9c",
   "metadata": {},
   "source": [
    "# Read mapping file"
   ]
  },
  {
   "cell_type": "code",
   "execution_count": 6,
   "id": "0d0ede7f",
   "metadata": {
    "ExecuteTime": {
     "end_time": "2023-06-17T18:57:52.846181Z",
     "start_time": "2023-06-17T18:57:52.822436Z"
    }
   },
   "outputs": [
    {
     "name": "stdout",
     "output_type": "stream",
     "text": [
      "[48, 49, 50, 51, 52, 53, 54, 55, 56, 57, 65, 66, 67, 68, 69, 70, 71, 72, 73, 74, 75, 76, 77, 78, 79, 80, 81, 82, 83, 84, 85, 86, 87, 88, 89, 90, 97, 98, 100, 101, 102, 103, 104, 110, 113, 114, 116]\n"
     ]
    }
   ],
   "source": [
    "def emnist_get_mapping(filepath):\n",
    "    max_index = 0\n",
    "    data = {}\n",
    "    with open(filepath) as f:\n",
    "        while True:\n",
    "            line = f.readline()\n",
    "            if not line:\n",
    "                break\n",
    "            tmp = [int(s) for s in line.strip().split(' ') if s.isdigit()]\n",
    "            data[tmp[0]] = tmp[1]\n",
    "            max_index = max(max_index, tmp[0])\n",
    "    # create array with size\n",
    "    emnist_mapping = [-1] * (max_index + 1)\n",
    "    # dict to array\n",
    "    for key, val in data.items():\n",
    "        emnist_mapping[key] = val\n",
    "    return emnist_mapping\n",
    "\n",
    "set_name = 'emnist-balanced'\n",
    "emnist_mapping = emnist_get_mapping(os.path.join(dataset_dir, set_name + '-mapping.txt'))\n",
    "\n",
    "print(emnist_mapping)"
   ]
  },
  {
   "cell_type": "markdown",
   "id": "b306e956",
   "metadata": {},
   "source": [
    "# Converter"
   ]
  },
  {
   "cell_type": "markdown",
   "id": "4c8dbb8f",
   "metadata": {},
   "source": [
    "## Packer class"
   ]
  },
  {
   "cell_type": "code",
   "execution_count": 9,
   "id": "8e324ee5",
   "metadata": {
    "ExecuteTime": {
     "end_time": "2023-06-17T19:00:09.192814Z",
     "start_time": "2023-06-17T19:00:09.124744Z"
    }
   },
   "outputs": [],
   "source": [
    "class BinPackerNode:\n",
    "    def __init__(self, x=0, y=0, width=0,height=0, data=None, left=None,right=None):\n",
    "        self.x = x\n",
    "        self.y = y\n",
    "        self.width = width\n",
    "        self.height = height\n",
    "        self.data = data\n",
    "        self.left = left\n",
    "        self.right = right\n",
    "\n",
    "    def split(self, data, width, height):\n",
    "        self.data = data\n",
    "        self.left = BinPackerNode(self.x,self.y+height, self.width, self.height-height)\n",
    "        self.right = BinPackerNode(self.x+width,self.y, self.width-width, height)\n",
    "        return self\n",
    "    \n",
    "    @staticmethod\n",
    "    def find(node, width, height):\n",
    "        if node.data:\n",
    "            return BinPackerNode.find(node.right, width, height) or BinPackerNode.find(node.left, width, height)\n",
    "        elif width <= node.width and height <= node.height:\n",
    "            return node\n",
    "        return None\n",
    "\n",
    "\n",
    "class BinPacker:\n",
    "    def __init__(self, width, height, if_not_found=\"continue\"):\n",
    "        self.root = BinPackerNode(0,0,width,height)\n",
    "        self.width = width\n",
    "        self.height = height\n",
    "        self.if_not_found = if_not_found # \"continue\" or \"break\"\n",
    "    \n",
    "    cbsort = {\n",
    "        \"w\": (lambda a,b: b[\"width\"] - a[\"width\"]),\n",
    "        \"h\": (lambda a,b: b[\"height\"] - a[\"height\"]),\n",
    "        \"a\": (lambda a,b: b[\"width\"]*b[\"height\"] - a[\"width\"]*a[\"height\"]),\n",
    "        \"max\": (lambda a,b: max(b[\"width\"], b[\"height\"]) - max(a[\"width\"], a[\"height\"])),\n",
    "        \"min\": (lambda a,b: min(b[\"width\"], b[\"height\"]) - min(a[\"width\"], a[\"height\"])),\n",
    "        \"random\": (lambda a,b: random.random() - 0.5),\n",
    "        \"height\": (lambda a,b: BinPacker.msort(a, b, ['h','w'])),\n",
    "        \"width\": (lambda a,b: BinPacker.msort(a, b, ['w','h'])),\n",
    "        \"area\": (lambda a,b: BinPacker.msort(a, b, ['a','h','w'])),\n",
    "        \"maxside\": (lambda a,b: BinPacker.msort(a, b, ['max','min','h','w'])),\n",
    "    }\n",
    "    \n",
    "    @staticmethod\n",
    "    def msort(a, b, criteria):\n",
    "        diff = 0\n",
    "        for n in range(len(criteria)):\n",
    "            diff = BinPacker.cbsort[criteria[n]](a,b)\n",
    "            if diff != 0:\n",
    "                break\n",
    "        return diff\n",
    "    \n",
    "    @staticmethod\n",
    "    def swap(a,i,j):\n",
    "        t = a[i]\n",
    "        a[i] = a[j]\n",
    "        a[j] = t\n",
    "\n",
    "    @staticmethod\n",
    "    def sort(arr, criteria = ['height']):\n",
    "        for i in range(0, len(arr)-1):\n",
    "            for j in range(i+1, len(arr)):\n",
    "                if BinPacker.msort(arr[i], arr[j], criteria) > 0:\n",
    "                    BinPacker.swap(arr,i,j)\n",
    "\n",
    "    def fit(self, blocks_src, criteria = ['height']):\n",
    "        res = []\n",
    "        blocks = []\n",
    "        \n",
    "        for i in range(len(blocks_src)):\n",
    "            blocks.append(blocks_src[i])\n",
    "\n",
    "        BinPacker.sort(blocks, criteria)\n",
    "\n",
    "        for i in range(len(blocks)):\n",
    "            block = blocks[i]\n",
    "            w = block[\"width\"]\n",
    "            h = block[\"height\"]\n",
    "            node = BinPackerNode.find(self.root, w,h)\n",
    "            if not node:\n",
    "                continue\n",
    "            if not node.split(block[\"data\"] if \"data\" in block else \"empty\", w,h):\n",
    "                continue\n",
    "            node.width = w\n",
    "            node.height = h\n",
    "            res.append(node)\n",
    "        return res"
   ]
  },
  {
   "cell_type": "code",
   "execution_count": 3,
   "id": "e9381040",
   "metadata": {
    "ExecuteTime": {
     "end_time": "2023-06-16T20:15:56.246490Z",
     "start_time": "2023-06-16T20:15:52.396835Z"
    }
   },
   "outputs": [],
   "source": [
    "df = pd.read_csv(os.path.join(dataset_dir, 'emnist-balanced-test.csv'), header=None)"
   ]
  },
  {
   "cell_type": "code",
   "execution_count": 4,
   "id": "9f1d01f0",
   "metadata": {
    "ExecuteTime": {
     "end_time": "2023-06-16T20:16:02.293372Z",
     "start_time": "2023-06-16T20:16:02.242783Z"
    }
   },
   "outputs": [
    {
     "data": {
      "text/plain": [
       "\"filepath = os.path.join(dataset_dir, 'emnist-balanced-test.csv')\\nwith open(filepath) as f:\\n    line = f.readline()\\nprint(line)\""
      ]
     },
     "execution_count": 4,
     "metadata": {},
     "output_type": "execute_result"
    }
   ],
   "source": [
    "\"\"\"filepath = os.path.join(dataset_dir, 'emnist-balanced-test.csv')\n",
    "with open(filepath) as f:\n",
    "    line = f.readline()\n",
    "print(line)\"\"\""
   ]
  },
  {
   "cell_type": "markdown",
   "id": "8520df4b",
   "metadata": {},
   "source": [
    "## Converter"
   ]
  },
  {
   "cell_type": "code",
   "execution_count": 53,
   "id": "234d806a",
   "metadata": {
    "ExecuteTime": {
     "end_time": "2023-06-18T00:25:45.656406Z",
     "start_time": "2023-06-18T00:11:51.232886Z"
    },
    "scrolled": true
   },
   "outputs": [
    {
     "name": "stdout",
     "output_type": "stream",
     "text": [
      "begin: tree build\n",
      "begin: export files\n"
     ]
    },
    {
     "ename": "KeyboardInterrupt",
     "evalue": "",
     "output_type": "error",
     "traceback": [
      "\u001b[0;31m---------------------------------------------------------------------------\u001b[0m",
      "\u001b[0;31mKeyboardInterrupt\u001b[0m                         Traceback (most recent call last)",
      "Input \u001b[0;32mIn [53]\u001b[0m, in \u001b[0;36m<cell line: 145>\u001b[0;34m()\u001b[0m\n\u001b[1;32m    142\u001b[0m         f\u001b[38;5;241m.\u001b[39mwrite(json_dump)\n\u001b[1;32m    144\u001b[0m set_name \u001b[38;5;241m=\u001b[39m \u001b[38;5;124m'\u001b[39m\u001b[38;5;124memnist-balanced\u001b[39m\u001b[38;5;124m'\u001b[39m\n\u001b[0;32m--> 145\u001b[0m \u001b[43memnist_convert\u001b[49m\u001b[43m(\u001b[49m\u001b[43mdataset_dir\u001b[49m\u001b[43m,\u001b[49m\u001b[43m \u001b[49m\u001b[43mset_name\u001b[49m\u001b[43m,\u001b[49m\u001b[43m \u001b[49m\u001b[38;5;124;43m'\u001b[39;49m\u001b[38;5;124;43morigin-\u001b[39;49m\u001b[38;5;124;43m'\u001b[39;49m\u001b[38;5;241;43m+\u001b[39;49m\u001b[43mset_name\u001b[49m\u001b[43m,\u001b[49m\u001b[43m \u001b[49m\u001b[43memnist_mapping\u001b[49m\u001b[43m,\u001b[49m\u001b[43m \u001b[49m\u001b[38;5;124;43m'\u001b[39;49m\u001b[38;5;124;43mtest\u001b[39;49m\u001b[38;5;124;43m'\u001b[39;49m\u001b[43m)\u001b[49m\n",
      "Input \u001b[0;32mIn [53]\u001b[0m, in \u001b[0;36memnist_convert\u001b[0;34m(dataset_dir, input_name, output_dir, emnist_mapping, X_set)\u001b[0m\n\u001b[1;32m    108\u001b[0m \u001b[38;5;28;01mwhile\u001b[39;00m \u001b[38;5;28mlen\u001b[39m(blocks) \u001b[38;5;241m>\u001b[39m \u001b[38;5;241m0\u001b[39m:\n\u001b[1;32m    109\u001b[0m     packer \u001b[38;5;241m=\u001b[39m BinPacker(\u001b[38;5;241m4096\u001b[39m,\u001b[38;5;241m4096\u001b[39m)\n\u001b[0;32m--> 110\u001b[0m     res \u001b[38;5;241m=\u001b[39m \u001b[43mpacker\u001b[49m\u001b[38;5;241;43m.\u001b[39;49m\u001b[43mfit\u001b[49m\u001b[43m(\u001b[49m\u001b[43mblocks\u001b[49m\u001b[43m,\u001b[49m\u001b[43m \u001b[49m\u001b[43m[\u001b[49m\u001b[38;5;124;43m\"\u001b[39;49m\u001b[38;5;124;43mheight\u001b[39;49m\u001b[38;5;124;43m\"\u001b[39;49m\u001b[43m]\u001b[49m\u001b[43m)\u001b[49m\n\u001b[1;32m    111\u001b[0m     \u001b[38;5;66;03m# advance on the next pack that couldn't be fitted\u001b[39;00m\n\u001b[1;32m    112\u001b[0m     blocks \u001b[38;5;241m=\u001b[39m blocks[\u001b[38;5;28mlen\u001b[39m(res):]\n",
      "Input \u001b[0;32mIn [9]\u001b[0m, in \u001b[0;36mBinPacker.fit\u001b[0;34m(self, blocks_src, criteria)\u001b[0m\n\u001b[1;32m     72\u001b[0m \u001b[38;5;28;01mfor\u001b[39;00m i \u001b[38;5;129;01min\u001b[39;00m \u001b[38;5;28mrange\u001b[39m(\u001b[38;5;28mlen\u001b[39m(blocks_src)):\n\u001b[1;32m     73\u001b[0m     blocks\u001b[38;5;241m.\u001b[39mappend(blocks_src[i])\n\u001b[0;32m---> 75\u001b[0m \u001b[43mBinPacker\u001b[49m\u001b[38;5;241;43m.\u001b[39;49m\u001b[43msort\u001b[49m\u001b[43m(\u001b[49m\u001b[43mblocks\u001b[49m\u001b[43m,\u001b[49m\u001b[43m \u001b[49m\u001b[43mcriteria\u001b[49m\u001b[43m)\u001b[49m\n\u001b[1;32m     77\u001b[0m \u001b[38;5;28;01mfor\u001b[39;00m i \u001b[38;5;129;01min\u001b[39;00m \u001b[38;5;28mrange\u001b[39m(\u001b[38;5;28mlen\u001b[39m(blocks)):\n\u001b[1;32m     78\u001b[0m     block \u001b[38;5;241m=\u001b[39m blocks[i]\n",
      "Input \u001b[0;32mIn [9]\u001b[0m, in \u001b[0;36mBinPacker.sort\u001b[0;34m(arr, criteria)\u001b[0m\n\u001b[1;32m     63\u001b[0m \u001b[38;5;28;01mfor\u001b[39;00m i \u001b[38;5;129;01min\u001b[39;00m \u001b[38;5;28mrange\u001b[39m(\u001b[38;5;241m0\u001b[39m, \u001b[38;5;28mlen\u001b[39m(arr)\u001b[38;5;241m-\u001b[39m\u001b[38;5;241m1\u001b[39m):\n\u001b[1;32m     64\u001b[0m     \u001b[38;5;28;01mfor\u001b[39;00m j \u001b[38;5;129;01min\u001b[39;00m \u001b[38;5;28mrange\u001b[39m(i\u001b[38;5;241m+\u001b[39m\u001b[38;5;241m1\u001b[39m, \u001b[38;5;28mlen\u001b[39m(arr)):\n\u001b[0;32m---> 65\u001b[0m         \u001b[38;5;28;01mif\u001b[39;00m \u001b[43mBinPacker\u001b[49m\u001b[38;5;241;43m.\u001b[39;49m\u001b[43mmsort\u001b[49m\u001b[43m(\u001b[49m\u001b[43marr\u001b[49m\u001b[43m[\u001b[49m\u001b[43mi\u001b[49m\u001b[43m]\u001b[49m\u001b[43m,\u001b[49m\u001b[43m \u001b[49m\u001b[43marr\u001b[49m\u001b[43m[\u001b[49m\u001b[43mj\u001b[49m\u001b[43m]\u001b[49m\u001b[43m,\u001b[49m\u001b[43m \u001b[49m\u001b[43mcriteria\u001b[49m\u001b[43m)\u001b[49m \u001b[38;5;241m>\u001b[39m \u001b[38;5;241m0\u001b[39m:\n\u001b[1;32m     66\u001b[0m             BinPacker\u001b[38;5;241m.\u001b[39mswap(arr,i,j)\n",
      "Input \u001b[0;32mIn [9]\u001b[0m, in \u001b[0;36mBinPacker.msort\u001b[0;34m(a, b, criteria)\u001b[0m\n\u001b[1;32m     48\u001b[0m diff \u001b[38;5;241m=\u001b[39m \u001b[38;5;241m0\u001b[39m\n\u001b[1;32m     49\u001b[0m \u001b[38;5;28;01mfor\u001b[39;00m n \u001b[38;5;129;01min\u001b[39;00m \u001b[38;5;28mrange\u001b[39m(\u001b[38;5;28mlen\u001b[39m(criteria)):\n\u001b[0;32m---> 50\u001b[0m     diff \u001b[38;5;241m=\u001b[39m \u001b[43mBinPacker\u001b[49m\u001b[38;5;241;43m.\u001b[39;49m\u001b[43mcbsort\u001b[49m\u001b[43m[\u001b[49m\u001b[43mcriteria\u001b[49m\u001b[43m[\u001b[49m\u001b[43mn\u001b[49m\u001b[43m]\u001b[49m\u001b[43m]\u001b[49m\u001b[43m(\u001b[49m\u001b[43ma\u001b[49m\u001b[43m,\u001b[49m\u001b[43mb\u001b[49m\u001b[43m)\u001b[49m\n\u001b[1;32m     51\u001b[0m     \u001b[38;5;28;01mif\u001b[39;00m diff \u001b[38;5;241m!=\u001b[39m \u001b[38;5;241m0\u001b[39m:\n\u001b[1;32m     52\u001b[0m         \u001b[38;5;28;01mbreak\u001b[39;00m\n",
      "Input \u001b[0;32mIn [9]\u001b[0m, in \u001b[0;36mBinPacker.<lambda>\u001b[0;34m(a, b)\u001b[0m\n\u001b[1;32m     30\u001b[0m     \u001b[38;5;28mself\u001b[39m\u001b[38;5;241m.\u001b[39mheight \u001b[38;5;241m=\u001b[39m height\n\u001b[1;32m     31\u001b[0m     \u001b[38;5;28mself\u001b[39m\u001b[38;5;241m.\u001b[39mif_not_found \u001b[38;5;241m=\u001b[39m if_not_found \u001b[38;5;66;03m# \"continue\" or \"break\"\u001b[39;00m\n\u001b[1;32m     33\u001b[0m cbsort \u001b[38;5;241m=\u001b[39m {\n\u001b[1;32m     34\u001b[0m     \u001b[38;5;124m\"\u001b[39m\u001b[38;5;124mw\u001b[39m\u001b[38;5;124m\"\u001b[39m: (\u001b[38;5;28;01mlambda\u001b[39;00m a,b: b[\u001b[38;5;124m\"\u001b[39m\u001b[38;5;124mwidth\u001b[39m\u001b[38;5;124m\"\u001b[39m] \u001b[38;5;241m-\u001b[39m a[\u001b[38;5;124m\"\u001b[39m\u001b[38;5;124mwidth\u001b[39m\u001b[38;5;124m\"\u001b[39m]),\n\u001b[1;32m     35\u001b[0m     \u001b[38;5;124m\"\u001b[39m\u001b[38;5;124mh\u001b[39m\u001b[38;5;124m\"\u001b[39m: (\u001b[38;5;28;01mlambda\u001b[39;00m a,b: b[\u001b[38;5;124m\"\u001b[39m\u001b[38;5;124mheight\u001b[39m\u001b[38;5;124m\"\u001b[39m] \u001b[38;5;241m-\u001b[39m a[\u001b[38;5;124m\"\u001b[39m\u001b[38;5;124mheight\u001b[39m\u001b[38;5;124m\"\u001b[39m]),\n\u001b[1;32m     36\u001b[0m     \u001b[38;5;124m\"\u001b[39m\u001b[38;5;124ma\u001b[39m\u001b[38;5;124m\"\u001b[39m: (\u001b[38;5;28;01mlambda\u001b[39;00m a,b: b[\u001b[38;5;124m\"\u001b[39m\u001b[38;5;124mwidth\u001b[39m\u001b[38;5;124m\"\u001b[39m]\u001b[38;5;241m*\u001b[39mb[\u001b[38;5;124m\"\u001b[39m\u001b[38;5;124mheight\u001b[39m\u001b[38;5;124m\"\u001b[39m] \u001b[38;5;241m-\u001b[39m a[\u001b[38;5;124m\"\u001b[39m\u001b[38;5;124mwidth\u001b[39m\u001b[38;5;124m\"\u001b[39m]\u001b[38;5;241m*\u001b[39ma[\u001b[38;5;124m\"\u001b[39m\u001b[38;5;124mheight\u001b[39m\u001b[38;5;124m\"\u001b[39m]),\n\u001b[1;32m     37\u001b[0m     \u001b[38;5;124m\"\u001b[39m\u001b[38;5;124mmax\u001b[39m\u001b[38;5;124m\"\u001b[39m: (\u001b[38;5;28;01mlambda\u001b[39;00m a,b: \u001b[38;5;28mmax\u001b[39m(b[\u001b[38;5;124m\"\u001b[39m\u001b[38;5;124mwidth\u001b[39m\u001b[38;5;124m\"\u001b[39m], b[\u001b[38;5;124m\"\u001b[39m\u001b[38;5;124mheight\u001b[39m\u001b[38;5;124m\"\u001b[39m]) \u001b[38;5;241m-\u001b[39m \u001b[38;5;28mmax\u001b[39m(a[\u001b[38;5;124m\"\u001b[39m\u001b[38;5;124mwidth\u001b[39m\u001b[38;5;124m\"\u001b[39m], a[\u001b[38;5;124m\"\u001b[39m\u001b[38;5;124mheight\u001b[39m\u001b[38;5;124m\"\u001b[39m])),\n\u001b[1;32m     38\u001b[0m     \u001b[38;5;124m\"\u001b[39m\u001b[38;5;124mmin\u001b[39m\u001b[38;5;124m\"\u001b[39m: (\u001b[38;5;28;01mlambda\u001b[39;00m a,b: \u001b[38;5;28mmin\u001b[39m(b[\u001b[38;5;124m\"\u001b[39m\u001b[38;5;124mwidth\u001b[39m\u001b[38;5;124m\"\u001b[39m], b[\u001b[38;5;124m\"\u001b[39m\u001b[38;5;124mheight\u001b[39m\u001b[38;5;124m\"\u001b[39m]) \u001b[38;5;241m-\u001b[39m \u001b[38;5;28mmin\u001b[39m(a[\u001b[38;5;124m\"\u001b[39m\u001b[38;5;124mwidth\u001b[39m\u001b[38;5;124m\"\u001b[39m], a[\u001b[38;5;124m\"\u001b[39m\u001b[38;5;124mheight\u001b[39m\u001b[38;5;124m\"\u001b[39m])),\n\u001b[1;32m     39\u001b[0m     \u001b[38;5;124m\"\u001b[39m\u001b[38;5;124mrandom\u001b[39m\u001b[38;5;124m\"\u001b[39m: (\u001b[38;5;28;01mlambda\u001b[39;00m a,b: random\u001b[38;5;241m.\u001b[39mrandom() \u001b[38;5;241m-\u001b[39m \u001b[38;5;241m0.5\u001b[39m),\n\u001b[0;32m---> 40\u001b[0m     \u001b[38;5;124m\"\u001b[39m\u001b[38;5;124mheight\u001b[39m\u001b[38;5;124m\"\u001b[39m: (\u001b[38;5;28;01mlambda\u001b[39;00m a,b: \u001b[43mBinPacker\u001b[49m\u001b[38;5;241;43m.\u001b[39;49m\u001b[43mmsort\u001b[49m(a, b, [\u001b[38;5;124m'\u001b[39m\u001b[38;5;124mh\u001b[39m\u001b[38;5;124m'\u001b[39m,\u001b[38;5;124m'\u001b[39m\u001b[38;5;124mw\u001b[39m\u001b[38;5;124m'\u001b[39m])),\n\u001b[1;32m     41\u001b[0m     \u001b[38;5;124m\"\u001b[39m\u001b[38;5;124mwidth\u001b[39m\u001b[38;5;124m\"\u001b[39m: (\u001b[38;5;28;01mlambda\u001b[39;00m a,b: BinPacker\u001b[38;5;241m.\u001b[39mmsort(a, b, [\u001b[38;5;124m'\u001b[39m\u001b[38;5;124mw\u001b[39m\u001b[38;5;124m'\u001b[39m,\u001b[38;5;124m'\u001b[39m\u001b[38;5;124mh\u001b[39m\u001b[38;5;124m'\u001b[39m])),\n\u001b[1;32m     42\u001b[0m     \u001b[38;5;124m\"\u001b[39m\u001b[38;5;124marea\u001b[39m\u001b[38;5;124m\"\u001b[39m: (\u001b[38;5;28;01mlambda\u001b[39;00m a,b: BinPacker\u001b[38;5;241m.\u001b[39mmsort(a, b, [\u001b[38;5;124m'\u001b[39m\u001b[38;5;124ma\u001b[39m\u001b[38;5;124m'\u001b[39m,\u001b[38;5;124m'\u001b[39m\u001b[38;5;124mh\u001b[39m\u001b[38;5;124m'\u001b[39m,\u001b[38;5;124m'\u001b[39m\u001b[38;5;124mw\u001b[39m\u001b[38;5;124m'\u001b[39m])),\n\u001b[1;32m     43\u001b[0m     \u001b[38;5;124m\"\u001b[39m\u001b[38;5;124mmaxside\u001b[39m\u001b[38;5;124m\"\u001b[39m: (\u001b[38;5;28;01mlambda\u001b[39;00m a,b: BinPacker\u001b[38;5;241m.\u001b[39mmsort(a, b, [\u001b[38;5;124m'\u001b[39m\u001b[38;5;124mmax\u001b[39m\u001b[38;5;124m'\u001b[39m,\u001b[38;5;124m'\u001b[39m\u001b[38;5;124mmin\u001b[39m\u001b[38;5;124m'\u001b[39m,\u001b[38;5;124m'\u001b[39m\u001b[38;5;124mh\u001b[39m\u001b[38;5;124m'\u001b[39m,\u001b[38;5;124m'\u001b[39m\u001b[38;5;124mw\u001b[39m\u001b[38;5;124m'\u001b[39m])),\n\u001b[1;32m     44\u001b[0m }\n\u001b[1;32m     46\u001b[0m \u001b[38;5;129m@staticmethod\u001b[39m\n\u001b[1;32m     47\u001b[0m \u001b[38;5;28;01mdef\u001b[39;00m \u001b[38;5;21mmsort\u001b[39m(a, b, criteria):\n\u001b[1;32m     48\u001b[0m     diff \u001b[38;5;241m=\u001b[39m \u001b[38;5;241m0\u001b[39m\n",
      "\u001b[0;31mKeyboardInterrupt\u001b[0m: "
     ]
    }
   ],
   "source": [
    "def makedirs(directory):\n",
    "    if not os.path.exists(directory):\n",
    "        os.makedirs(directory)\n",
    "        \n",
    "def write_image(raw_data, output_dir, i, X_set='train'):\n",
    "    image_filename = os.path.join(output_dir, f\"{X_set}_{i}.webp\")\n",
    "    #pixels = np.array(raw_data, dtype='uint8').reshape(28,28)\n",
    "    #pixels = np.flip(pixels, axis=1)\n",
    "    #pixels = np.rot90(pixels, k=1, axes=(0, 1))\n",
    "    img = Image.fromarray(pixels, mode='L')\n",
    "    img.save(image_filename, format='webp', lossless = True)\n",
    "\n",
    "def draw_object(src, sx,sy, s_width,s_height,\n",
    "                dst, dx,dy, d_width,d_height):\n",
    "    # src\n",
    "    s_width_orig = src.shape[1]\n",
    "    s_height_orig = src.shape[0]\n",
    "    # dst\n",
    "    d_width_orig = dst.shape[1]\n",
    "    d_height_orig = dst.shape[0]\n",
    "    dx -= sx\n",
    "    dy -= sy\n",
    "    for j in range(sy,s_height):\n",
    "        for i in range(sx,s_width):\n",
    "            color = src[j][i]\n",
    "            dst[j+dy][i+dx] = color# if color else 127\n",
    "    return\n",
    "\n",
    "def list_first_val(arr):\n",
    "    for i in arr:\n",
    "        if i > 0:\n",
    "            return 1\n",
    "    return -1\n",
    "    \n",
    "def get_bbox(data):\n",
    "    \"\"\"aligned-axis bounding-box (bounding square)\"\"\"\n",
    "    x1 = 0xffff\n",
    "    y1 = 0xffff\n",
    "    x2 = 0\n",
    "    y2 = 0\n",
    "    # y1\n",
    "    for j in range(len(data)):\n",
    "        if list_first_val(data[j]) > 0:\n",
    "            y1 = j\n",
    "            break\n",
    "    # y2\n",
    "    for j in range(len(data)):\n",
    "        end = len(data)-j-1\n",
    "        if list_first_val(data[end]) > 0:\n",
    "            y2 = end\n",
    "            break\n",
    "    # x1, x2\n",
    "    for j in range(len(data)):\n",
    "        ydata = data[j]\n",
    "        val = 0xffff\n",
    "        last = 0\n",
    "        for i in range(len(ydata)):\n",
    "            if ydata[i] > 0:\n",
    "                x1 = min(x1,i)\n",
    "                x2 = max(x2,i)\n",
    "    return [x1,y1, x2+1,y2+1]\n",
    "    \n",
    "    \n",
    "def emnist_convert(dataset_dir, input_name, output_dir, emnist_mapping, X_set='train'):\n",
    "    X_set_dir = os.path.join(dataset_dir, output_dir, X_set)\n",
    "    makedirs(X_set_dir)\n",
    "    \n",
    "    input_file = os.path.join(dataset_dir, input_name+'-'+X_set+'.csv')\n",
    "    i = 0\n",
    "    \n",
    "    blocks = []\n",
    "    json_output = {\n",
    "        \"width\": 28,\n",
    "        \"height\": 28,\n",
    "        \"files\": [],\n",
    "        \"id\": \"\",\n",
    "        \"bbox\": [],\n",
    "    }\n",
    "    \n",
    "    print(\"begin: read data\")\n",
    "    with open(input_file) as f:\n",
    "        while True:\n",
    "            line = f.readline()\n",
    "            if not line:\n",
    "                break\n",
    "            tmp = [int(s) for s in line.strip().split(',') if s.isdigit()]\n",
    "            #write_image(tmp[1:], X_set_dir, i, X_set)\n",
    "            #print(chr(emnist_mapping[tmp[0]]))\n",
    "            pixels = np.array(tmp[1:], dtype='uint8').reshape(28,28)\n",
    "            pixels = np.flip(pixels, axis=1)\n",
    "            pixels = np.rot90(pixels, k=1, axes=(0, 1))\n",
    "            json_output['id'] += chr(emnist_mapping[tmp[0]])\n",
    "            json_output['bbox'].append(get_bbox(pixels))\n",
    "            blocks.append({\n",
    "                \"width\": 28, \"height\": 28,\n",
    "                \"data\": {\n",
    "                    \"idx\": i,\n",
    "                    \"val\": chr(emnist_mapping[tmp[0]]),\n",
    "                    \"pixels\": pixels\n",
    "                }\n",
    "            })\n",
    "            i += 1\n",
    "            if i > 600:\n",
    "                break\n",
    "\n",
    "    print(\"begin: export files\")\n",
    "    count = 0\n",
    "    while len(blocks) > 0:\n",
    "        packer = BinPacker(4096,4096)\n",
    "        res = packer.fit(blocks, [\"height\"])\n",
    "        # advance on the next pack that couldn't be fitted\n",
    "        blocks = blocks[len(res):]\n",
    "        dst = np.zeros((packer.width,packer.height), dtype=\"uint8\")\n",
    "        count_prev = count\n",
    "        for i in range(len(res)):\n",
    "            node = res[i]\n",
    "            if node.data == \"empty\":\n",
    "                continue\n",
    "            count += 1\n",
    "            idx = node.data['idx']\n",
    "            val = node.data['val']\n",
    "            ##print(idx, node.x,node.y, packer.width,packer.height)\n",
    "            draw_object(node.data['pixels'],\n",
    "                        0,0, 28,28,\n",
    "                        dst, node.x,node.y, packer.width,packer.height)\n",
    "        # write image\n",
    "        image_filename = \"X_{}_{}_to_{}.webp\".format(X_set,count_prev,count-1)\n",
    "        image_filename = os.path.join(X_set_dir, image_filename)\n",
    "        json_output['files'].append(image_filename)\n",
    "        print(\"save:\", image_filename)\n",
    "        img = Image.fromarray(dst, mode='L')\n",
    "        img.save(image_filename, format='webp', lossless = True)\n",
    "        # plot image\n",
    "        #plt.figure(figsize = (20,20))\n",
    "        #plt.imshow(dst, cmap='gray')\n",
    "        #plt.show()\n",
    "    \n",
    "    # write json file\n",
    "    json_filename = os.path.join(X_set_dir, X_set + \".json\")\n",
    "    json_dump = json.dumps(json_output,separators=(',',':'))\n",
    "    with open(json_filename, 'w', encoding='utf-8') as f:\n",
    "        f.write(json_dump)\n",
    "            \n",
    "set_name = 'emnist-balanced'\n",
    "emnist_convert(dataset_dir, set_name, 'origin-'+set_name, emnist_mapping, 'test')\n"
   ]
  }
 ],
 "metadata": {
  "kernelspec": {
   "display_name": "Python 3 (ipykernel)",
   "language": "python",
   "name": "python3"
  },
  "language_info": {
   "codemirror_mode": {
    "name": "ipython",
    "version": 3
   },
   "file_extension": ".py",
   "mimetype": "text/x-python",
   "name": "python",
   "nbconvert_exporter": "python",
   "pygments_lexer": "ipython3",
   "version": "3.8.12"
  },
  "toc": {
   "base_numbering": 1,
   "nav_menu": {},
   "number_sections": true,
   "sideBar": true,
   "skip_h1_title": false,
   "title_cell": "Table of Contents",
   "title_sidebar": "Contents",
   "toc_cell": false,
   "toc_position": {},
   "toc_section_display": true,
   "toc_window_display": true
  }
 },
 "nbformat": 4,
 "nbformat_minor": 5
}
