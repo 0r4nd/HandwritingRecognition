{
 "cells": [
  {
   "cell_type": "markdown",
   "id": "685c70d8",
   "metadata": {},
   "source": [
    "# Imports"
   ]
  },
  {
   "cell_type": "code",
   "execution_count": 218,
   "id": "cc8125b9",
   "metadata": {
    "ExecuteTime": {
     "end_time": "2023-06-21T21:16:17.456366Z",
     "start_time": "2023-06-21T21:16:17.433601Z"
    }
   },
   "outputs": [],
   "source": [
    "# misc\n",
    "import sys\n",
    "import os\n",
    "\n",
    "# load/save files\n",
    "import zipfile\n",
    "import json\n",
    "\n",
    "# plot\n",
    "import matplotlib.pyplot as plt\n",
    "from PIL import Image\n",
    "\n",
    "# datascience libs\n",
    "import numpy as np\n",
    "import pandas as pd\n",
    "\n",
    "\n",
    "\n",
    "try: # python\n",
    "    path_ = os.path.join(os.path.dirname(os.path.abspath(__file__)), \"..\")\n",
    "except NameError: # jupyter notebook\n",
    "    path_ = os.path.dirname(os.getcwd())\n",
    "\n",
    "dataset_dir = os.path.join(path_, \"datasets\")\n",
    "model_dir = os.path.join(path_, \"models\")\n"
   ]
  },
  {
   "cell_type": "markdown",
   "id": "4073800f",
   "metadata": {},
   "source": [
    "# Google colab"
   ]
  },
  {
   "cell_type": "code",
   "execution_count": null,
   "id": "c96a786f",
   "metadata": {},
   "outputs": [],
   "source": [
    "from google.colab import drive\n",
    "drive.mount('/content/drive')\n",
    "\n",
    "path_ = \"/content/drive/MyDrive/\"\n",
    "dataset_dir = os.path.join(path_, \"datasets\")\n",
    "model_dir = os.path.join(path_, \"models\")\n",
    "dataset_dir_url = \"\""
   ]
  },
  {
   "cell_type": "markdown",
   "id": "2d3f1a9c",
   "metadata": {},
   "source": [
    "# Read mapping file"
   ]
  },
  {
   "cell_type": "code",
   "execution_count": 219,
   "id": "0d0ede7f",
   "metadata": {
    "ExecuteTime": {
     "end_time": "2023-06-21T21:16:22.763189Z",
     "start_time": "2023-06-21T21:16:22.744586Z"
    }
   },
   "outputs": [],
   "source": [
    "def emnist_get_mapping(filepath):\n",
    "    max_index = 0\n",
    "    data = {}\n",
    "    with open(filepath) as f:\n",
    "        while True:\n",
    "            line = f.readline()\n",
    "            if not line:\n",
    "                break\n",
    "            tmp = [int(s) for s in line.strip().split(' ') if s.isdigit()]\n",
    "            data[tmp[0]] = tmp[1]\n",
    "            max_index = max(max_index, tmp[0])\n",
    "    # create array with size\n",
    "    emnist_mapping = [-1] * (max_index + 1)\n",
    "    # dict to array\n",
    "    for key, val in data.items():\n",
    "        emnist_mapping[key] = val\n",
    "    return emnist_mapping"
   ]
  },
  {
   "cell_type": "markdown",
   "id": "b306e956",
   "metadata": {},
   "source": [
    "# Converter"
   ]
  },
  {
   "cell_type": "markdown",
   "id": "4c8dbb8f",
   "metadata": {},
   "source": [
    "## BinPacker class"
   ]
  },
  {
   "cell_type": "code",
   "execution_count": 220,
   "id": "8e324ee5",
   "metadata": {
    "ExecuteTime": {
     "end_time": "2023-06-21T21:16:26.441319Z",
     "start_time": "2023-06-21T21:16:26.356721Z"
    }
   },
   "outputs": [],
   "source": [
    "import random\n",
    "\n",
    "class BinPackerNode:\n",
    "    def __init__(self, x=0, y=0, width=0,height=0, data=None, left=None,right=None):\n",
    "        self.x = x\n",
    "        self.y = y\n",
    "        self.width = width\n",
    "        self.height = height\n",
    "        self.data = data\n",
    "        self.left = left\n",
    "        self.right = right\n",
    "\n",
    "    def split(self, data, width, height):\n",
    "        self.data = data\n",
    "        self.left = BinPackerNode(self.x,self.y+height, self.width, self.height-height)\n",
    "        self.right = BinPackerNode(self.x+width,self.y, self.width-width, height)\n",
    "        return self\n",
    "\n",
    "    @staticmethod\n",
    "    def find(node, width, height):\n",
    "        if node.data:\n",
    "            return BinPackerNode.find(node.right, width, height) or BinPackerNode.find(node.left, width, height)\n",
    "        elif width <= node.width and height <= node.height:\n",
    "            return node\n",
    "        return None\n",
    "\n",
    "\n",
    "class BinPacker:\n",
    "    def __init__(self, width, height, verbose=0, percentage_completion=0):\n",
    "        self.root = BinPackerNode(0,0,width,height)\n",
    "        self.width = width\n",
    "        self.height = height\n",
    "        self.verbose = verbose\n",
    "        self.percentage_completion = percentage_completion\n",
    "\n",
    "    cbsort = {\n",
    "        \"w\": (lambda a,b: b[\"width\"] - a[\"width\"]),\n",
    "        \"h\": (lambda a,b: b[\"height\"] - a[\"height\"]),\n",
    "        \"a\": (lambda a,b: b[\"width\"]*b[\"height\"] - a[\"width\"]*a[\"height\"]),\n",
    "        \"max\": (lambda a,b: max(b[\"width\"], b[\"height\"]) - max(a[\"width\"], a[\"height\"])),\n",
    "        \"min\": (lambda a,b: min(b[\"width\"], b[\"height\"]) - min(a[\"width\"], a[\"height\"])),\n",
    "        \"random\": (lambda a,b: random.random() - 0.5),\n",
    "        \"height\": (lambda a,b: BinPacker.msort(a, b, ['h','w'])),\n",
    "        \"width\": (lambda a,b: BinPacker.msort(a, b, ['w','h'])),\n",
    "        \"area\": (lambda a,b: BinPacker.msort(a, b, ['a','h','w'])),\n",
    "        \"maxside\": (lambda a,b: BinPacker.msort(a, b, ['max','min','h','w'])),\n",
    "    }\n",
    "\n",
    "    @staticmethod\n",
    "    def msort(a, b, criteria):\n",
    "        diff = 0\n",
    "        for n in range(len(criteria)):\n",
    "            diff = BinPacker.cbsort[criteria[n]](a,b)\n",
    "            if diff != 0:\n",
    "                break\n",
    "        return diff\n",
    "\n",
    "    @staticmethod\n",
    "    def swap(a,i,j):\n",
    "        t = a[i]\n",
    "        a[i] = a[j]\n",
    "        a[j] = t\n",
    "\n",
    "    @staticmethod\n",
    "    def sort(arr, criteria = ['height']):\n",
    "        for i in range(0, len(arr)-1):\n",
    "            for j in range(i+1, len(arr)):\n",
    "                if BinPacker.msort(arr[i], arr[j], criteria) > 0:\n",
    "                    BinPacker.swap(arr,i,j)\n",
    "\n",
    "\n",
    "    def fit(self, blocks_src, criteria = ['height']):\n",
    "        res = []\n",
    "        blocks = []\n",
    "\n",
    "        for i in range(len(blocks_src)):\n",
    "            blocks.append(blocks_src[i])\n",
    "\n",
    "        # if criteria doesn't exist, we assume that all boxes have the same size\n",
    "        if not criteria == None:\n",
    "            if self.verbose:\n",
    "                print(\"Sorting nodes\")\n",
    "            BinPacker.sort(blocks, criteria)\n",
    "\n",
    "        blocks_count = len(blocks)\n",
    "        for i in range(blocks_count):\n",
    "            block = blocks[i]\n",
    "            w = block[\"width\"]\n",
    "            h = block[\"height\"]\n",
    "            node = BinPackerNode.find(self.root, w,h)\n",
    "            if not node:\n",
    "                # if criteria doesn't exist, we assume that all boxes have the same size\n",
    "                if criteria == None:\n",
    "                     break\n",
    "                continue\n",
    "            if not node.split(block[\"data\"] if \"data\" in block else \"empty\", w,h):\n",
    "                continue\n",
    "            node.width = w\n",
    "            node.height = h\n",
    "            res.append(node)\n",
    "\n",
    "            new_percentage = int((i * 100) / blocks_count)\n",
    "            if new_percentage > self.percentage_completion:\n",
    "                self.percentage_completion = new_percentage\n",
    "                if self.verbose:\n",
    "                    print(\"Insert nodes {}%\".format(self.percentage_completion))\n",
    "        return res\n",
    "    "
   ]
  },
  {
   "cell_type": "code",
   "execution_count": 216,
   "id": "e122d94b",
   "metadata": {
    "ExecuteTime": {
     "end_time": "2023-06-21T16:35:42.183844Z",
     "start_time": "2023-06-21T16:35:42.131215Z"
    }
   },
   "outputs": [
    {
     "name": "stdout",
     "output_type": "stream",
     "text": [
      "area: 10\n"
     ]
    },
    {
     "data": {
      "text/plain": [
       "{'count': [[4088, 1]], 'grid': [10]}"
      ]
     },
     "execution_count": 216,
     "metadata": {},
     "output_type": "execute_result"
    }
   ],
   "source": [
    "import math\n",
    "\n",
    "def split_to_chunks(length, chunk_size=3):\n",
    "    chunks = math.ceil(length/float(chunk_size))\n",
    "    res = []\n",
    "    if (chunk_size >= length):\n",
    "        return [length]\n",
    "    for i in range(chunks-1):\n",
    "        res.append(chunk_size*(i+1) - (chunk_size*i))\n",
    "    res.append(length - chunk_size*(i+1))\n",
    "    return res\n",
    "\n",
    "def area_to_rectangle(area):\n",
    "    height = math.ceil(math.sqrt(area))\n",
    "    while height > 1:\n",
    "        if area % height == 0:\n",
    "            break\n",
    "        height -= 1\n",
    "    return [int(area / height)*28, int(height)*28]\n",
    "\n",
    "def area_to_grid_rectangle(area, max_tiles_width, tile_width):\n",
    "    #rest = area % width\n",
    "    #arr = area_to_rectangle(area)\n",
    "    #return [arr[0], arr[1]]\n",
    "    print(\"area:\", area)\n",
    "    width = max_tiles_width * tile_width\n",
    "    height = math.ceil(area / width)\n",
    "    #if height == 1:\n",
    "    #    width = (area * tile_width) / tile_width\n",
    "    return [width, height]\n",
    "\n",
    "\n",
    "def size_to_pack(tiles_count, tile_width=28, tile_height=28,\n",
    "                 max_width=256, max_height=256):\n",
    "    max_tiles_width = max_width // tile_width\n",
    "    max_tiles_height = max_height // tile_height\n",
    "    count = []\n",
    "    splited = split_to_chunks(tiles_count, max_tiles_width * max_tiles_height)\n",
    "    for i in range(len(splited)-1):\n",
    "        count.append(area_to_rectangle(splited[i]))\n",
    "    # last one\n",
    "    count.append(area_to_grid_rectangle(splited[-1], max_tiles_width, tile_width))\n",
    "    return {\"count\": count, \"grid\": splited}\n",
    "\n",
    "size_to_pack(tiles_count=10, tile_width=28, tile_height=28,\n",
    "             max_width=4096, max_height=4096)\n"
   ]
  },
  {
   "cell_type": "markdown",
   "id": "8520df4b",
   "metadata": {},
   "source": [
    "## Converter"
   ]
  },
  {
   "cell_type": "code",
   "execution_count": 3,
   "id": "234d806a",
   "metadata": {
    "ExecuteTime": {
     "end_time": "2023-06-18T13:47:30.171931Z",
     "start_time": "2023-06-18T13:47:30.113259Z"
    },
    "scrolled": true
   },
   "outputs": [],
   "source": [
    "def makedirs(directory):\n",
    "    if not os.path.exists(directory):\n",
    "        os.makedirs(directory)\n",
    "    return\n",
    "\n",
    "\n",
    "def draw_object(src, sx,sy, s_width,s_height,\n",
    "                dst, dx,dy, d_width,d_height):\n",
    "    # src\n",
    "    s_width_orig = src.shape[1]\n",
    "    s_height_orig = src.shape[0]\n",
    "    # dst\n",
    "    d_width_orig = dst.shape[1]\n",
    "    d_height_orig = dst.shape[0]\n",
    "    dx -= sx\n",
    "    dy -= sy\n",
    "    for j in range(sy,s_height):\n",
    "        for i in range(sx,s_width):\n",
    "            color = src[j][i]\n",
    "            dst[j+dy][i+dx] = color# if color else 127\n",
    "    return\n",
    "\n",
    "def list_first_val(arr):\n",
    "    for i in arr:\n",
    "        if i > 0:\n",
    "            return 1\n",
    "    return -1\n",
    "\n",
    "def get_bbox(data):\n",
    "    \"\"\"aligned-axis bounding-box (bounding square)\"\"\"\n",
    "    x1 = 0xffff\n",
    "    y1 = 0xffff\n",
    "    x2 = 0\n",
    "    y2 = 0\n",
    "    # y1\n",
    "    for j in range(len(data)):\n",
    "        if list_first_val(data[j]) > 0:\n",
    "            y1 = j\n",
    "            break\n",
    "    # y2\n",
    "    for j in range(len(data)):\n",
    "        end = len(data)-j-1\n",
    "        if list_first_val(data[end]) > 0:\n",
    "            y2 = end\n",
    "            break\n",
    "    # x1, x2\n",
    "    for j in range(len(data)):\n",
    "        ydata = data[j]\n",
    "        val = 0xffff\n",
    "        last = 0\n",
    "        for i in range(len(ydata)):\n",
    "            if ydata[i] > 0:\n",
    "                x1 = min(x1,i)\n",
    "                x2 = max(x2,i)\n",
    "    return [x1,y1, x2+1,y2+1]\n",
    "\n",
    "\n",
    "def emnist_convert(dataset_dir, input_name, output_dir, emnist_mapping, X_set='train',\n",
    "                   max_width=4096, max_height=4096):\n",
    "    X_set_dir = os.path.join(dataset_dir, output_dir)\n",
    "    makedirs(X_set_dir)\n",
    "\n",
    "    input_file = os.path.join(dataset_dir, input_name+'-'+X_set+'.csv')\n",
    "    i = 0\n",
    "\n",
    "    blocks = []\n",
    "    json_output = {\n",
    "        \"width\": 28,\n",
    "        \"height\": 28,\n",
    "        \"files\": [],\n",
    "        \"id\": \"\",\n",
    "        \"bbox\": [],\n",
    "    }\n",
    "\n",
    "    print(\"Read data\")\n",
    "    with open(input_file) as f:\n",
    "        while True:\n",
    "            line = f.readline()\n",
    "            if not line:\n",
    "                break\n",
    "            tmp = [int(s) for s in line.strip().split(',') if s.isdigit()]\n",
    "            pixels = np.array(tmp[1:], dtype='uint8').reshape(28,28)\n",
    "            pixels = np.flip(pixels, axis=1)\n",
    "            pixels = np.rot90(pixels, k=1, axes=(0, 1))\n",
    "            json_output['id'] += chr(emnist_mapping[tmp[0]])\n",
    "            json_output['bbox'].append(get_bbox(pixels))\n",
    "            blocks.append({\n",
    "                \"width\": 28, \"height\": 28,\n",
    "                \"data\": {\n",
    "                    \"idx\": i,\n",
    "                    \"pixels\": pixels\n",
    "                }\n",
    "            })\n",
    "            i += 1\n",
    "            #if i > 2000:\n",
    "            #    break\n",
    "\n",
    "    print(\"Build tree\")\n",
    "    count = 0\n",
    "    while len(blocks) > 0:\n",
    "        percentage = packer.percentage_completion if 'packer' in locals() else 0\n",
    "        packer = BinPacker(max_width,max_height, verbose=1, percentage_completion = percentage)\n",
    "        res = packer.fit(blocks, None)\n",
    "        # advance on the next pack that couldn't be fitted\n",
    "        blocks = blocks[len(res):]\n",
    "        dst = np.zeros((packer.width,packer.height), dtype=\"uint8\")\n",
    "        count_prev = count\n",
    "        for i in range(len(res)):\n",
    "            node = res[i]\n",
    "            if node.data == \"empty\":\n",
    "                continue\n",
    "            count += 1\n",
    "            draw_object(node.data['pixels'],\n",
    "                        0,0, 28,28,\n",
    "                        dst, node.x,node.y, packer.width,packer.height)\n",
    "        # write image\n",
    "        image_filename = \"X_{}_{}_to_{}.webp\".format(X_set,count_prev,count-1)\n",
    "        image_filename = os.path.join(X_set_dir, image_filename)\n",
    "        json_output['files'].append(image_filename)\n",
    "        print(\"Save:\", image_filename)\n",
    "        img = Image.fromarray(dst, mode='L')\n",
    "        img.save(image_filename, format='webp', lossless = True)\n",
    "        # plot image\n",
    "        #plt.figure(figsize = (20,20))\n",
    "        #plt.imshow(dst, cmap='gray')\n",
    "        #plt.show()\n",
    "\n",
    "    # write json file\n",
    "    json_filename = os.path.join(X_set_dir, X_set + \".json\")\n",
    "    json_dump = json.dumps(json_output,separators=(',',':'))\n",
    "    with open(json_filename, 'w', encoding='utf-8') as f:\n",
    "        f.write(json_dump)\n",
    "        print(\"Save:\", json_filename)\n",
    "    print(\"End\")"
   ]
  },
  {
   "cell_type": "code",
   "execution_count": 217,
   "id": "f7591172",
   "metadata": {
    "ExecuteTime": {
     "end_time": "2023-06-21T21:16:12.456743Z",
     "start_time": "2023-06-21T21:16:12.239684Z"
    }
   },
   "outputs": [],
   "source": [
    "try:\n",
    "    from types import SimpleNamespace as Namespace\n",
    "except ImportError:\n",
    "    from argparse import Namespace\n",
    "\n",
    "#(X_train, y_train), (X_test, y_test) = datasets.mnist.load_data(path=\"mnist.npz\")\n",
    "def load_data(dir_path):\n",
    "    test_path = os.path.join(dir_path, \"test.json\")\n",
    "    train_path = os.path.join(dir_path, \"train.json\")\n",
    "    with open(test_path, 'r', encoding='utf-8') as f:\n",
    "        obj = json.loads(f.read(), object_hook = lambda d: Namespace(**d))\n",
    "    for s in obj.files:\n",
    "        #print(os.path.basename(s))\n",
    "        img_path = os.path.join(dir_path, os.path.basename(s))\n",
    "        img = Image.open(img_path)\n",
    "        #plt.figure(figsize = (20,20))\n",
    "        #plt.imshow(img, cmap='gray')\n",
    "        #plt.show()\n",
    "        \n",
    "load_data(os.path.join(dataset_dir, \"emnist-mnist\"))\n"
   ]
  },
  {
   "cell_type": "markdown",
   "id": "e88aa69e",
   "metadata": {},
   "source": [
    "## emnist-balanced (best)"
   ]
  },
  {
   "cell_type": "code",
   "execution_count": null,
   "id": "00409260",
   "metadata": {},
   "outputs": [],
   "source": [
    "set_name = 'emnist-balanced'\n",
    "emnist_mapping = emnist_get_mapping(os.path.join(dataset_dir, set_name + '-mapping.txt'))\n",
    "print(\"mapping:\", emnist_mapping)\n",
    "emnist_convert(dataset_dir, set_name, 'origin-'+set_name, emnist_mapping, 'test')\n",
    "emnist_convert(dataset_dir, set_name, 'origin-'+set_name, emnist_mapping, 'train')"
   ]
  },
  {
   "cell_type": "markdown",
   "id": "fba12919",
   "metadata": {},
   "source": [
    "## emnist-mnist (basic, only digits)"
   ]
  },
  {
   "cell_type": "code",
   "execution_count": null,
   "id": "a2c09bf4",
   "metadata": {},
   "outputs": [],
   "source": [
    "set_name = 'emnist-mnist'\n",
    "emnist_mapping = emnist_get_mapping(os.path.join(dataset_dir, set_name + '-mapping.txt'))\n",
    "print(\"mapping:\", emnist_mapping)\n",
    "emnist_convert(dataset_dir, set_name, 'origin-'+set_name, emnist_mapping, 'test')\n",
    "emnist_convert(dataset_dir, set_name, 'origin-'+set_name, emnist_mapping, 'train')"
   ]
  }
 ],
 "metadata": {
  "kernelspec": {
   "display_name": "Python 3 (ipykernel)",
   "language": "python",
   "name": "python3"
  },
  "language_info": {
   "codemirror_mode": {
    "name": "ipython",
    "version": 3
   },
   "file_extension": ".py",
   "mimetype": "text/x-python",
   "name": "python",
   "nbconvert_exporter": "python",
   "pygments_lexer": "ipython3",
   "version": "3.8.12"
  },
  "toc": {
   "base_numbering": 1,
   "nav_menu": {},
   "number_sections": true,
   "sideBar": true,
   "skip_h1_title": false,
   "title_cell": "Table of Contents",
   "title_sidebar": "Contents",
   "toc_cell": false,
   "toc_position": {},
   "toc_section_display": true,
   "toc_window_display": true
  }
 },
 "nbformat": 4,
 "nbformat_minor": 5
}
