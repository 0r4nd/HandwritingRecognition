{
 "cells": [
  {
   "cell_type": "markdown",
   "id": "1699f1fe",
   "metadata": {},
   "source": [
    "# Imports"
   ]
  },
  {
   "cell_type": "code",
   "execution_count": 15,
   "id": "0c5cfc1f",
   "metadata": {
    "ExecuteTime": {
     "end_time": "2023-06-16T20:50:33.191719Z",
     "start_time": "2023-06-16T20:50:33.172471Z"
    }
   },
   "outputs": [],
   "source": [
    "# misc\n",
    "import os\n",
    "\n",
    "# plot\n",
    "import matplotlib.pyplot as plt\n",
    "from PIL import Image\n",
    "\n",
    "# datascience libs\n",
    "import numpy as np\n",
    "import pandas as pd\n",
    "\n",
    "\n",
    "\n",
    "try: # python\n",
    "    path_ = os.path.join(os.path.dirname(os.path.abspath(__file__)), \"..\")\n",
    "except NameError: # jupyter notebook\n",
    "    path_ = os.path.dirname(os.getcwd())\n",
    "\n",
    "dataset_dir = os.path.join(path_, \"datasets\")\n",
    "model_dir = os.path.join(path_, \"models\")"
   ]
  },
  {
   "cell_type": "markdown",
   "id": "a9c53eb4",
   "metadata": {},
   "source": [
    "# Read mapping file"
   ]
  },
  {
   "cell_type": "code",
   "execution_count": 41,
   "id": "b93a6783",
   "metadata": {
    "ExecuteTime": {
     "end_time": "2023-06-16T21:36:26.601380Z",
     "start_time": "2023-06-16T21:36:26.575604Z"
    }
   },
   "outputs": [
    {
     "name": "stdout",
     "output_type": "stream",
     "text": [
      "[48, 49, 50, 51, 52, 53, 54, 55, 56, 57, 65, 66, 67, 68, 69, 70, 71, 72, 73, 74, 75, 76, 77, 78, 79, 80, 81, 82, 83, 84, 85, 86, 87, 88, 89, 90, 97, 98, 100, 101, 102, 103, 104, 110, 113, 114, 116]\n"
     ]
    }
   ],
   "source": [
    "def emnist_get_mapping(filepath):\n",
    "    max_index = 0\n",
    "    data = {}\n",
    "    with open(filepath) as f:\n",
    "        while True:\n",
    "            line = f.readline()\n",
    "            if not line:\n",
    "                break\n",
    "            tmp = [int(s) for s in line.strip().split(' ') if s.isdigit()]\n",
    "            data[tmp[0]] = tmp[1]\n",
    "            max_index = max(max_index, tmp[0])\n",
    "    # create array with size\n",
    "    emnist_mapping = [-1] * (max_index + 1)\n",
    "    # dict to array\n",
    "    for key, val in data.items():\n",
    "        emnist_mapping[key] = val\n",
    "    return emnist_mapping\n",
    "\n",
    "set_name = 'emnist-balanced'\n",
    "emnist_mapping = emnist_get_mapping(os.path.join(dataset_dir, set_name + '-mapping.txt'))\n",
    "\n",
    "print(emnist_mapping)"
   ]
  },
  {
   "cell_type": "markdown",
   "id": "d7601df3",
   "metadata": {},
   "source": [
    "# Converter"
   ]
  },
  {
   "cell_type": "code",
   "execution_count": 3,
   "id": "1ec91042",
   "metadata": {
    "ExecuteTime": {
     "end_time": "2023-06-16T20:15:56.246490Z",
     "start_time": "2023-06-16T20:15:52.396835Z"
    }
   },
   "outputs": [],
   "source": [
    "df = pd.read_csv(os.path.join(dataset_dir, 'emnist-balanced-test.csv'), header=None)"
   ]
  },
  {
   "cell_type": "code",
   "execution_count": 4,
   "id": "7a812774",
   "metadata": {
    "ExecuteTime": {
     "end_time": "2023-06-16T20:16:02.293372Z",
     "start_time": "2023-06-16T20:16:02.242783Z"
    }
   },
   "outputs": [
    {
     "data": {
      "text/plain": [
       "\"filepath = os.path.join(dataset_dir, 'emnist-balanced-test.csv')\\nwith open(filepath) as f:\\n    line = f.readline()\\nprint(line)\""
      ]
     },
     "execution_count": 4,
     "metadata": {},
     "output_type": "execute_result"
    }
   ],
   "source": [
    "\"\"\"filepath = os.path.join(dataset_dir, 'emnist-balanced-test.csv')\n",
    "with open(filepath) as f:\n",
    "    line = f.readline()\n",
    "print(line)\"\"\""
   ]
  },
  {
   "cell_type": "code",
   "execution_count": 46,
   "id": "6ee1d7f2",
   "metadata": {
    "ExecuteTime": {
     "end_time": "2023-06-16T21:38:21.817699Z",
     "start_time": "2023-06-16T21:38:21.784884Z"
    }
   },
   "outputs": [
    {
     "name": "stdout",
     "output_type": "stream",
     "text": [
      "g\n"
     ]
    }
   ],
   "source": [
    "def makedirs(directory):\n",
    "    if not os.path.exists(directory):\n",
    "        os.makedirs(directory)\n",
    "        \n",
    "def write_image(raw_data, output_dir, i, X_set='train'):\n",
    "    png_filename = os.path.join(output_dir, f\"{X_set}_{i}.png\")\n",
    "    pixels = np.flip(np.array(raw_data, dtype='uint8').reshape(28,28), axis=1)\n",
    "    #pixels = np.flip(pixels, axis=1)\n",
    "    pixels = np.rot90(pixels, k=1, axes=(0, 1))\n",
    "    #print(pixels, output_dir)\n",
    "    img = Image.fromarray(pixels, mode='L')\n",
    "    img.save(png_filename, format='PNG', bits=8)\n",
    "\n",
    "def emnist_convert(dataset_dir, input_name, output_dir, emnist_mapping, X_set='train'):\n",
    "    X_set_dir = os.path.join(dataset_dir, output_dir, X_set)\n",
    "    makedirs(X_set_dir)\n",
    "    \n",
    "    input_file = os.path.join(dataset_dir, input_name+'-'+X_set+'.csv')\n",
    "    i = 0\n",
    "    with open(input_file) as f:\n",
    "        while True:\n",
    "            line = f.readline()\n",
    "            if not line:\n",
    "                break\n",
    "            tmp = [int(s) for s in line.strip().split(',') if s.isdigit()]\n",
    "            write_image(tmp[1:], X_set_dir, i, X_set)\n",
    "            print(chr(emnist_mapping[tmp[0]]))\n",
    "            i += 1\n",
    "            break # temporary\n",
    "    \n",
    "set_name = 'emnist-balanced'\n",
    "emnist_convert(dataset_dir, set_name, 'origin-'+set_name, emnist_mapping, 'test')\n"
   ]
  }
 ],
 "metadata": {
  "kernelspec": {
   "display_name": "Python 3 (ipykernel)",
   "language": "python",
   "name": "python3"
  },
  "language_info": {
   "codemirror_mode": {
    "name": "ipython",
    "version": 3
   },
   "file_extension": ".py",
   "mimetype": "text/x-python",
   "name": "python",
   "nbconvert_exporter": "python",
   "pygments_lexer": "ipython3",
   "version": "3.8.12"
  },
  "toc": {
   "base_numbering": 1,
   "nav_menu": {},
   "number_sections": true,
   "sideBar": true,
   "skip_h1_title": false,
   "title_cell": "Table of Contents",
   "title_sidebar": "Contents",
   "toc_cell": false,
   "toc_position": {},
   "toc_section_display": true,
   "toc_window_display": true
  }
 },
 "nbformat": 4,
 "nbformat_minor": 5
}
