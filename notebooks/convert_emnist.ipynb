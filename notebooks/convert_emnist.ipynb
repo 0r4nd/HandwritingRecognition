{
 "cells": [
  {
   "cell_type": "markdown",
   "id": "accb88d7",
   "metadata": {},
   "source": [
    "# Imports"
   ]
  },
  {
   "cell_type": "code",
   "execution_count": 1,
   "id": "7bd2f02c",
   "metadata": {
    "ExecuteTime": {
     "end_time": "2023-06-16T20:13:44.561153Z",
     "start_time": "2023-06-16T20:13:41.331473Z"
    }
   },
   "outputs": [],
   "source": [
    "# misc\n",
    "import os\n",
    "\n",
    "# plot\n",
    "import matplotlib.pyplot as plt\n",
    "\n",
    "# datascience libs\n",
    "import numpy as np\n",
    "import pandas as pd\n",
    "\n",
    "\n",
    "\n",
    "try: # python\n",
    "    path_ = os.path.join(os.path.dirname(os.path.abspath(__file__)), \"..\")\n",
    "except NameError: # jupyter notebook\n",
    "    path_ = os.path.dirname(os.getcwd())\n",
    "\n",
    "dataset_dir = os.path.join(path_, \"datasets\")\n",
    "model_dir = os.path.join(path_, \"models\")"
   ]
  },
  {
   "cell_type": "markdown",
   "id": "04417dc3",
   "metadata": {},
   "source": [
    "# Read mapping file"
   ]
  },
  {
   "cell_type": "code",
   "execution_count": 2,
   "id": "9003d424",
   "metadata": {
    "ExecuteTime": {
     "end_time": "2023-06-16T20:13:48.925397Z",
     "start_time": "2023-06-16T20:13:48.883798Z"
    }
   },
   "outputs": [
    {
     "name": "stdout",
     "output_type": "stream",
     "text": [
      "[48, 49, 50, 51, 52, 53, 54, 55, 56, 57, 65, 66, 67, 68, 69, 70, 71, 72, 73, 74, 75, 76, 77, 78, 79, 80, 81, 82, 83, 84, 85, 86, 87, 88, 89, 90, 97, 98, 100, 101, 102, 103, 104, 110, 113, 114, 116]\n"
     ]
    }
   ],
   "source": [
    "def emnist_get_mapping(filepath):\n",
    "    max_index = 0\n",
    "    data = {}\n",
    "    with open(filepath) as f:\n",
    "        while True:\n",
    "            line = f.readline()\n",
    "            if not line:\n",
    "                break\n",
    "            tmp = [int(s) for s in line.strip().split() if s.isdigit()]\n",
    "            data[tmp[0]] = tmp[1]\n",
    "            max_index = max(max_index, tmp[0])\n",
    "    # create array with size\n",
    "    emnist_mapping = [-1] * (max_index + 1)\n",
    "    # dict to array\n",
    "    for key, val in data.items():\n",
    "        emnist_mapping[key] = val\n",
    "    return emnist_mapping\n",
    "\n",
    "set_name = 'emnist-balanced'\n",
    "emnist_mapping = emnist_get_mapping(os.path.join(dataset_dir, set_name + '-mapping.txt'))\n",
    "\n",
    "print(emnist_mapping)"
   ]
  },
  {
   "cell_type": "markdown",
   "id": "3ece174a",
   "metadata": {},
   "source": [
    "# Converter"
   ]
  },
  {
   "cell_type": "code",
   "execution_count": 3,
   "id": "5fd75be7",
   "metadata": {
    "ExecuteTime": {
     "end_time": "2023-06-16T20:15:56.246490Z",
     "start_time": "2023-06-16T20:15:52.396835Z"
    }
   },
   "outputs": [],
   "source": [
    "df = pd.read_csv(os.path.join(dataset_dir, 'emnist-balanced-test.csv'), header=None)"
   ]
  },
  {
   "cell_type": "code",
   "execution_count": 4,
   "id": "dfc9be98",
   "metadata": {
    "ExecuteTime": {
     "end_time": "2023-06-16T20:16:02.293372Z",
     "start_time": "2023-06-16T20:16:02.242783Z"
    }
   },
   "outputs": [
    {
     "data": {
      "text/plain": [
       "\"filepath = os.path.join(dataset_dir, 'emnist-balanced-test.csv')\\nwith open(filepath) as f:\\n    line = f.readline()\\nprint(line)\""
      ]
     },
     "execution_count": 4,
     "metadata": {},
     "output_type": "execute_result"
    }
   ],
   "source": [
    "\"\"\"filepath = os.path.join(dataset_dir, 'emnist-balanced-test.csv')\n",
    "with open(filepath) as f:\n",
    "    line = f.readline()\n",
    "print(line)\"\"\""
   ]
  },
  {
   "cell_type": "code",
   "execution_count": 5,
   "id": "059faa41",
   "metadata": {
    "ExecuteTime": {
     "end_time": "2023-06-16T20:16:04.238529Z",
     "start_time": "2023-06-16T20:16:04.221127Z"
    }
   },
   "outputs": [
    {
     "data": {
      "text/plain": [
       "')'"
      ]
     },
     "execution_count": 5,
     "metadata": {},
     "output_type": "execute_result"
    }
   ],
   "source": [
    "arr = list(df.iloc[0])\n",
    "#print(arr[1:])\n",
    "\n",
    "#plt.imshow(arr[1:], cmap='gray')\n",
    "#plt.show()\n",
    "\n",
    "#image = np.array(arr[1:]).reshape(28,28)\n",
    "#plt.imshow(image, cmap='gray')\n",
    "#plt.show()\n",
    "\n",
    "chr(arr[0])"
   ]
  }
 ],
 "metadata": {
  "kernelspec": {
   "display_name": "Python 3 (ipykernel)",
   "language": "python",
   "name": "python3"
  },
  "language_info": {
   "codemirror_mode": {
    "name": "ipython",
    "version": 3
   },
   "file_extension": ".py",
   "mimetype": "text/x-python",
   "name": "python",
   "nbconvert_exporter": "python",
   "pygments_lexer": "ipython3",
   "version": "3.8.12"
  },
  "toc": {
   "base_numbering": 1,
   "nav_menu": {},
   "number_sections": true,
   "sideBar": true,
   "skip_h1_title": false,
   "title_cell": "Table of Contents",
   "title_sidebar": "Contents",
   "toc_cell": false,
   "toc_position": {},
   "toc_section_display": true,
   "toc_window_display": true
  }
 },
 "nbformat": 4,
 "nbformat_minor": 5
}
