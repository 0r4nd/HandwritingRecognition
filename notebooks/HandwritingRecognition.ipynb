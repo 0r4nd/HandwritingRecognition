{
 "cells": [
  {
   "cell_type": "markdown",
   "id": "cdb13ad7",
   "metadata": {
    "ExecuteTime": {
     "end_time": "2023-04-17T18:20:50.643830Z",
     "start_time": "2023-04-17T18:20:49.745008Z"
    }
   },
   "source": [
    "# Imports"
   ]
  },
  {
   "cell_type": "code",
   "execution_count": 289,
   "id": "8b15e5c2",
   "metadata": {
    "ExecuteTime": {
     "end_time": "2023-04-20T04:04:41.105914Z",
     "start_time": "2023-04-20T04:04:41.089661Z"
    }
   },
   "outputs": [],
   "source": [
    "import os\n",
    "import numpy as np\n",
    "import pprint\n",
    "\n",
    "import matplotlib.pyplot as plt\n",
    "from matplotlib.patches import Rectangle\n",
    "from PIL import Image\n",
    "\n",
    "import pandas as pd\n",
    "\n",
    "from timeit import default_timer as timer\n",
    "import joblib\n",
    "\n",
    "from tensorflow.keras import layers, models\n",
    "from tensorflow.keras import datasets\n",
    "from tensorflow.keras.callbacks import EarlyStopping\n",
    "from tensorflow.keras.backend import expand_dims\n",
    "from tensorflow.keras.utils import to_categorical\n",
    "from sklearn.model_selection import train_test_split\n"
   ]
  },
  {
   "cell_type": "markdown",
   "id": "649e7cb6",
   "metadata": {},
   "source": [
    "# Libs options"
   ]
  },
  {
   "cell_type": "code",
   "execution_count": 41,
   "id": "ac8cc43f",
   "metadata": {
    "ExecuteTime": {
     "end_time": "2023-04-17T19:01:16.055624Z",
     "start_time": "2023-04-17T19:01:16.047807Z"
    }
   },
   "outputs": [],
   "source": [
    "#np.set_printoptions(threshold=16)\n",
    "pp = pprint.PrettyPrinter(indent=4, width=90)"
   ]
  },
  {
   "cell_type": "markdown",
   "id": "3b9c96b0",
   "metadata": {},
   "source": [
    "# Dataset"
   ]
  },
  {
   "cell_type": "code",
   "execution_count": 310,
   "id": "495a99ce",
   "metadata": {
    "ExecuteTime": {
     "end_time": "2023-04-20T06:33:27.327543Z",
     "start_time": "2023-04-20T06:33:26.507731Z"
    }
   },
   "outputs": [
    {
     "name": "stdout",
     "output_type": "stream",
     "text": [
      "bounding-squares csv loaded\n",
      "train/valid: (60000, 28, 28) (60000,)\n",
      "test: (10000, 28, 28) (10000,)\n",
      "aabb_train: (4, 5, 24, 25)\n",
      "aabb_test: (6, 7, 22, 27)\n"
     ]
    }
   ],
   "source": [
    "def list_first_val(arr):\n",
    "    for i in arr:\n",
    "        if i > 0:\n",
    "            return 1\n",
    "    return -1\n",
    "\n",
    "def get_aabb2D(data):\n",
    "    \"\"\"aligned-axis bounding-box (bounding square)\"\"\"\n",
    "    x1 = 0xffff\n",
    "    y1 = 0xffff\n",
    "    x2 = 0\n",
    "    y2 = 0\n",
    "    # y1\n",
    "    for j in range(len(data)):\n",
    "        if list_first_val(data[j]) > 0:\n",
    "            y1 = j\n",
    "            break\n",
    "    # y2\n",
    "    for j in range(len(data)):\n",
    "        end = len(data)-j-1\n",
    "        if list_first_val(data[end]) > 0:\n",
    "            y2 = end\n",
    "            break\n",
    "    # x1, x2\n",
    "    for j in range(len(data)):\n",
    "        ydata = data[j]\n",
    "        val = 0xffff\n",
    "        last = 0\n",
    "        for i in range(len(ydata)):\n",
    "            if ydata[i] > 0:\n",
    "                x1 = min(x1,i)\n",
    "                x2 = max(x2,i)\n",
    "    return (x1,y1, x2+1,y2+1)\n",
    "    \n",
    "def get_X_aabb2D(X):\n",
    "    aabbs = []\n",
    "    for i in range(len(X)):\n",
    "        aabbs.append(get_aabb2D(X[i]))\n",
    "        #if i > 10: break\n",
    "    return aabbs\n",
    "\n",
    "def read_aabb_csv(path):\n",
    "    df = pd.read_csv(path)\n",
    "    return list(df.itertuples(index=False, name=None))\n",
    "\n",
    "def write_aabb_csv(X, path):\n",
    "    aabb = get_X_aabb2D(X)\n",
    "    df = pd.DataFrame(aabb, columns=['x1','y1','x2','y2'])\n",
    "    df.to_csv(path, index=False)\n",
    "    return aabb\n",
    "    \n",
    "def get_data():\n",
    "    (X_train, y_train), (X_test, y_test) = datasets.mnist.load_data(path=\"mnist.npz\")\n",
    "    #train_test_split(self.train_index , test_size = 0.25, random_state=1)\n",
    "    \n",
    "    # load aabb\n",
    "    if os.path.isfile('aabb_train.csv'):\n",
    "        aabb_train = read_aabb_csv('aabb_train.csv')\n",
    "        aabb_test = read_aabb_csv('aabb_test.csv')\n",
    "        print(\"bounding-squares csv loaded\")\n",
    "    else: # or compute them (slow!)\n",
    "        aabb_train = write_aabb_csv(X_train, 'aabb_train.csv')\n",
    "        aabb_test = write_aabb_csv(X_test, 'aabb_test.csv')\n",
    "        print(\"bounging-squares csv computed\")\n",
    "    #display(df_train)\n",
    "    \n",
    "    # scaling\n",
    "    X_train = X_train / 255.\n",
    "    X_test = X_test / 255.\n",
    "    return (X_train,y_train), (X_test,y_test), (aabb_train, aabb_test)\n",
    "\n",
    "(X_train,y_train), (X_test,y_test), (aabb_train, aabb_test) = get_data()\n",
    "\n",
    "print(\"train/valid:\", X_train.shape, y_train.shape)\n",
    "print(\"test:\", X_test.shape, y_test.shape)\n",
    "print(\"aabb_train:\", aabb_train[0])\n",
    "print(\"aabb_test:\", aabb_test[0])"
   ]
  },
  {
   "cell_type": "code",
   "execution_count": 311,
   "id": "b99c6475",
   "metadata": {
    "ExecuteTime": {
     "end_time": "2023-04-20T06:33:49.853272Z",
     "start_time": "2023-04-20T06:33:49.840860Z"
    }
   },
   "outputs": [
    {
     "data": {
      "text/plain": [
       "[0.0, 0.0, 0.0, 0.0, 0.0, 0.0, 0.0, 0.0, 0.0, 0.0, 0.0, 0.0, 0.0, 0.3176470588235294, 0.9411764705882353, 0.9921568627450981, 0.9921568627450981, 0.4666666666666667, 0.09803921568627451, 0.0, 0.0, 0.0, 0.0, 0.0, 0.0, 0.0, 0.0, 0.0]"
      ]
     },
     "execution_count": 311,
     "metadata": {},
     "output_type": "execute_result"
    }
   ],
   "source": [
    "list(X_train[0][14])"
   ]
  },
  {
   "cell_type": "markdown",
   "id": "9f200306",
   "metadata": {},
   "source": [
    "# Draw image + Bounding Box"
   ]
  },
  {
   "cell_type": "code",
   "execution_count": 312,
   "id": "535dcdb0",
   "metadata": {
    "ExecuteTime": {
     "end_time": "2023-04-20T06:33:53.176674Z",
     "start_time": "2023-04-20T06:33:52.930192Z"
    }
   },
   "outputs": [
    {
     "data": {
      "image/png": "[encoded data removed]",
      "text/plain": [
       "<Figure size 432x288 with 1 Axes>"
      ]
     },
     "metadata": {
      "needs_background": "light"
     },
     "output_type": "display_data"
    }
   ],
   "source": [
    "def plt_rectangle(tup):\n",
    "    x1 = tup[0]\n",
    "    y1 = tup[1]\n",
    "    x2 = tup[2]\n",
    "    y2 = tup[3]\n",
    "    plt.gca().add_patch(Rectangle((x1-0.5,y1-0.5),x2-x1,y2-y1,linewidth=1,edgecolor='r',facecolor='none'))\n",
    "    return\n",
    "\n",
    "\n",
    "idx = 18\n",
    "plt.imshow(X_train[idx], cmap='gray');\n",
    "plt_rectangle(aabb_train[idx])\n",
    "\n",
    "\n"
   ]
  },
  {
   "cell_type": "code",
   "execution_count": 316,
   "id": "efe97e1a",
   "metadata": {
    "ExecuteTime": {
     "end_time": "2023-04-20T06:35:13.988326Z",
     "start_time": "2023-04-20T06:35:13.976801Z"
    }
   },
   "outputs": [
    {
     "data": {
      "text/plain": [
       "(28, 28, 1)"
      ]
     },
     "execution_count": 316,
     "metadata": {},
     "output_type": "execute_result"
    }
   ],
   "source": [
    "X_train = np.expand_dims(X_train, axis=-1)\n",
    "X_test = np.expand_dims(X_test, axis=-1)\n",
    "X_train[0].shape"
   ]
  },
  {
   "cell_type": "markdown",
   "id": "f45c1fee",
   "metadata": {},
   "source": [
    "# To categorical"
   ]
  },
  {
   "cell_type": "code",
   "execution_count": 317,
   "id": "6aa1a7b8",
   "metadata": {
    "ExecuteTime": {
     "end_time": "2023-04-20T06:35:20.645323Z",
     "start_time": "2023-04-20T06:35:20.631475Z"
    }
   },
   "outputs": [
    {
     "name": "stdout",
     "output_type": "stream",
     "text": [
      "y_train_cat.shape = (60000, 10)\n",
      "y_test_cat.shape = (10000, 10)\n",
      "array([0, 0, 0, 0, 0, 1, 0, 0, 0, 0], dtype=uint8)\n"
     ]
    }
   ],
   "source": [
    "y_train_cat = to_categorical(y_train, num_classes=10, dtype =\"uint8\")\n",
    "y_test_cat = to_categorical(y_test, num_classes=10, dtype =\"uint8\")\n",
    "print(\"y_train_cat.shape =\",y_train_cat.shape)\n",
    "print(\"y_test_cat.shape =\", y_test_cat.shape)\n",
    "pp.pprint(y_train_cat[0])"
   ]
  },
  {
   "cell_type": "code",
   "execution_count": 318,
   "id": "3e279875",
   "metadata": {
    "ExecuteTime": {
     "end_time": "2023-04-20T06:35:23.105030Z",
     "start_time": "2023-04-20T06:35:22.841028Z"
    },
    "scrolled": true
   },
   "outputs": [
    {
     "name": "stdout",
     "output_type": "stream",
     "text": [
      "label is: Number 0\n"
     ]
    },
    {
     "data": {
      "image/png": "[encoded data removed]",
      "text/plain": [
       "<Figure size 432x288 with 1 Axes>"
      ]
     },
     "metadata": {
      "needs_background": "light"
     },
     "output_type": "display_data"
    }
   ],
   "source": [
    "labels = [\"Number 0\",\n",
    "          \"Number 1\",\n",
    "          \"Number 2\",\n",
    "          \"Number 3\",\n",
    "          \"Number 4\",\n",
    "          \"Number 5\",\n",
    "          \"Number 6\",\n",
    "          \"Number 7\",\n",
    "          \"Number 8\",\n",
    "          \"Number 9\"]\n",
    "\n",
    "def categorical_to_id(arr_cat, labels=None):\n",
    "    res = -1\n",
    "    for i in range(len(arr_cat)):\n",
    "        if arr_cat[i]:\n",
    "            res = i\n",
    "            break\n",
    "    if labels is None:\n",
    "        return res\n",
    "    return labels[res]\n",
    "\n",
    "item = 21\n",
    "\n",
    "print(\"label is:\", categorical_to_id(y_train_cat[item], labels))\n",
    "plt.imshow(X_train[item], cmap='gray');"
   ]
  },
  {
   "cell_type": "code",
   "execution_count": 319,
   "id": "10319f06",
   "metadata": {
    "ExecuteTime": {
     "end_time": "2023-04-20T06:35:25.855491Z",
     "start_time": "2023-04-20T06:35:25.764580Z"
    }
   },
   "outputs": [
    {
     "name": "stdout",
     "output_type": "stream",
     "text": [
      "Model: \"sequential_4\"\n",
      "_________________________________________________________________\n",
      " Layer (type)                Output Shape              Param #   \n",
      "=================================================================\n",
      " conv2d_7 (Conv2D)           (None, 28, 28, 8)         136       \n",
      "                                                                 \n",
      " max_pooling2d_6 (MaxPooling  (None, 14, 14, 8)        0         \n",
      " 2D)                                                             \n",
      "                                                                 \n",
      " conv2d_8 (Conv2D)           (None, 14, 14, 16)        1168      \n",
      "                                                                 \n",
      " max_pooling2d_7 (MaxPooling  (None, 7, 7, 16)         0         \n",
      " 2D)                                                             \n",
      "                                                                 \n",
      " flatten_3 (Flatten)         (None, 784)               0         \n",
      "                                                                 \n",
      " dense_6 (Dense)             (None, 10)                7850      \n",
      "                                                                 \n",
      " dense_7 (Dense)             (None, 10)                110       \n",
      "                                                                 \n",
      "=================================================================\n",
      "Total params: 9,264\n",
      "Trainable params: 9,264\n",
      "Non-trainable params: 0\n",
      "_________________________________________________________________\n"
     ]
    }
   ],
   "source": [
    "def get_model(X):\n",
    "    model = models.Sequential()\n",
    "    \n",
    "    model.add(layers.Conv2D(8, (4,4), activation='relu', padding='same', input_shape=X[0].shape))\n",
    "    model.add(layers.MaxPool2D(pool_size=(2,2)))\n",
    "    \n",
    "    model.add(layers.Conv2D(16, (3,3), activation='relu', padding='same'))\n",
    "    model.add(layers.MaxPool2D(pool_size=(2,2)))\n",
    "\n",
    "    model.add(layers.Flatten())\n",
    "    model.add(layers.Dense(10, activation='relu'))\n",
    "    model.add(layers.Dense(10, activation='softmax'))\n",
    "    \n",
    "    model.compile(loss='categorical_crossentropy',\n",
    "                  optimizer='adam', \n",
    "                  metrics=['accuracy'])\n",
    "    return model\n",
    "\n",
    "model = get_model(X_train)\n",
    "model.summary()"
   ]
  },
  {
   "cell_type": "markdown",
   "id": "0be9f26b",
   "metadata": {},
   "source": [
    "# Train "
   ]
  },
  {
   "cell_type": "code",
   "execution_count": 320,
   "id": "67b4ff89",
   "metadata": {
    "ExecuteTime": {
     "end_time": "2023-04-20T06:37:41.910153Z",
     "start_time": "2023-04-20T06:35:35.968007Z"
    }
   },
   "outputs": [
    {
     "name": "stdout",
     "output_type": "stream",
     "text": [
      "Epoch 1/5\n",
      "1313/1313 [==============================] - 26s 19ms/step - loss: 0.3738 - accuracy: 0.8824 - val_loss: 0.1361 - val_accuracy: 0.9588\n",
      "Epoch 2/5\n",
      "1313/1313 [==============================] - 26s 20ms/step - loss: 0.1047 - accuracy: 0.9676 - val_loss: 0.0897 - val_accuracy: 0.9732\n",
      "Epoch 3/5\n",
      "1313/1313 [==============================] - 25s 19ms/step - loss: 0.0758 - accuracy: 0.9767 - val_loss: 0.0880 - val_accuracy: 0.9718\n",
      "Epoch 4/5\n",
      "1313/1313 [==============================] - 24s 18ms/step - loss: 0.0619 - accuracy: 0.9802 - val_loss: 0.0725 - val_accuracy: 0.9771\n",
      "Epoch 5/5\n",
      "1313/1313 [==============================] - 25s 19ms/step - loss: 0.0522 - accuracy: 0.9831 - val_loss: 0.0656 - val_accuracy: 0.9801\n"
     ]
    }
   ],
   "source": [
    "es = EarlyStopping(patience = 5)\n",
    "\n",
    "history = model.fit(X_train, \n",
    "                    y_train_cat,\n",
    "                    validation_split = 0.3, # auto val generation\n",
    "                    batch_size = 32,\n",
    "                    epochs = 5,\n",
    "                    callbacks = [es],\n",
    "                    verbose = 1)"
   ]
  },
  {
   "cell_type": "markdown",
   "id": "cc4ba80b",
   "metadata": {},
   "source": [
    "# Plot results"
   ]
  },
  {
   "cell_type": "code",
   "execution_count": 321,
   "id": "6f1d64c0",
   "metadata": {
    "ExecuteTime": {
     "end_time": "2023-04-20T06:37:46.342178Z",
     "start_time": "2023-04-20T06:37:46.328191Z"
    }
   },
   "outputs": [],
   "source": [
    "def plot_history(history, labels = [\"loss\"]):\n",
    "    h = history.history\n",
    "    with plt.style.context('seaborn-deep'):\n",
    "        fig, ax = plt.subplots(1, max(2,len(labels)), figsize=(15, 4))\n",
    "        x_axis = np.arange(len(h[labels[0]]))\n",
    "        for i in range(len(labels)):\n",
    "            l = labels[i]\n",
    "            L = l.capitalize()\n",
    "            ax[i].set_title(l)\n",
    "            ax[i].plot(x_axis, h[l], color=\"blue\", linestyle=\":\", marker=\"X\", label=\"Train \"+L)\n",
    "            ax[i].plot(x_axis, h['val_'+l], color=\"orange\", linestyle=\"-\", marker=\"X\", label=\"Val \"+L)\n",
    "            ax[i].grid(axis=\"x\", linewidth=0.5)\n",
    "            ax[i].grid(axis=\"y\", linewidth=0.5)\n",
    "            ax[i].legend()\n",
    "        plt.show()"
   ]
  },
  {
   "cell_type": "code",
   "execution_count": 322,
   "id": "0ca28b2f",
   "metadata": {
    "ExecuteTime": {
     "end_time": "2023-04-20T06:37:49.749635Z",
     "start_time": "2023-04-20T06:37:49.243683Z"
    }
   },
   "outputs": [
    {
     "data": {
      "image/png": "[encoded data removed]",
      "text/plain": [
       "<Figure size 1080x288 with 2 Axes>"
      ]
     },
     "metadata": {
      "needs_background": "light"
     },
     "output_type": "display_data"
    }
   ],
   "source": [
    "plot_history(history, [\"loss\", \"accuracy\"])"
   ]
  },
  {
   "cell_type": "markdown",
   "id": "0a966038",
   "metadata": {},
   "source": [
    "# Evaluation vs test set"
   ]
  },
  {
   "cell_type": "code",
   "execution_count": 323,
   "id": "975bab3a",
   "metadata": {
    "ExecuteTime": {
     "end_time": "2023-04-20T06:38:50.807344Z",
     "start_time": "2023-04-20T06:38:48.136902Z"
    }
   },
   "outputs": [
    {
     "name": "stdout",
     "output_type": "stream",
     "text": [
      "313/313 [==============================] - 3s 8ms/step - loss: 0.0496 - accuracy: 0.9839\n",
      "The accuracy on the test set is of 98.39 %\n"
     ]
    }
   ],
   "source": [
    "res = model.evaluate(X_test, y_test_cat, verbose = 1)\n",
    "print(f'The accuracy on the test set is of {res[1]*100:.2f} %')"
   ]
  },
  {
   "cell_type": "code",
   "execution_count": 324,
   "id": "78283412",
   "metadata": {
    "ExecuteTime": {
     "end_time": "2023-04-20T06:38:55.897683Z",
     "start_time": "2023-04-20T06:38:53.839956Z"
    }
   },
   "outputs": [
    {
     "data": {
      "text/plain": [
       "array([[2.7195664e-11, 4.5100788e-11, 6.7509951e-08, ..., 9.9995542e-01,\n",
       "        4.3451712e-07, 4.9272358e-06],\n",
       "       [3.7880616e-07, 4.3730188e-06, 9.9998701e-01, ..., 6.3419669e-12,\n",
       "        2.4869726e-08, 2.6953037e-11],\n",
       "       [4.3195026e-08, 9.9615270e-01, 3.2931461e-05, ..., 2.0923301e-06,\n",
       "        2.2752873e-04, 9.2074421e-05],\n",
       "       ...,\n",
       "       [1.7127187e-14, 2.2018085e-08, 1.3251138e-13, ..., 3.8075090e-10,\n",
       "        1.3375649e-08, 5.7241630e-07],\n",
       "       [3.0317581e-06, 2.3336638e-11, 4.2378931e-10, ..., 1.6212136e-09,\n",
       "        1.1674655e-04, 6.7967541e-08],\n",
       "       [1.9134927e-06, 1.4431660e-11, 9.9315187e-09, ..., 1.0036777e-14,\n",
       "        4.8844129e-07, 3.4651548e-06]], dtype=float32)"
      ]
     },
     "execution_count": 324,
     "metadata": {},
     "output_type": "execute_result"
    }
   ],
   "source": [
    "model.predict(X_test)"
   ]
  },
  {
   "cell_type": "markdown",
   "id": "4f9eef3f",
   "metadata": {},
   "source": [
    "# Predict one observation"
   ]
  },
  {
   "cell_type": "code",
   "execution_count": 329,
   "id": "8bab1794",
   "metadata": {
    "ExecuteTime": {
     "end_time": "2023-04-20T06:39:30.565220Z",
     "start_time": "2023-04-20T06:39:30.248661Z"
    }
   },
   "outputs": [
    {
     "data": {
      "image/png": "[encoded data removed]",
      "text/plain": [
       "<Figure size 432x288 with 1 Axes>"
      ]
     },
     "metadata": {
      "needs_background": "light"
     },
     "output_type": "display_data"
    },
    {
     "name": "stdout",
     "output_type": "stream",
     "text": [
      "Prediction is = Number 4 (100.00%)\n"
     ]
    }
   ],
   "source": [
    "label = 2\n",
    "\n",
    "predicted = list(model.predict(np.array([X_test[label]]))[0])\n",
    "#print(\"prediction table:\", predicted)\n",
    "plt.imshow(X_test[label], cmap='gray')\n",
    "plt.show()\n",
    "\n",
    "predicted_label = labels[predicted.index(max(predicted))]\n",
    "print(\"Prediction is =\", predicted_label, f\"({max(predicted)*100:.2f}%)\")"
   ]
  },
  {
   "cell_type": "markdown",
   "id": "03780e4d",
   "metadata": {},
   "source": [
    "# Class Scores"
   ]
  },
  {
   "cell_type": "code",
   "execution_count": 182,
   "id": "07c240e9",
   "metadata": {
    "ExecuteTime": {
     "end_time": "2023-04-17T21:00:56.149292Z",
     "start_time": "2023-04-17T21:00:56.137625Z"
    },
    "scrolled": true
   },
   "outputs": [
    {
     "name": "stdout",
     "output_type": "stream",
     "text": [
      "Prediction table for 'Number 1':\n",
      "\n",
      " [0.00021510555, 0.99914587, 0.00042324836, 3.05158e-08, 3.9256654e-05, 5.286392e-12, 2.3547776e-13, 5.5486765e-07, 0.00017592404, 2.5604643e-09]\n"
     ]
    }
   ],
   "source": [
    "print(f\"Prediction table for '{predicted_label}':\")\n",
    "print(\"\\n\",predicted)"
   ]
  },
  {
   "cell_type": "markdown",
   "id": "d4e0484e",
   "metadata": {},
   "source": [
    "# Save"
   ]
  },
  {
   "cell_type": "code",
   "execution_count": 184,
   "id": "9e7df469",
   "metadata": {
    "ExecuteTime": {
     "end_time": "2023-04-17T21:41:12.502169Z",
     "start_time": "2023-04-17T21:41:11.048689Z"
    }
   },
   "outputs": [
    {
     "name": "stderr",
     "output_type": "stream",
     "text": [
      "2023-04-17 23:41:11.560063: W tensorflow/python/util/util.cc:368] Sets are not currently considered sequences, but this may change in the future, so consider avoiding using them.\n"
     ]
    },
    {
     "name": "stdout",
     "output_type": "stream",
     "text": [
      "INFO:tensorflow:Assets written to: ram://e402c9da-5e2d-4386-a46d-728e1e9d7dd5/assets\n"
     ]
    },
    {
     "data": {
      "text/plain": [
       "['model_digits.joblib']"
      ]
     },
     "execution_count": 184,
     "metadata": {},
     "output_type": "execute_result"
    }
   ],
   "source": [
    "joblib.dump(model, f'model_digits.joblib')"
   ]
  }
 ],
 "metadata": {
  "kernelspec": {
   "display_name": "Python 3 (ipykernel)",
   "language": "python",
   "name": "python3"
  },
  "language_info": {
   "codemirror_mode": {
    "name": "ipython",
    "version": 3
   },
   "file_extension": ".py",
   "mimetype": "text/x-python",
   "name": "python",
   "nbconvert_exporter": "python",
   "pygments_lexer": "ipython3",
   "version": "3.8.12"
  },
  "toc": {
   "base_numbering": 1,
   "nav_menu": {},
   "number_sections": true,
   "sideBar": true,
   "skip_h1_title": false,
   "title_cell": "Table of Contents",
   "title_sidebar": "Contents",
   "toc_cell": false,
   "toc_position": {
    "height": "calc(100% - 180px)",
    "left": "10px",
    "top": "150px",
    "width": "276px"
   },
   "toc_section_display": true,
   "toc_window_display": true
  }
 },
 "nbformat": 4,
 "nbformat_minor": 5
}
