{
 "cells": [
  {
   "cell_type": "markdown",
   "id": "cdb13ad7",
   "metadata": {
    "ExecuteTime": {
     "end_time": "2023-04-17T18:20:50.643830Z",
     "start_time": "2023-04-17T18:20:49.745008Z"
    }
   },
   "source": [
    "# Imports"
   ]
  },
  {
   "cell_type": "code",
   "execution_count": 22,
   "id": "8b15e5c2",
   "metadata": {
    "ExecuteTime": {
     "end_time": "2023-04-26T05:15:39.354418Z",
     "start_time": "2023-04-26T05:15:39.344299Z"
    }
   },
   "outputs": [],
   "source": [
    "import os\n",
    "import csv\n",
    "import numpy as np\n",
    "import pprint\n",
    "\n",
    "import matplotlib.pyplot as plt\n",
    "from matplotlib.patches import Rectangle\n",
    "from PIL import Image\n",
    "\n",
    "import pandas as pd\n",
    "\n",
    "from timeit import default_timer as timer\n",
    "import joblib\n",
    "\n",
    "import tensorflow as tf\n",
    "import tensorflowjs as tfjs\n",
    "\n",
    "from tensorflow.keras import layers, models, optimizers, regularizers\n",
    "from tensorflow.keras import datasets\n",
    "from tensorflow.keras.callbacks import EarlyStopping\n",
    "from tensorflow.keras.backend import expand_dims\n",
    "from tensorflow.keras.utils import to_categorical\n",
    "from sklearn.model_selection import train_test_split"
   ]
  },
  {
   "cell_type": "markdown",
   "id": "4e3237c9",
   "metadata": {},
   "source": [
    "# Libs options"
   ]
  },
  {
   "cell_type": "code",
   "execution_count": 41,
   "id": "3a1c41fd",
   "metadata": {
    "ExecuteTime": {
     "end_time": "2023-04-17T19:01:16.055624Z",
     "start_time": "2023-04-17T19:01:16.047807Z"
    }
   },
   "outputs": [],
   "source": [
    "#np.set_printoptions(threshold=16)\n",
    "pp = pprint.PrettyPrinter(indent=4, width=90)"
   ]
  },
  {
   "cell_type": "markdown",
   "id": "f91c2353",
   "metadata": {},
   "source": [
    "# Dataset"
   ]
  },
  {
   "cell_type": "code",
   "execution_count": 27,
   "id": "495a99ce",
   "metadata": {
    "ExecuteTime": {
     "end_time": "2023-04-26T05:18:24.183555Z",
     "start_time": "2023-04-26T05:18:23.217308Z"
    }
   },
   "outputs": [
    {
     "name": "stdout",
     "output_type": "stream",
     "text": [
      "bounding-squares csv loaded\n",
      "\n",
      "X_train: (45000, 28, 28, 1)\n",
      "X_val: (15000, 28, 28, 1)\n",
      "X_test: (10000, 28, 28, 1)\n",
      "\n",
      "y_train_cat: (45000, 10)\n",
      "y_val_cat: (15000, 10)\n",
      "y_test_cat: (10000, 10)\n",
      "\n",
      "y_train_aabb: (45000, 4)\n",
      "y_val_aabb: (15000, 4)\n",
      "y_test_aabb: (10000, 4)\n"
     ]
    }
   ],
   "source": [
    "def list_first_val(arr):\n",
    "    for i in arr:\n",
    "        if i > 0:\n",
    "            return 1\n",
    "    return -1\n",
    "\n",
    "def get_aabb2D(data):\n",
    "    \"\"\"aligned-axis bounding-box (bounding square)\"\"\"\n",
    "    x1 = 0xffff\n",
    "    y1 = 0xffff\n",
    "    x2 = 0\n",
    "    y2 = 0\n",
    "    # y1\n",
    "    for j in range(len(data)):\n",
    "        if list_first_val(data[j]) > 0:\n",
    "            y1 = j\n",
    "            break\n",
    "    # y2\n",
    "    for j in range(len(data)):\n",
    "        end = len(data)-j-1\n",
    "        if list_first_val(data[end]) > 0:\n",
    "            y2 = end\n",
    "            break\n",
    "    # x1, x2\n",
    "    for j in range(len(data)):\n",
    "        ydata = data[j]\n",
    "        val = 0xffff\n",
    "        last = 0\n",
    "        for i in range(len(ydata)):\n",
    "            if ydata[i] > 0:\n",
    "                x1 = min(x1,i)\n",
    "                x2 = max(x2,i)\n",
    "    return np.array([x1,y1, x2+1,y2+1])\n",
    "    \n",
    "def get_X_aabb2D(X):\n",
    "    aabbs = []\n",
    "    for i in range(len(X)):\n",
    "        aabbs.append(get_aabb2D(X[i]))\n",
    "        #if i > 10: break\n",
    "    return aabbs\n",
    "\n",
    "def read_aabb_csv(dir_path, filename):\n",
    "    file_path = os.path.join(dir_path, filename)\n",
    "    df = pd.read_csv(file_path)\n",
    "    return np.array(list(df.itertuples(index=False, name=None)))\n",
    "\n",
    "def write_aabb_csv(X, dir_path, filename):\n",
    "    file_path = os.path.join(dir_path, filename)\n",
    "    aabb = get_X_aabb2D(X)\n",
    "    df = pd.DataFrame(aabb, columns=['x1','y1','x2','y2'])\n",
    "    df.to_csv(file_path, index=False)\n",
    "    return aabb\n",
    "    \n",
    "def scaling(X_train, X_val, X_test):\n",
    "    X_train_scaled = X_train / 255.\n",
    "    X_val_scaled = X_val / 255.\n",
    "    X_test_scaled = X_test / 255.\n",
    "    return X_train_scaled, X_val_scaled, X_test_scaled\n",
    "\n",
    "def get_data():\n",
    "    (X_train, y_train), (X_test, y_test) = datasets.mnist.load_data(path=\"mnist.npz\")\n",
    "    dir_path = os.path.join(os.path.dirname(os.getcwd()), 'dataset')\n",
    "    # folder exists ?\n",
    "    if not os.path.exists(dir_path):\n",
    "        os.mkdir(dir_path)\n",
    "\n",
    "    # load aabb\n",
    "    if os.path.exists(os.path.join(dir_path, 'aabb_train.csv')):\n",
    "        y_train_aabb = read_aabb_csv(dir_path, 'aabb_train.csv')\n",
    "        y_test_aabb = read_aabb_csv(dir_path, 'aabb_test.csv')\n",
    "        print(\"bounding-squares csv loaded\")\n",
    "    else: # or compute them (slow!)\n",
    "        y_train_aabb = write_aabb_csv(X_train, dir_path, 'aabb_train.csv')\n",
    "        y_test_aabb = write_aabb_csv(X_test, dir_path, 'aabb_test.csv')\n",
    "        print(\"bounging-squares csv computed\")\n",
    "    #display(df_train)\n",
    "    \n",
    "    # add a dim: (28, 28) -> (28, 28, 1)\n",
    "    X_train = X_train.reshape(len(X_train), 28,28,1) # np.expand_dims(X_train, axis=-1)\n",
    "    X_test = X_test.reshape(len(X_test), 28,28,1)\n",
    "    \n",
    "    # to categorical\n",
    "    y_train_cat = to_categorical(y_train, num_classes=10, dtype =\"uint8\")\n",
    "    y_test_cat = to_categorical(y_test, num_classes=10, dtype =\"uint8\")\n",
    "    \n",
    "    # split train/validation\n",
    "    X_train, X_val, y_train_cat, y_val_cat = train_test_split(X_train, y_train_cat, test_size=0.25, random_state=1)\n",
    "    y_train_aabb, y_val_aabb = train_test_split(y_train_aabb, test_size=0.25, random_state=1)\n",
    "    \n",
    "    # scaling\n",
    "    X_train_scaled, X_val_scaled, X_test_scaled = scaling(X_train,X_val,X_test)\n",
    "    \n",
    "    return (X_train, y_train),(X_train_scaled, y_train_cat),(X_val_scaled, y_val_cat),(X_test_scaled, y_test_cat),(y_train_aabb, y_val_aabb, y_test_aabb)\n",
    "\n",
    "            \n",
    "(X_train, y_train),(X_train_scaled, y_train_cat),(X_val_scaled, y_val_cat),(X_test_scaled, y_test_cat),(y_train_aabb, y_val_aabb, y_test_aabb) = get_data()\n",
    "\n",
    "#print(\"train/valid:\", X_train.shape, y_train.shape)\n",
    "#print(\"test:\", X_test.shape, y_test.shape)\n",
    "print(\"\")\n",
    "print(\"X_train:\", X_train_scaled.shape);\n",
    "print(\"X_val:\", X_val_scaled.shape);\n",
    "print(\"X_test:\", X_test_scaled.shape);\n",
    "print(\"\")\n",
    "print(\"y_train_cat:\", y_train_cat.shape);\n",
    "print(\"y_val_cat:\", y_val_cat.shape);\n",
    "print(\"y_test_cat:\", y_test_cat.shape);\n",
    "print(\"\")\n",
    "print(\"y_train_aabb:\", y_train_aabb.shape);\n",
    "print(\"y_val_aabb:\", y_val_aabb.shape);\n",
    "print(\"y_test_aabb:\", y_test_aabb.shape);"
   ]
  },
  {
   "cell_type": "code",
   "execution_count": 4,
   "id": "6ca6898d",
   "metadata": {
    "ExecuteTime": {
     "end_time": "2023-04-25T21:22:05.040155Z",
     "start_time": "2023-04-25T21:22:04.997738Z"
    }
   },
   "outputs": [
    {
     "data": {
      "text/plain": [
       "[array([0], dtype=uint8),\n",
       " array([0], dtype=uint8),\n",
       " array([0], dtype=uint8),\n",
       " array([0], dtype=uint8),\n",
       " array([0], dtype=uint8),\n",
       " array([0], dtype=uint8),\n",
       " array([0], dtype=uint8),\n",
       " array([0], dtype=uint8),\n",
       " array([0], dtype=uint8),\n",
       " array([0], dtype=uint8),\n",
       " array([0], dtype=uint8),\n",
       " array([0], dtype=uint8),\n",
       " array([0], dtype=uint8),\n",
       " array([0], dtype=uint8),\n",
       " array([0], dtype=uint8),\n",
       " array([63], dtype=uint8),\n",
       " array([245], dtype=uint8),\n",
       " array([241], dtype=uint8),\n",
       " array([38], dtype=uint8),\n",
       " array([0], dtype=uint8),\n",
       " array([0], dtype=uint8),\n",
       " array([0], dtype=uint8),\n",
       " array([0], dtype=uint8),\n",
       " array([0], dtype=uint8),\n",
       " array([0], dtype=uint8),\n",
       " array([0], dtype=uint8),\n",
       " array([0], dtype=uint8),\n",
       " array([0], dtype=uint8)]"
      ]
     },
     "execution_count": 4,
     "metadata": {},
     "output_type": "execute_result"
    }
   ],
   "source": [
    "list(X_train[0][14])"
   ]
  },
  {
   "cell_type": "markdown",
   "id": "d928b7b9",
   "metadata": {},
   "source": [
    "# Draw image + Bounding Box"
   ]
  },
  {
   "cell_type": "code",
   "execution_count": 28,
   "id": "535dcdb0",
   "metadata": {
    "ExecuteTime": {
     "end_time": "2023-04-26T05:18:40.510952Z",
     "start_time": "2023-04-26T05:18:40.256613Z"
    }
   },
   "outputs": [
    {
     "data": {
      "image/png": "[encoded data removed]",
      "text/plain": [
       "<Figure size 432x288 with 1 Axes>"
      ]
     },
     "metadata": {
      "needs_background": "light"
     },
     "output_type": "display_data"
    }
   ],
   "source": [
    "def plt_rectangle(tup):\n",
    "    x1 = tup[0]\n",
    "    y1 = tup[1]\n",
    "    x2 = tup[2]\n",
    "    y2 = tup[3]\n",
    "    plt.gca().add_patch(Rectangle((x1-0.5,y1-0.5),x2-x1,y2-y1,linewidth=1,edgecolor='r',facecolor='none'))\n",
    "    return\n",
    "\n",
    "\n",
    "idx = 18\n",
    "plt.imshow(X_train_scaled[idx], cmap='gray');\n",
    "plt_rectangle(aabb_train[idx])\n"
   ]
  },
  {
   "cell_type": "code",
   "execution_count": 29,
   "id": "ba80a43f",
   "metadata": {
    "ExecuteTime": {
     "end_time": "2023-04-26T05:18:51.988034Z",
     "start_time": "2023-04-26T05:18:51.721753Z"
    },
    "scrolled": true
   },
   "outputs": [
    {
     "name": "stdout",
     "output_type": "stream",
     "text": [
      "label is: Number 5\n"
     ]
    },
    {
     "data": {
      "image/png": "[encoded data removed]",
      "text/plain": [
       "<Figure size 432x288 with 1 Axes>"
      ]
     },
     "metadata": {
      "needs_background": "light"
     },
     "output_type": "display_data"
    }
   ],
   "source": [
    "labels = [\"Number 0\",\n",
    "          \"Number 1\",\n",
    "          \"Number 2\",\n",
    "          \"Number 3\",\n",
    "          \"Number 4\",\n",
    "          \"Number 5\",\n",
    "          \"Number 6\",\n",
    "          \"Number 7\",\n",
    "          \"Number 8\",\n",
    "          \"Number 9\"]\n",
    "\n",
    "def categorical_to_id(arr_cat, labels=None):\n",
    "    res = -1\n",
    "    for i in range(len(arr_cat)):\n",
    "        if arr_cat[i]:\n",
    "            res = i\n",
    "            break\n",
    "    if labels is None:\n",
    "        return res\n",
    "    return labels[res]\n",
    "\n",
    "item = 21\n",
    "\n",
    "print(\"label is:\", categorical_to_id(y_train_cat[item], labels))\n",
    "plt.imshow(X_train_scaled[item], cmap='gray');"
   ]
  },
  {
   "cell_type": "markdown",
   "id": "021e576c",
   "metadata": {},
   "source": [
    "# Model with mixed data (functional API)\n",
    "https://pyimagesearch.com/2019/02/04/keras-multiple-inputs-and-mixed-data/"
   ]
  },
  {
   "cell_type": "code",
   "execution_count": 36,
   "id": "c783083c",
   "metadata": {
    "ExecuteTime": {
     "end_time": "2023-04-26T05:53:15.870532Z",
     "start_time": "2023-04-26T05:53:15.586369Z"
    }
   },
   "outputs": [
    {
     "name": "stdout",
     "output_type": "stream",
     "text": [
      "Model: \"model_4\"\n",
      "__________________________________________________________________________________________________\n",
      " Layer (type)                   Output Shape         Param #     Connected to                     \n",
      "==================================================================================================\n",
      " input_7 (InputLayer)           [(None, 28, 28, 1)]  0           []                               \n",
      "                                                                                                  \n",
      " conv2d_18 (Conv2D)             (None, 28, 28, 16)   160         ['input_7[0][0]']                \n",
      "                                                                                                  \n",
      " max_pooling2d_18 (MaxPooling2D  (None, 14, 14, 16)  0           ['conv2d_18[0][0]']              \n",
      " )                                                                                                \n",
      "                                                                                                  \n",
      " conv2d_19 (Conv2D)             (None, 14, 14, 32)   2080        ['max_pooling2d_18[0][0]']       \n",
      "                                                                                                  \n",
      " max_pooling2d_19 (MaxPooling2D  (None, 7, 7, 32)    0           ['conv2d_19[0][0]']              \n",
      " )                                                                                                \n",
      "                                                                                                  \n",
      " flatten_9 (Flatten)            (None, 1568)         0           ['max_pooling2d_19[0][0]']       \n",
      "                                                                                                  \n",
      " dense_17 (Dense)               (None, 50)           78450       ['flatten_9[0][0]']              \n",
      "                                                                                                  \n",
      " dropout_6 (Dropout)            (None, 50)           0           ['dense_17[0][0]']               \n",
      "                                                                                                  \n",
      " output_softmax (Dense)         (None, 10)           510         ['dropout_6[0][0]']              \n",
      "                                                                                                  \n",
      " output_linear (Dense)          (None, 4)            204         ['dropout_6[0][0]']              \n",
      "                                                                                                  \n",
      "==================================================================================================\n",
      "Total params: 81,404\n",
      "Trainable params: 81,404\n",
      "Non-trainable params: 0\n",
      "__________________________________________________________________________________________________\n"
     ]
    }
   ],
   "source": [
    "\n",
    "def get_classification_model(X):\n",
    "    \"\"\" classification with 10 classes \"\"\"\n",
    "    model = models.Sequential()\n",
    "    \n",
    "    model.add(layers.Conv2D(16, kernel_size=(3,3), activation='relu', padding='same', input_shape=X[0].shape))\n",
    "    model.add(layers.MaxPool2D(pool_size=(2,2)))\n",
    "\n",
    "    model.add(layers.Conv2D(32, kernel_size=(2,2), activation='relu', padding='same'))\n",
    "    model.add(layers.MaxPool2D(pool_size=(2,2)))\n",
    "    \n",
    "    model.add(layers.Flatten())\n",
    "    model.add(layers.Dense(50, activation='relu'))\n",
    "    model.add(layers.Dropout(0.3))\n",
    "    model.add(layers.Dense(10, activation='softmax'))\n",
    "    return model\n",
    "\n",
    "def get_regression_model(X):\n",
    "    \"\"\" regression with 4 outputs \"\"\"\n",
    "    model = models.Sequential()\n",
    "    \n",
    "    model.add(layers.Conv2D(8, (4,4), activation='relu', padding='same', input_shape=X[0].shape))\n",
    "    model.add(layers.MaxPool2D(pool_size=(2,2)))\n",
    "        \n",
    "    model.add(layers.Conv2D(16, (3,3), activation='relu', padding='same'))\n",
    "    model.add(layers.MaxPool2D(pool_size=(2,2)))\n",
    "        \n",
    "    model.add(layers.Flatten())\n",
    "    model.add(layers.Dense(50, activation='relu'))\n",
    "    model.add(layers.Dropout(0.3))\n",
    "    model.add(layers.Dense(4, activation='linear'))\n",
    "    return model\n",
    "\n",
    "def get_model(X):\n",
    "    \"\"\" classification + regression with 10+4 outputs \"\"\"\n",
    "    # define two sets of inputs\n",
    "    inputs = layers.Input(shape=X[0].shape)\n",
    "\n",
    "    # the first branch operates on the first input\n",
    "    a = layers.Conv2D(16, kernel_size=(3,3), activation='relu', padding='same')(inputs)\n",
    "    a = layers.MaxPool2D(pool_size=(2,2))(a)\n",
    "    a = layers.Conv2D(32, kernel_size=(2,2), activation='relu', padding='same')(a)\n",
    "    a = layers.MaxPool2D(pool_size=(2,2))(a)\n",
    "    a = layers.Flatten()(a)\n",
    "    a = layers.Dense(50, activation='relu')(a)\n",
    "    a = layers.Dropout(0.3)(a)\n",
    "    \n",
    "    # 2 outputs\n",
    "    output_softmax = layers.Dense(10, activation='softmax', name='output_softmax')(a)\n",
    "    output_linear = layers.Dense(4, activation='linear', name='output_linear')(a)\n",
    "    \n",
    "    model = models.Model(inputs=inputs, outputs=[output_softmax,output_linear])\n",
    "    return model\n",
    "\n",
    "#model = get_classification_model(X_train_scaled)\n",
    "#model = get_regression_model(X_train_scaled)\n",
    "model = get_model(X_train_scaled)\n",
    "model.summary()\n",
    "\n"
   ]
  },
  {
   "cell_type": "markdown",
   "id": "ac0c17b4",
   "metadata": {},
   "source": [
    "# Train "
   ]
  },
  {
   "cell_type": "code",
   "execution_count": 37,
   "id": "5b50dc56",
   "metadata": {
    "ExecuteTime": {
     "end_time": "2023-04-26T06:10:58.779832Z",
     "start_time": "2023-04-26T05:57:22.483647Z"
    }
   },
   "outputs": [
    {
     "name": "stdout",
     "output_type": "stream",
     "text": [
      "Epoch 1/50\n",
      "2813/2813 [==============================] - 49s 17ms/step - loss: 9.5458 - output_softmax_loss: 1.7741 - output_linear_loss: 7.7717 - output_softmax_accuracy: 0.3873 - output_linear_mae: 1.9803 - val_loss: 3.0391 - val_output_softmax_loss: 0.7447 - val_output_linear_loss: 2.2944 - val_output_softmax_accuracy: 0.7829 - val_output_linear_mae: 1.2319\n",
      "Epoch 2/50\n",
      "2813/2813 [==============================] - 40s 14ms/step - loss: 3.6126 - output_softmax_loss: 0.7368 - output_linear_loss: 2.8758 - output_softmax_accuracy: 0.7477 - output_linear_mae: 1.2411 - val_loss: 0.9613 - val_output_softmax_loss: 0.1860 - val_output_linear_loss: 0.7753 - val_output_softmax_accuracy: 0.9487 - val_output_linear_mae: 0.6886\n",
      "Epoch 3/50\n",
      "2813/2813 [==============================] - 46s 16ms/step - loss: 1.4182 - output_softmax_loss: 0.3526 - output_linear_loss: 1.0656 - output_softmax_accuracy: 0.8871 - output_linear_mae: 0.7729 - val_loss: 0.6706 - val_output_softmax_loss: 0.1570 - val_output_linear_loss: 0.5136 - val_output_softmax_accuracy: 0.9560 - val_output_linear_mae: 0.5284\n",
      "Epoch 4/50\n",
      "2813/2813 [==============================] - 43s 15ms/step - loss: 1.1939 - output_softmax_loss: 0.3293 - output_linear_loss: 0.8646 - output_softmax_accuracy: 0.8958 - output_linear_mae: 0.6914 - val_loss: 0.6677 - val_output_softmax_loss: 0.1657 - val_output_linear_loss: 0.5019 - val_output_softmax_accuracy: 0.9526 - val_output_linear_mae: 0.5205\n",
      "Epoch 5/50\n",
      "2813/2813 [==============================] - 44s 16ms/step - loss: 1.1600 - output_softmax_loss: 0.3186 - output_linear_loss: 0.8413 - output_softmax_accuracy: 0.8989 - output_linear_mae: 0.6798 - val_loss: 0.5781 - val_output_softmax_loss: 0.1326 - val_output_linear_loss: 0.4454 - val_output_softmax_accuracy: 0.9631 - val_output_linear_mae: 0.4928\n",
      "Epoch 6/50\n",
      "2813/2813 [==============================] - 43s 15ms/step - loss: 1.1572 - output_softmax_loss: 0.3136 - output_linear_loss: 0.8437 - output_softmax_accuracy: 0.8989 - output_linear_mae: 0.6788 - val_loss: 0.5739 - val_output_softmax_loss: 0.1455 - val_output_linear_loss: 0.4284 - val_output_softmax_accuracy: 0.9606 - val_output_linear_mae: 0.4879\n",
      "Epoch 7/50\n",
      "2813/2813 [==============================] - 44s 16ms/step - loss: 1.1432 - output_softmax_loss: 0.3081 - output_linear_loss: 0.8351 - output_softmax_accuracy: 0.9022 - output_linear_mae: 0.6777 - val_loss: 0.6107 - val_output_softmax_loss: 0.1729 - val_output_linear_loss: 0.4379 - val_output_softmax_accuracy: 0.9493 - val_output_linear_mae: 0.4960\n",
      "Epoch 8/50\n",
      "2813/2813 [==============================] - 36s 13ms/step - loss: 1.1318 - output_softmax_loss: 0.3056 - output_linear_loss: 0.8262 - output_softmax_accuracy: 0.9018 - output_linear_mae: 0.6735 - val_loss: 0.5588 - val_output_softmax_loss: 0.1429 - val_output_linear_loss: 0.4159 - val_output_softmax_accuracy: 0.9607 - val_output_linear_mae: 0.4757\n",
      "Epoch 9/50\n",
      "2813/2813 [==============================] - 36s 13ms/step - loss: 1.1335 - output_softmax_loss: 0.3000 - output_linear_loss: 0.8335 - output_softmax_accuracy: 0.9023 - output_linear_mae: 0.6760 - val_loss: 0.5739 - val_output_softmax_loss: 0.1306 - val_output_linear_loss: 0.4433 - val_output_softmax_accuracy: 0.9642 - val_output_linear_mae: 0.4924\n",
      "Epoch 10/50\n",
      "2813/2813 [==============================] - 36s 13ms/step - loss: 1.1215 - output_softmax_loss: 0.3041 - output_linear_loss: 0.8174 - output_softmax_accuracy: 0.9011 - output_linear_mae: 0.6703 - val_loss: 0.6468 - val_output_softmax_loss: 0.1498 - val_output_linear_loss: 0.4970 - val_output_softmax_accuracy: 0.9564 - val_output_linear_mae: 0.5360\n",
      "Epoch 11/50\n",
      "2813/2813 [==============================] - 36s 13ms/step - loss: 1.1270 - output_softmax_loss: 0.3055 - output_linear_loss: 0.8214 - output_softmax_accuracy: 0.9016 - output_linear_mae: 0.6709 - val_loss: 0.5252 - val_output_softmax_loss: 0.1461 - val_output_linear_loss: 0.3791 - val_output_softmax_accuracy: 0.9605 - val_output_linear_mae: 0.4475\n",
      "Epoch 12/50\n",
      "2813/2813 [==============================] - 36s 13ms/step - loss: 1.1132 - output_softmax_loss: 0.2986 - output_linear_loss: 0.8146 - output_softmax_accuracy: 0.9037 - output_linear_mae: 0.6700 - val_loss: 0.6016 - val_output_softmax_loss: 0.1624 - val_output_linear_loss: 0.4391 - val_output_softmax_accuracy: 0.9543 - val_output_linear_mae: 0.4922\n",
      "Epoch 13/50\n",
      "2813/2813 [==============================] - 36s 13ms/step - loss: 1.1216 - output_softmax_loss: 0.3065 - output_linear_loss: 0.8151 - output_softmax_accuracy: 0.8994 - output_linear_mae: 0.6683 - val_loss: 0.6035 - val_output_softmax_loss: 0.1591 - val_output_linear_loss: 0.4443 - val_output_softmax_accuracy: 0.9577 - val_output_linear_mae: 0.4985\n",
      "Epoch 14/50\n",
      "2813/2813 [==============================] - 38s 13ms/step - loss: 1.1187 - output_softmax_loss: 0.3073 - output_linear_loss: 0.8114 - output_softmax_accuracy: 0.9011 - output_linear_mae: 0.6683 - val_loss: 0.5722 - val_output_softmax_loss: 0.1498 - val_output_linear_loss: 0.4225 - val_output_softmax_accuracy: 0.9593 - val_output_linear_mae: 0.4837\n",
      "Epoch 15/50\n",
      "2813/2813 [==============================] - 36s 13ms/step - loss: 1.1117 - output_softmax_loss: 0.3023 - output_linear_loss: 0.8094 - output_softmax_accuracy: 0.9003 - output_linear_mae: 0.6673 - val_loss: 0.5514 - val_output_softmax_loss: 0.1351 - val_output_linear_loss: 0.4163 - val_output_softmax_accuracy: 0.9637 - val_output_linear_mae: 0.4829\n",
      "Epoch 16/50\n",
      "2813/2813 [==============================] - 36s 13ms/step - loss: 1.1279 - output_softmax_loss: 0.3103 - output_linear_loss: 0.8175 - output_softmax_accuracy: 0.9018 - output_linear_mae: 0.6692 - val_loss: 0.5417 - val_output_softmax_loss: 0.1347 - val_output_linear_loss: 0.4069 - val_output_softmax_accuracy: 0.9608 - val_output_linear_mae: 0.4820\n",
      "Epoch 17/50\n",
      "2813/2813 [==============================] - 36s 13ms/step - loss: 1.1186 - output_softmax_loss: 0.3067 - output_linear_loss: 0.8119 - output_softmax_accuracy: 0.8993 - output_linear_mae: 0.6684 - val_loss: 0.5946 - val_output_softmax_loss: 0.1577 - val_output_linear_loss: 0.4369 - val_output_softmax_accuracy: 0.9565 - val_output_linear_mae: 0.4952\n",
      "Epoch 18/50\n",
      "2813/2813 [==============================] - 36s 13ms/step - loss: 1.1251 - output_softmax_loss: 0.3126 - output_linear_loss: 0.8125 - output_softmax_accuracy: 0.8985 - output_linear_mae: 0.6681 - val_loss: 0.6073 - val_output_softmax_loss: 0.1534 - val_output_linear_loss: 0.4539 - val_output_softmax_accuracy: 0.9574 - val_output_linear_mae: 0.5067\n",
      "Epoch 19/50\n",
      "2813/2813 [==============================] - 36s 13ms/step - loss: 1.1055 - output_softmax_loss: 0.2983 - output_linear_loss: 0.8073 - output_softmax_accuracy: 0.9054 - output_linear_mae: 0.6653 - val_loss: 0.6778 - val_output_softmax_loss: 0.1460 - val_output_linear_loss: 0.5318 - val_output_softmax_accuracy: 0.9571 - val_output_linear_mae: 0.5663\n",
      "Epoch 20/50\n",
      "2813/2813 [==============================] - 36s 13ms/step - loss: 1.1139 - output_softmax_loss: 0.3067 - output_linear_loss: 0.8073 - output_softmax_accuracy: 0.8993 - output_linear_mae: 0.6668 - val_loss: 0.5401 - val_output_softmax_loss: 0.1418 - val_output_linear_loss: 0.3983 - val_output_softmax_accuracy: 0.9607 - val_output_linear_mae: 0.4685\n",
      "Epoch 21/50\n",
      "2813/2813 [==============================] - 36s 13ms/step - loss: 1.1132 - output_softmax_loss: 0.3072 - output_linear_loss: 0.8059 - output_softmax_accuracy: 0.9005 - output_linear_mae: 0.6651 - val_loss: 0.6126 - val_output_softmax_loss: 0.1505 - val_output_linear_loss: 0.4621 - val_output_softmax_accuracy: 0.9572 - val_output_linear_mae: 0.5076\n",
      "training time: 816.2644296999933\n"
     ]
    }
   ],
   "source": [
    "\n",
    "def run(model, X_train,y_train, X_val,y_val,\n",
    "        opt = 'adam',\n",
    "        loss = 'categorical_crossentropy',\n",
    "        metrics = ['accuracy'],\n",
    "        epochs = 50,\n",
    "        batch_size = 16):\n",
    "    \n",
    "    # https://distill.pub/2017/momentum/\n",
    "    # https://www.tensorflow.org/api_docs/python/tf/keras/metrics\n",
    "    model.compile(optimizer=opt, \n",
    "                  loss=loss,\n",
    "                  metrics=metrics)\n",
    "    \n",
    "    # early stopping\n",
    "    es = EarlyStopping(patience = 10, restore_best_weights = True)\n",
    "    \n",
    "    start_time = timer()\n",
    "    history = model.fit(X_train, \n",
    "                        y_train,\n",
    "                        #validation_split = 0.3, # auto val generation\n",
    "                        validation_data = (X_val, y_val),\n",
    "                        batch_size = batch_size,\n",
    "                        epochs = epochs,\n",
    "                        callbacks = [es],\n",
    "                        verbose = 1)\n",
    "    \n",
    "    training_time = timer() - start_time\n",
    "    print(\"training time:\", training_time)\n",
    "    \n",
    "    return history\n",
    "\n",
    "# classification with N classes\n",
    "#history = run(model, X_train_scaled,y_train_cat, X_val_scaled,y_val_cat)\n",
    "\n",
    "# regression\n",
    "\"\"\"history = run(model, X_train_scaled,aabb_train, X_val_scaled,aabb_val,\n",
    "              loss='mse',\n",
    "              metrics=['mae'],\n",
    "              opt=optimizers.Adam(learning_rate=0.01, beta_1=0.9, beta_2=0.999))\"\"\"\n",
    "\n",
    "# classification + regression\n",
    "history = run(model, X_train_scaled,[y_train_cat,y_train_aabb], X_val_scaled,[y_val_cat,y_val_aabb],\n",
    "              loss={'output_softmax': 'categorical_crossentropy',\n",
    "                    'output_linear': 'mse'},\n",
    "              metrics={'output_softmax': 'accuracy',\n",
    "                       'output_linear': 'mae'},\n",
    "              opt=optimizers.Adam(learning_rate=0.01, beta_1=0.9, beta_2=0.999))\n",
    "\n",
    "\n",
    "# print(\"aabb_train:\", aabb_train[0]);\n",
    "# print(\"aabb_val:\", aabb_val[0]);\n",
    "# print(\"aabb_test:\", aabb_test[0]);\n"
   ]
  },
  {
   "cell_type": "markdown",
   "id": "68bc0fde",
   "metadata": {},
   "source": [
    "# Layers & Filters"
   ]
  },
  {
   "cell_type": "code",
   "execution_count": 67,
   "id": "4dde0ee6",
   "metadata": {
    "ExecuteTime": {
     "end_time": "2023-04-25T06:55:16.135576Z",
     "start_time": "2023-04-25T06:55:16.123644Z"
    }
   },
   "outputs": [
    {
     "data": {
      "text/plain": [
       "TensorShape([3, 3, 1, 16])"
      ]
     },
     "execution_count": 67,
     "metadata": {},
     "output_type": "execute_result"
    }
   ],
   "source": [
    "layer_1 = model.layers[0]\n",
    "layer_1.weights[0].shape"
   ]
  },
  {
   "cell_type": "code",
   "execution_count": 68,
   "id": "0aa56d04",
   "metadata": {
    "ExecuteTime": {
     "end_time": "2023-04-25T06:55:21.720558Z",
     "start_time": "2023-04-25T06:55:21.475463Z"
    }
   },
   "outputs": [
    {
     "data": {
      "image/png": "[encoded data removed]",
      "text/plain": [
       "<Figure size 432x288 with 1 Axes>"
      ]
     },
     "metadata": {
      "needs_background": "light"
     },
     "output_type": "display_data"
    }
   ],
   "source": [
    "plt.imshow(layer_1.weights[0][:,:,:,15], cmap='gray');"
   ]
  },
  {
   "cell_type": "code",
   "execution_count": 69,
   "id": "faf4b1c6",
   "metadata": {
    "ExecuteTime": {
     "end_time": "2023-04-25T06:55:24.681824Z",
     "start_time": "2023-04-25T06:55:24.668383Z"
    }
   },
   "outputs": [
    {
     "data": {
      "text/plain": [
       "TensorShape([10, 28, 28, 16])"
      ]
     },
     "execution_count": 69,
     "metadata": {},
     "output_type": "execute_result"
    }
   ],
   "source": [
    "batch = X_train_scaled[0:10]\n",
    "activation_1 = layer_1(batch)\n",
    "activation_1.shape"
   ]
  },
  {
   "cell_type": "code",
   "execution_count": 70,
   "id": "ba5143ef",
   "metadata": {
    "ExecuteTime": {
     "end_time": "2023-04-25T06:55:31.976084Z",
     "start_time": "2023-04-25T06:55:29.564180Z"
    }
   },
   "outputs": [
    {
     "data": {
      "image/png": "[encoded data removed]",
      "text/plain": [
       "<Figure size 1080x432 with 16 Axes>"
      ]
     },
     "metadata": {
      "needs_background": "light"
     },
     "output_type": "display_data"
    }
   ],
   "source": [
    "# first channel output on the first image\n",
    "fit, axs = plt.subplots(4,4, figsize=(15,6))\n",
    "for i in range(4):\n",
    "    for j in range(4):\n",
    "        feature_map = activation_1[0,:,:,i+j]\n",
    "        axs[i,j].imshow(feature_map, cmap='gray')"
   ]
  },
  {
   "cell_type": "markdown",
   "id": "9dcad921",
   "metadata": {},
   "source": [
    "# Plot results"
   ]
  },
  {
   "cell_type": "code",
   "execution_count": 38,
   "id": "35b08348",
   "metadata": {
    "ExecuteTime": {
     "end_time": "2023-04-26T06:21:28.353687Z",
     "start_time": "2023-04-26T06:21:28.338095Z"
    }
   },
   "outputs": [],
   "source": [
    "def plot_history(history, labels = [\"loss\"]):\n",
    "    h = history.history\n",
    "    with plt.style.context('seaborn-deep'):\n",
    "        fig, ax = plt.subplots(1, max(2,len(labels)), figsize=(15, 4))\n",
    "        x_axis = np.arange(len(h[labels[0]]))\n",
    "        for i in range(len(labels)):\n",
    "            l = labels[i]\n",
    "            L = l.capitalize()\n",
    "            ax[i].set_title(l)\n",
    "            ax[i].plot(x_axis, h[l], color=\"blue\", linestyle=\":\", marker=\"X\", label=\"Train \"+L)\n",
    "            ax[i].plot(x_axis, h['val_'+l], color=\"orange\", linestyle=\"-\", marker=\"X\", label=\"Val \"+L)\n",
    "            ax[i].grid(axis=\"x\", linewidth=0.5)\n",
    "            ax[i].grid(axis=\"y\", linewidth=0.5)\n",
    "            ax[i].legend()\n",
    "        plt.show()"
   ]
  },
  {
   "cell_type": "code",
   "execution_count": 41,
   "id": "f02767aa",
   "metadata": {
    "ExecuteTime": {
     "end_time": "2023-04-26T06:23:04.222929Z",
     "start_time": "2023-04-26T06:23:03.633516Z"
    }
   },
   "outputs": [
    {
     "data": {
      "image/png": "[encoded data removed]",
      "text/plain": [
       "<Figure size 1080x288 with 3 Axes>"
      ]
     },
     "metadata": {
      "needs_background": "light"
     },
     "output_type": "display_data"
    }
   ],
   "source": [
    "#plot_history(history, [\"loss\", \"accuracy\"])\n",
    "plot_history(history, [\"loss\", \"output_softmax_accuracy\", \"output_linear_mae\"])"
   ]
  },
  {
   "cell_type": "markdown",
   "id": "cbbd18d4",
   "metadata": {},
   "source": [
    "# Baseline Score"
   ]
  },
  {
   "cell_type": "markdown",
   "id": "3a109e06",
   "metadata": {
    "ExecuteTime": {
     "end_time": "2023-04-25T04:18:29.272395Z",
     "start_time": "2023-04-25T04:18:29.262753Z"
    }
   },
   "source": [
    "Zero Rate Classifier:\n",
    "- https://towardsdatascience.com/calculating-a-baseline-accuracy-for-a-classification-model-a4b342ceb88f"
   ]
  },
  {
   "cell_type": "code",
   "execution_count": 12,
   "id": "31c8c83d",
   "metadata": {
    "ExecuteTime": {
     "end_time": "2023-04-25T21:54:11.254634Z",
     "start_time": "2023-04-25T21:54:11.240478Z"
    }
   },
   "outputs": [
    {
     "data": {
      "text/plain": [
       "1    6742\n",
       "7    6265\n",
       "3    6131\n",
       "2    5958\n",
       "9    5949\n",
       "0    5923\n",
       "6    5918\n",
       "8    5851\n",
       "4    5842\n",
       "5    5421\n",
       "dtype: int64"
      ]
     },
     "execution_count": 12,
     "metadata": {},
     "output_type": "execute_result"
    }
   ],
   "source": [
    "distr = pd.Series(y_train).value_counts()\n",
    "distr"
   ]
  },
  {
   "cell_type": "code",
   "execution_count": 55,
   "id": "3e60bf6c",
   "metadata": {
    "ExecuteTime": {
     "end_time": "2023-04-25T04:47:14.116093Z",
     "start_time": "2023-04-25T04:47:14.103815Z"
    }
   },
   "outputs": [
    {
     "name": "stdout",
     "output_type": "stream",
     "text": [
      "Our baseline is: 10.028815944444444%\n"
     ]
    }
   ],
   "source": [
    "def categorical_baseline(y_train):\n",
    "    distr = pd.Series(y_train).value_counts()\n",
    "    total = len(y_train)\n",
    "    return ((distr / total) ** 2).sum()\n",
    "\n",
    "baseline = categorical_baseline(y_train)\n",
    "\n",
    "print(\"Our baseline is: \" + str(baseline*100) + \"%\")"
   ]
  },
  {
   "cell_type": "markdown",
   "id": "c77c0549",
   "metadata": {},
   "source": [
    "# Evaluation vs test set"
   ]
  },
  {
   "cell_type": "code",
   "execution_count": 43,
   "id": "31426b08",
   "metadata": {
    "ExecuteTime": {
     "end_time": "2023-04-26T06:44:30.680123Z",
     "start_time": "2023-04-26T06:44:11.368879Z"
    }
   },
   "outputs": [
    {
     "name": "stdout",
     "output_type": "stream",
     "text": [
      "1407/1407 [==============================] - 12s 9ms/step - loss: 0.4724 - output_softmax_loss: 0.1061 - output_linear_loss: 0.3663 - output_softmax_accuracy: 0.9671 - output_linear_mae: 0.4425\n",
      "469/469 [==============================] - 4s 8ms/step - loss: 0.5252 - output_softmax_loss: 0.1461 - output_linear_loss: 0.3791 - output_softmax_accuracy: 0.9605 - output_linear_mae: 0.4475\n",
      "313/313 [==============================] - 3s 9ms/step - loss: 0.4964 - output_softmax_loss: 0.1403 - output_linear_loss: 0.3561 - output_softmax_accuracy: 0.9597 - output_linear_mae: 0.4404\n"
     ]
    }
   ],
   "source": [
    "def evaluate(X_train,y_train, X_val,y_val, X_test, y_test):\n",
    "    eval_res = {\n",
    "        \"train\": model.evaluate(X_train, y_train, batch_size=None, verbose = 1)[1],\n",
    "        \"val\": model.evaluate(X_val, y_val, batch_size=None, verbose = 1)[1],\n",
    "        \"test\": model.evaluate(X_test, y_test, batch_size=None, verbose = 1)[1]\n",
    "    }\n",
    "    return eval_res\n",
    "\n",
    "#eval_res = evaluate(X_train_scaled,y_train_cat, X_val_scaled,y_val_cat, X_test_scaled, y_test_cat)\n",
    "#eval_res = evaluate(X_train_scaled,y_train_aabb, X_val_scaled,y_val_aabb, X_test_scaled, y_test_aabb)\n",
    "\n",
    "eval_res = evaluate(X_train_scaled, [y_train_cat,y_train_aabb],\n",
    "                    X_val_scaled, [y_val_cat,y_val_aabb],\n",
    "                    X_test_scaled, [y_test_cat,y_test_aabb])\n",
    "\n",
    "#print(f'The accuracy on the train set is of {eval_res[\"train\"]*100:.2f} %')\n",
    "#print(f'The accuracy on the val set is of {eval_res[\"val\"]*100:.2f} %')\n",
    "#print(f'The accuracy on the test set is of {eval_res[\"test\"]*100:.2f} %')"
   ]
  },
  {
   "cell_type": "code",
   "execution_count": 47,
   "id": "75477333",
   "metadata": {
    "ExecuteTime": {
     "end_time": "2023-04-26T06:48:10.797219Z",
     "start_time": "2023-04-26T06:48:10.674382Z"
    }
   },
   "outputs": [
    {
     "name": "stdout",
     "output_type": "stream",
     "text": [
      "1/1 [==============================] - 0s 31ms/step\n"
     ]
    },
    {
     "data": {
      "text/plain": [
       "array([[1.5612330e-05, 4.5116025e-10, 6.6141633e-06, 1.0511721e-09,\n",
       "        1.7484422e-04, 7.8093956e-07, 9.9978155e-01, 1.4887961e-14,\n",
       "        2.0626305e-05, 8.8840124e-10]], dtype=float32)"
      ]
     },
     "execution_count": 47,
     "metadata": {},
     "output_type": "execute_result"
    }
   ],
   "source": [
    "model.predict(X_test_scaled)\n",
    "#model.predict(np.array([X_test_scaled[label]]))[0]"
   ]
  },
  {
   "cell_type": "markdown",
   "id": "b5c0b29b",
   "metadata": {},
   "source": [
    "# Predict one observation"
   ]
  },
  {
   "cell_type": "code",
   "execution_count": 66,
   "id": "0937e483",
   "metadata": {
    "ExecuteTime": {
     "end_time": "2023-04-26T06:54:46.276235Z",
     "start_time": "2023-04-26T06:54:45.899796Z"
    }
   },
   "outputs": [
    {
     "name": "stdout",
     "output_type": "stream",
     "text": [
      "1/1 [==============================] - 0s 29ms/step\n",
      "Prediction is = Number 2 (97.90%)\n"
     ]
    },
    {
     "data": {
      "image/png": "[encoded data removed]",
      "text/plain": [
       "<Figure size 432x288 with 1 Axes>"
      ]
     },
     "metadata": {
      "needs_background": "light"
     },
     "output_type": "display_data"
    }
   ],
   "source": [
    "label = 72\n",
    "\n",
    "predicted = model.predict(np.array([X_test_scaled[label]]))\n",
    "predicted_class = list(predicted[0][0])\n",
    "predicted_linear = predicted[1][0]\n",
    "\n",
    "#print(\"prediction table:\", predicted)\n",
    "plt.imshow(X_test_scaled[label], cmap='gray')\n",
    "\n",
    "predicted_label = labels[predicted_class.index(max(predicted_class))]\n",
    "print(\"Prediction is =\", predicted_label, f\"({max(predicted_class)*100:.2f}%)\")\n",
    "\n",
    "plt_rectangle(predicted_linear)\n",
    "plt.show()"
   ]
  },
  {
   "cell_type": "markdown",
   "id": "948b2b3d",
   "metadata": {},
   "source": [
    "# Class Scores"
   ]
  },
  {
   "cell_type": "code",
   "execution_count": 76,
   "id": "e578c5d2",
   "metadata": {
    "ExecuteTime": {
     "end_time": "2023-04-25T06:56:36.549379Z",
     "start_time": "2023-04-25T06:56:36.539127Z"
    },
    "scrolled": true
   },
   "outputs": [
    {
     "name": "stdout",
     "output_type": "stream",
     "text": [
      "Prediction table for 'Number 9':\n",
      "\n",
      " [3.3507745e-19, 4.752253e-17, 4.743725e-16, 7.314405e-13, 5.44116e-07, 2.1716316e-13, 6.824018e-21, 6.388595e-08, 4.7820276e-11, 0.9999994]\n"
     ]
    }
   ],
   "source": [
    "print(f\"Prediction table for '{predicted_label}':\")\n",
    "print(\"\\n\",predicted)"
   ]
  },
  {
   "cell_type": "markdown",
   "id": "e4b4aa74",
   "metadata": {},
   "source": [
    "# Save"
   ]
  },
  {
   "cell_type": "code",
   "execution_count": 69,
   "id": "dd5b734f",
   "metadata": {
    "ExecuteTime": {
     "end_time": "2023-04-26T06:56:47.995839Z",
     "start_time": "2023-04-26T06:56:44.717020Z"
    }
   },
   "outputs": [
    {
     "name": "stdout",
     "output_type": "stream",
     "text": [
      "Keras weights file (<HDF5 file \"variables.h5\" (mode r+)>) saving:\n",
      "...layers\n",
      "......conv2d\n",
      ".........vars\n",
      "............0\n",
      "............1\n",
      "......conv2d_1\n",
      ".........vars\n",
      "............0\n",
      "............1\n",
      "......dense\n",
      ".........vars\n",
      "............0\n",
      "............1\n",
      "......dense_1\n",
      ".........vars\n",
      "............0\n",
      "............1\n",
      "......dense_2\n",
      ".........vars\n",
      "............0\n",
      "............1\n",
      "......dropout\n",
      ".........vars\n",
      "......flatten\n",
      ".........vars\n",
      "......input_layer\n",
      ".........vars\n",
      "......max_pooling2d\n",
      ".........vars\n",
      "......max_pooling2d_1\n",
      ".........vars\n",
      "...metrics\n",
      "......mean\n",
      ".........vars\n",
      "............0\n",
      "............1\n",
      "......mean_1\n",
      ".........vars\n",
      "............0\n",
      "............1\n",
      "......mean_2\n",
      ".........vars\n",
      "............0\n",
      "............1\n",
      "......mean_metric_wrapper\n",
      ".........vars\n",
      "............0\n",
      "............1\n",
      "......mean_metric_wrapper_1\n",
      ".........vars\n",
      "............0\n",
      "............1\n",
      "...optimizer\n",
      "......vars\n",
      ".........0\n",
      ".........1\n",
      ".........10\n",
      ".........11\n",
      ".........12\n",
      ".........13\n",
      ".........14\n",
      ".........15\n",
      ".........16\n",
      ".........17\n",
      ".........18\n",
      ".........19\n",
      ".........2\n",
      ".........20\n",
      ".........3\n",
      ".........4\n",
      ".........5\n",
      ".........6\n",
      ".........7\n",
      ".........8\n",
      ".........9\n",
      "...vars\n",
      "Keras model archive saving:\n",
      "File Name                                             Modified             Size\n",
      "metadata.json                                  2023-04-26 08:56:44           64\n",
      "config.json                                    2023-04-26 08:56:44         4935\n",
      "variables.h5                                   2023-04-26 08:56:44      1025992\n"
     ]
    },
    {
     "name": "stderr",
     "output_type": "stream",
     "text": [
      "/home/nes/.pyenv/versions/3.8.12/envs/BatteryProject/lib/python3.8/site-packages/tensorflowjs/converters/keras_h5_conversion.py:123: H5pyDeprecationWarning: The default file mode will change to 'r' (read-only) in h5py 3.0. To suppress this warning, pass the mode you need to h5py.File(), or set the global default h5.get_config().default_file_mode, or set the environment variable H5PY_DEFAULT_READONLY=1. Available modes are: 'r', 'r+', 'w', 'w-'/'x', 'a'. See the docs for details.\n",
      "  return h5py.File(h5file)\n",
      "WARNING:absl:Found untraced functions such as _jit_compiled_convolution_op, _jit_compiled_convolution_op, _update_step_xla while saving (showing 3 of 3). These functions will not be directly callable after loading.\n"
     ]
    },
    {
     "name": "stdout",
     "output_type": "stream",
     "text": [
      "INFO:tensorflow:Assets written to: /tmp/tmp0c6zu6uo/assets\n"
     ]
    },
    {
     "name": "stderr",
     "output_type": "stream",
     "text": [
      "INFO:tensorflow:Assets written to: /tmp/tmp0c6zu6uo/assets\n",
      "2023-04-26 08:56:47.681058: W tensorflow/compiler/mlir/lite/python/tf_tfl_flatbuffer_helpers.cc:362] Ignored output_format.\n",
      "2023-04-26 08:56:47.681271: W tensorflow/compiler/mlir/lite/python/tf_tfl_flatbuffer_helpers.cc:365] Ignored drop_control_dependency.\n",
      "2023-04-26 08:56:47.682026: I tensorflow/cc/saved_model/reader.cc:45] Reading SavedModel from: /tmp/tmp0c6zu6uo\n",
      "2023-04-26 08:56:47.686937: I tensorflow/cc/saved_model/reader.cc:89] Reading meta graph with tags { serve }\n",
      "2023-04-26 08:56:47.687023: I tensorflow/cc/saved_model/reader.cc:130] Reading SavedModel debug info (if present) from: /tmp/tmp0c6zu6uo\n"
     ]
    }
   ],
   "source": [
    "def create_csv_id():\n",
    "    dir_path = os.path.join(os.path.dirname(os.getcwd()), 'models')\n",
    "    file_path = os.path.join(dir_path, 'ids.csv')\n",
    "    cur_id = 0\n",
    "    # folder exists ?\n",
    "    if not os.path.exists(dir_path):\n",
    "        os.mkdir(dir_path)\n",
    "    # file exists ?\n",
    "    if not os.path.exists(file_path):\n",
    "        df = pd.DataFrame([0], columns=['id'])\n",
    "        df.to_csv(file_path, index=False)\n",
    "    else:\n",
    "        # csv -> dataframe\n",
    "        df = pd.read_csv(file_path)\n",
    "        cur_id = df[\"id\"].iloc[-1] + 1\n",
    "        with open(file_path, \"a\") as f:\n",
    "            csv.writer(f).writerow([cur_id])\n",
    "            \n",
    "    return {\"cur_id\": cur_id, \"dir_path\": dir_path}\n",
    "\n",
    "\n",
    "def save_model(model):\n",
    "    res = create_csv_id()\n",
    "    dir_path = res[\"dir_path\"]\n",
    "    str_id = str(res[\"cur_id\"]).zfill(4)\n",
    "    base_name = f'model_{str_id}'\n",
    "    \n",
    "    # normal\n",
    "    joblib.dump(model, os.path.join(dir_path, base_name+'.pkl'))\n",
    "    \n",
    "    # for tensorflow.js\n",
    "    tfjs.converters.save_keras_model(model, os.path.join(dir_path, base_name))\n",
    "\n",
    "    # for lite\n",
    "    converter = tf.lite.TFLiteConverter.from_keras_model(model)\n",
    "    tflite_model = converter.convert()\n",
    "    with open(os.path.join(dir_path, base_name+'.tflite'), 'wb') as f:\n",
    "        f.write(tflite_model)\n",
    "    return\n",
    "\n",
    "save_model(model)"
   ]
  }
 ],
 "metadata": {
  "kernelspec": {
   "display_name": "Python 3 (ipykernel)",
   "language": "python",
   "name": "python3"
  },
  "language_info": {
   "codemirror_mode": {
    "name": "ipython",
    "version": 3
   },
   "file_extension": ".py",
   "mimetype": "text/x-python",
   "name": "python",
   "nbconvert_exporter": "python",
   "pygments_lexer": "ipython3",
   "version": "3.8.12"
  },
  "toc": {
   "base_numbering": 1,
   "nav_menu": {},
   "number_sections": true,
   "sideBar": true,
   "skip_h1_title": false,
   "title_cell": "Table of Contents",
   "title_sidebar": "Contents",
   "toc_cell": false,
   "toc_position": {
    "height": "calc(100% - 180px)",
    "left": "10px",
    "top": "150px",
    "width": "209.8px"
   },
   "toc_section_display": true,
   "toc_window_display": true
  }
 },
 "nbformat": 4,
 "nbformat_minor": 5
}
