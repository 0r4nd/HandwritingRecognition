{
 "cells": [
  {
   "cell_type": "markdown",
   "id": "cdb13ad7",
   "metadata": {
    "ExecuteTime": {
     "end_time": "2023-04-17T18:20:50.643830Z",
     "start_time": "2023-04-17T18:20:49.745008Z"
    }
   },
   "source": [
    "# Imports"
   ]
  },
  {
   "cell_type": "code",
   "execution_count": 2,
   "id": "8b15e5c2",
   "metadata": {
    "ExecuteTime": {
     "end_time": "2023-04-25T00:31:04.802254Z",
     "start_time": "2023-04-25T00:31:04.789272Z"
    }
   },
   "outputs": [],
   "source": [
    "import os\n",
    "import csv\n",
    "import numpy as np\n",
    "import pprint\n",
    "\n",
    "import matplotlib.pyplot as plt\n",
    "from matplotlib.patches import Rectangle\n",
    "from PIL import Image\n",
    "\n",
    "import pandas as pd\n",
    "\n",
    "from timeit import default_timer as timer\n",
    "import joblib\n",
    "\n",
    "import tensorflow as tf\n",
    "import tensorflowjs as tfjs\n",
    "\n",
    "from tensorflow.keras import layers, models, optimizers, regularizers\n",
    "from tensorflow.keras import datasets\n",
    "from tensorflow.keras.callbacks import EarlyStopping\n",
    "from tensorflow.keras.backend import expand_dims\n",
    "from tensorflow.keras.utils import to_categorical\n",
    "from sklearn.model_selection import train_test_split"
   ]
  },
  {
   "cell_type": "markdown",
   "id": "4e3237c9",
   "metadata": {},
   "source": [
    "# Libs options"
   ]
  },
  {
   "cell_type": "code",
   "execution_count": 41,
   "id": "3a1c41fd",
   "metadata": {
    "ExecuteTime": {
     "end_time": "2023-04-17T19:01:16.055624Z",
     "start_time": "2023-04-17T19:01:16.047807Z"
    }
   },
   "outputs": [],
   "source": [
    "#np.set_printoptions(threshold=16)\n",
    "pp = pprint.PrettyPrinter(indent=4, width=90)"
   ]
  },
  {
   "cell_type": "markdown",
   "id": "f91c2353",
   "metadata": {},
   "source": [
    "# Dataset"
   ]
  },
  {
   "cell_type": "code",
   "execution_count": 57,
   "id": "495a99ce",
   "metadata": {
    "ExecuteTime": {
     "end_time": "2023-04-25T06:01:32.669298Z",
     "start_time": "2023-04-25T06:01:31.699519Z"
    }
   },
   "outputs": [
    {
     "name": "stdout",
     "output_type": "stream",
     "text": [
      "bounding-squares csv loaded\n",
      "train: (45000, 28, 28, 1) (45000, 10)\n",
      "val: (15000, 28, 28, 1) (15000, 10)\n",
      "test: (10000, 28, 28, 1) (10000, 10)\n",
      "aabb_train: (7, 4, 21, 24)\n",
      "aabb_val: (8, 5, 20, 25)\n",
      "aabb_test: (6, 7, 22, 27)\n"
     ]
    }
   ],
   "source": [
    "def list_first_val(arr):\n",
    "    for i in arr:\n",
    "        if i > 0:\n",
    "            return 1\n",
    "    return -1\n",
    "\n",
    "def get_aabb2D(data):\n",
    "    \"\"\"aligned-axis bounding-box (bounding square)\"\"\"\n",
    "    x1 = 0xffff\n",
    "    y1 = 0xffff\n",
    "    x2 = 0\n",
    "    y2 = 0\n",
    "    # y1\n",
    "    for j in range(len(data)):\n",
    "        if list_first_val(data[j]) > 0:\n",
    "            y1 = j\n",
    "            break\n",
    "    # y2\n",
    "    for j in range(len(data)):\n",
    "        end = len(data)-j-1\n",
    "        if list_first_val(data[end]) > 0:\n",
    "            y2 = end\n",
    "            break\n",
    "    # x1, x2\n",
    "    for j in range(len(data)):\n",
    "        ydata = data[j]\n",
    "        val = 0xffff\n",
    "        last = 0\n",
    "        for i in range(len(ydata)):\n",
    "            if ydata[i] > 0:\n",
    "                x1 = min(x1,i)\n",
    "                x2 = max(x2,i)\n",
    "    return (x1,y1, x2+1,y2+1)\n",
    "    \n",
    "def get_X_aabb2D(X):\n",
    "    aabbs = []\n",
    "    for i in range(len(X)):\n",
    "        aabbs.append(get_aabb2D(X[i]))\n",
    "        #if i > 10: break\n",
    "    return aabbs\n",
    "\n",
    "def read_aabb_csv(dir_path, filename):\n",
    "    file_path = os.path.join(dir_path, filename)\n",
    "    df = pd.read_csv(file_path)\n",
    "    return list(df.itertuples(index=False, name=None))\n",
    "\n",
    "def write_aabb_csv(X, dir_path, filename):\n",
    "    file_path = os.path.join(dir_path, filename)\n",
    "    aabb = get_X_aabb2D(X)\n",
    "    df = pd.DataFrame(aabb, columns=['x1','y1','x2','y2'])\n",
    "    df.to_csv(file_path, index=False)\n",
    "    return aabb\n",
    "    \n",
    "def scaling(X_train, X_val, X_test):\n",
    "    X_train_scaled = X_train / 255.\n",
    "    X_val_scaled = X_val / 255.\n",
    "    X_test_scaled = X_test / 255.\n",
    "    return X_train_scaled, X_val_scaled, X_test_scaled\n",
    "\n",
    "def get_data():\n",
    "    (X_train, y_train), (X_test, y_test) = datasets.mnist.load_data(path=\"mnist.npz\")\n",
    "    dir_path = os.path.join(os.path.dirname(os.getcwd()), 'dataset')\n",
    "    # folder exists ?\n",
    "    if not os.path.exists(dir_path):\n",
    "        os.mkdir(dir_path)\n",
    "\n",
    "    # load aabb\n",
    "    if os.path.exists(os.path.join(dir_path, 'aabb_train.csv')):\n",
    "        aabb_train = read_aabb_csv(dir_path, 'aabb_train.csv')\n",
    "        aabb_test = read_aabb_csv(dir_path, 'aabb_test.csv')\n",
    "        print(\"bounding-squares csv loaded\")\n",
    "    else: # or compute them (slow!)\n",
    "        aabb_train = write_aabb_csv(X_train, dir_path, 'aabb_train.csv')\n",
    "        aabb_test = write_aabb_csv(X_test, dir_path, 'aabb_test.csv')\n",
    "        print(\"bounging-squares csv computed\")\n",
    "    #display(df_train)\n",
    "    \n",
    "    # add a dim: (28, 28) -> (28, 28, 1)\n",
    "    X_train = X_train.reshape(len(X_train), 28,28,1) # np.expand_dims(X_train, axis=-1)\n",
    "    X_test = X_test.reshape(len(X_test), 28,28,1)\n",
    "    \n",
    "    # to categorical\n",
    "    y_train_cat = to_categorical(y_train, num_classes=10, dtype =\"uint8\")\n",
    "    y_test_cat = to_categorical(y_test, num_classes=10, dtype =\"uint8\")\n",
    "    \n",
    "    # split train/validation\n",
    "    X_train, X_val, y_train_cat, y_val_cat = train_test_split(X_train, y_train_cat, test_size=0.25, random_state=1)\n",
    "    aabb_train, aabb_val = train_test_split(aabb_train, test_size=0.25, random_state=1)\n",
    "    \n",
    "    # scaling\n",
    "    X_train_scaled, X_val_scaled, X_test_scaled = scaling(X_train,X_val,X_test)\n",
    "    \n",
    "    return (X_train, y_train),(X_train_scaled, y_train_cat),(X_val_scaled, y_val_cat),(X_test_scaled, y_test_cat),(aabb_train, aabb_val, aabb_test)\n",
    "\n",
    "            \n",
    "(X_train, y_train),(X_train_scaled, y_train_cat),(X_val_scaled, y_val_cat),(X_test_scaled, y_test_cat),(aabb_train, aabb_val, aabb_test) = get_data()\n",
    "\n",
    "#print(\"train/valid:\", X_train.shape, y_train.shape)\n",
    "#print(\"test:\", X_test.shape, y_test.shape)\n",
    "\n",
    "print(\"train:\", X_train_scaled.shape, y_train_cat.shape);\n",
    "print(\"val:\", X_val_scaled.shape, y_val_cat.shape);\n",
    "print(\"test:\", X_test_scaled.shape, y_test_cat.shape);\n",
    "\n",
    "print(\"aabb_train:\", aabb_train[0]);\n",
    "print(\"aabb_val:\", aabb_val[0]);\n",
    "print(\"aabb_test:\", aabb_test[0]);"
   ]
  },
  {
   "cell_type": "code",
   "execution_count": 505,
   "id": "6ca6898d",
   "metadata": {
    "ExecuteTime": {
     "end_time": "2023-04-21T00:49:11.373846Z",
     "start_time": "2023-04-21T00:49:11.345552Z"
    }
   },
   "outputs": [
    {
     "data": {
      "text/plain": [
       "[array([0.]), array([0.]), array([0.]), array([0.]), array([0.]), array([0.]), array([0.]), array([0.]), array([0.]), array([0.]), array([0.]), array([0.]), array([0.]), array([0.]), array([0.]), array([0.24705882]), array([0.96078431]), array([0.94509804]), array([0.14901961]), array([0.]), array([0.]), array([0.]), array([0.]), array([0.]), array([0.]), array([0.]), array([0.]), array([0.])]"
      ]
     },
     "execution_count": 505,
     "metadata": {},
     "output_type": "execute_result"
    }
   ],
   "source": [
    "list(X_train[0][14])"
   ]
  },
  {
   "cell_type": "markdown",
   "id": "d928b7b9",
   "metadata": {},
   "source": [
    "# Draw image + Bounding Box"
   ]
  },
  {
   "cell_type": "code",
   "execution_count": 4,
   "id": "535dcdb0",
   "metadata": {
    "ExecuteTime": {
     "end_time": "2023-04-25T00:31:15.518634Z",
     "start_time": "2023-04-25T00:31:15.227726Z"
    }
   },
   "outputs": [
    {
     "data": {
      "image/png": "[encoded data removed]",
      "text/plain": [
       "<Figure size 432x288 with 1 Axes>"
      ]
     },
     "metadata": {
      "needs_background": "light"
     },
     "output_type": "display_data"
    }
   ],
   "source": [
    "def plt_rectangle(tup):\n",
    "    x1 = tup[0]\n",
    "    y1 = tup[1]\n",
    "    x2 = tup[2]\n",
    "    y2 = tup[3]\n",
    "    plt.gca().add_patch(Rectangle((x1-0.5,y1-0.5),x2-x1,y2-y1,linewidth=1,edgecolor='r',facecolor='none'))\n",
    "    return\n",
    "\n",
    "\n",
    "idx = 20\n",
    "plt.imshow(X_train_scaled[idx], cmap='gray');\n",
    "plt_rectangle(aabb_train[idx])\n"
   ]
  },
  {
   "cell_type": "code",
   "execution_count": 15,
   "id": "ba80a43f",
   "metadata": {
    "ExecuteTime": {
     "end_time": "2023-04-25T00:47:47.812879Z",
     "start_time": "2023-04-25T00:47:47.564945Z"
    },
    "scrolled": true
   },
   "outputs": [
    {
     "name": "stdout",
     "output_type": "stream",
     "text": [
      "label is: Number 5\n"
     ]
    },
    {
     "data": {
      "image/png": "[encoded data removed]",
      "text/plain": [
       "<Figure size 432x288 with 1 Axes>"
      ]
     },
     "metadata": {
      "needs_background": "light"
     },
     "output_type": "display_data"
    }
   ],
   "source": [
    "labels = [\"Number 0\",\n",
    "          \"Number 1\",\n",
    "          \"Number 2\",\n",
    "          \"Number 3\",\n",
    "          \"Number 4\",\n",
    "          \"Number 5\",\n",
    "          \"Number 6\",\n",
    "          \"Number 7\",\n",
    "          \"Number 8\",\n",
    "          \"Number 9\"]\n",
    "\n",
    "def categorical_to_id(arr_cat, labels=None):\n",
    "    res = -1\n",
    "    for i in range(len(arr_cat)):\n",
    "        if arr_cat[i]:\n",
    "            res = i\n",
    "            break\n",
    "    if labels is None:\n",
    "        return res\n",
    "    return labels[res]\n",
    "\n",
    "item = 21\n",
    "\n",
    "print(\"label is:\", categorical_to_id(y_train_cat[item], labels))\n",
    "plt.imshow(X_train_scaled[item], cmap='gray');"
   ]
  },
  {
   "cell_type": "code",
   "execution_count": 65,
   "id": "c783083c",
   "metadata": {
    "ExecuteTime": {
     "end_time": "2023-04-25T06:30:04.857924Z",
     "start_time": "2023-04-25T06:30:04.618902Z"
    }
   },
   "outputs": [
    {
     "name": "stdout",
     "output_type": "stream",
     "text": [
      "Model: \"sequential_6\"\n",
      "_________________________________________________________________\n",
      " Layer (type)                Output Shape              Param #   \n",
      "=================================================================\n",
      " conv2d_12 (Conv2D)          (None, 28, 28, 16)        160       \n",
      "                                                                 \n",
      " max_pooling2d_12 (MaxPoolin  (None, 14, 14, 16)       0         \n",
      " g2D)                                                            \n",
      "                                                                 \n",
      " conv2d_13 (Conv2D)          (None, 14, 14, 32)        2080      \n",
      "                                                                 \n",
      " max_pooling2d_13 (MaxPoolin  (None, 7, 7, 32)         0         \n",
      " g2D)                                                            \n",
      "                                                                 \n",
      " flatten_6 (Flatten)         (None, 1568)              0         \n",
      "                                                                 \n",
      " dense_12 (Dense)            (None, 50)                78450     \n",
      "                                                                 \n",
      " dropout_2 (Dropout)         (None, 50)                0         \n",
      "                                                                 \n",
      " dense_13 (Dense)            (None, 10)                510       \n",
      "                                                                 \n",
      "=================================================================\n",
      "Total params: 81,200\n",
      "Trainable params: 81,200\n",
      "Non-trainable params: 0\n",
      "_________________________________________________________________\n"
     ]
    }
   ],
   "source": [
    "\n",
    "def get_model(X):\n",
    "    \"\"\" classification with 10 classes \"\"\"\n",
    "    model = models.Sequential()\n",
    "    \n",
    "    model.add(layers.Conv2D(16, kernel_size=(3,3), activation='relu', padding='same', input_shape=X[0].shape))\n",
    "    model.add(layers.MaxPool2D(pool_size=(2,2)))\n",
    "\n",
    "    model.add(layers.Conv2D(32, kernel_size=(2,2), activation='relu', padding='same'))\n",
    "    model.add(layers.MaxPool2D(pool_size=(2,2)))\n",
    "    \n",
    "    model.add(layers.Flatten())\n",
    "    model.add(layers.Dense(50, activation='relu'))\n",
    "    model.add(layers.Dropout(0.3))\n",
    "    model.add(layers.Dense(10, activation='softmax'))\n",
    "    return model\n",
    "\n",
    "def get_model2(X):\n",
    "    \"\"\" regression with 4 outputs \"\"\"\n",
    "    model = models.Sequential()\n",
    "    \n",
    "    model.add(layers.Conv2D(8, (4,4), activation='relu', padding='same', input_shape=X[0].shape))\n",
    "    model.add(layers.MaxPool2D(pool_size=(2,2)))\n",
    "        \n",
    "    model.add(layers.Conv2D(16, (3,3), activation='relu', padding='same'))\n",
    "    model.add(layers.MaxPool2D(pool_size=(2,2)))\n",
    "        \n",
    "    model.add(layers.Flatten())\n",
    "    model.add(layers.Dense(4, activation='relu'))\n",
    "    model.add(layers.Dense(4, activation='linear'))\n",
    "    return model\n",
    "\n",
    "model = get_model(X_train_scaled)\n",
    "model.summary()"
   ]
  },
  {
   "cell_type": "markdown",
   "id": "ac0c17b4",
   "metadata": {},
   "source": [
    "# Train "
   ]
  },
  {
   "cell_type": "code",
   "execution_count": 66,
   "id": "5b50dc56",
   "metadata": {
    "ExecuteTime": {
     "end_time": "2023-04-25T06:44:49.021705Z",
     "start_time": "2023-04-25T06:30:11.138751Z"
    }
   },
   "outputs": [
    {
     "name": "stdout",
     "output_type": "stream",
     "text": [
      "Epoch 1/50\n",
      "2813/2813 [==============================] - 44s 15ms/step - loss: 0.2509 - accuracy: 0.9236 - val_loss: 0.0834 - val_accuracy: 0.9753\n",
      "Epoch 2/50\n",
      "2813/2813 [==============================] - 38s 13ms/step - loss: 0.1013 - accuracy: 0.9686 - val_loss: 0.0643 - val_accuracy: 0.9813\n",
      "Epoch 3/50\n",
      "2813/2813 [==============================] - 38s 13ms/step - loss: 0.0736 - accuracy: 0.9774 - val_loss: 0.0524 - val_accuracy: 0.9841\n",
      "Epoch 4/50\n",
      "2813/2813 [==============================] - 38s 14ms/step - loss: 0.0599 - accuracy: 0.9815 - val_loss: 0.0525 - val_accuracy: 0.9857\n",
      "Epoch 5/50\n",
      "2813/2813 [==============================] - 38s 14ms/step - loss: 0.0517 - accuracy: 0.9840 - val_loss: 0.0517 - val_accuracy: 0.9855\n",
      "Epoch 6/50\n",
      "2813/2813 [==============================] - 38s 13ms/step - loss: 0.0461 - accuracy: 0.9851 - val_loss: 0.0484 - val_accuracy: 0.9875\n",
      "Epoch 7/50\n",
      "2813/2813 [==============================] - 38s 13ms/step - loss: 0.0401 - accuracy: 0.9872 - val_loss: 0.0540 - val_accuracy: 0.9877\n",
      "Epoch 8/50\n",
      "2813/2813 [==============================] - 40s 14ms/step - loss: 0.0373 - accuracy: 0.9875 - val_loss: 0.0482 - val_accuracy: 0.9881\n",
      "Epoch 9/50\n",
      "2813/2813 [==============================] - 71s 25ms/step - loss: 0.0320 - accuracy: 0.9891 - val_loss: 0.0478 - val_accuracy: 0.9881\n",
      "Epoch 10/50\n",
      "2813/2813 [==============================] - 101s 36ms/step - loss: 0.0312 - accuracy: 0.9889 - val_loss: 0.0533 - val_accuracy: 0.9877\n",
      "Epoch 11/50\n",
      "2813/2813 [==============================] - 84s 30ms/step - loss: 0.0282 - accuracy: 0.9902 - val_loss: 0.0542 - val_accuracy: 0.9871\n",
      "Epoch 12/50\n",
      "2813/2813 [==============================] - 45s 16ms/step - loss: 0.0262 - accuracy: 0.9910 - val_loss: 0.0532 - val_accuracy: 0.9882\n",
      "Epoch 13/50\n",
      "2813/2813 [==============================] - 39s 14ms/step - loss: 0.0237 - accuracy: 0.9920 - val_loss: 0.0566 - val_accuracy: 0.9889\n",
      "Epoch 14/50\n",
      "2813/2813 [==============================] - 38s 14ms/step - loss: 0.0226 - accuracy: 0.9926 - val_loss: 0.0583 - val_accuracy: 0.9881\n",
      "Epoch 15/50\n",
      "2813/2813 [==============================] - 38s 13ms/step - loss: 0.0208 - accuracy: 0.9931 - val_loss: 0.0625 - val_accuracy: 0.9879\n",
      "Epoch 16/50\n",
      "2813/2813 [==============================] - 38s 13ms/step - loss: 0.0210 - accuracy: 0.9930 - val_loss: 0.0655 - val_accuracy: 0.9879\n",
      "Epoch 17/50\n",
      "2813/2813 [==============================] - 37s 13ms/step - loss: 0.0189 - accuracy: 0.9939 - val_loss: 0.0654 - val_accuracy: 0.9870\n",
      "Epoch 18/50\n",
      "2813/2813 [==============================] - 38s 14ms/step - loss: 0.0181 - accuracy: 0.9938 - val_loss: 0.0696 - val_accuracy: 0.9877\n",
      "Epoch 19/50\n",
      "2813/2813 [==============================] - 38s 13ms/step - loss: 0.0168 - accuracy: 0.9941 - val_loss: 0.0660 - val_accuracy: 0.9890\n",
      "training time: 877.8501483\n"
     ]
    },
    {
     "data": {
      "text/plain": [
       "\"history = run(model, X_train_scaled,y_train_cat, X_val_scaled,y_val_cat,\\n              loss='mse',\\n              metrics=['mae'],\\n              opt=optimizers.Adam(learning_rate=0.01, beta_1=0.9, beta_2=0.999))\""
      ]
     },
     "execution_count": 66,
     "metadata": {},
     "output_type": "execute_result"
    }
   ],
   "source": [
    "\n",
    "def run(model, X_train,y_train, X_val,y_val,\n",
    "        opt = 'adam',\n",
    "        loss = 'categorical_crossentropy',\n",
    "        metrics = ['accuracy'],\n",
    "        epochs = 50,\n",
    "        batch_size = 16):\n",
    "    \n",
    "    # https://distill.pub/2017/momentum/\n",
    "    # https://www.tensorflow.org/api_docs/python/tf/keras/metrics\n",
    "    model.compile(optimizer=opt, \n",
    "                  loss=loss,\n",
    "                  metrics=metrics)\n",
    "    \n",
    "    # early stopping\n",
    "    es = EarlyStopping(patience = 10, restore_best_weights = True)\n",
    "    \n",
    "    start_time = timer()\n",
    "    history = model.fit(X_train, \n",
    "                        y_train,\n",
    "                        #validation_split = 0.3, # auto val generation\n",
    "                        validation_data = (X_val, y_val),\n",
    "                        batch_size = batch_size,\n",
    "                        epochs = epochs,\n",
    "                        callbacks = [es],\n",
    "                        verbose = 1)\n",
    "    \n",
    "    training_time = timer() - start_time\n",
    "    print(\"training time:\", training_time)\n",
    "    \n",
    "    return history\n",
    "\n",
    "# classification with N classes\n",
    "history = run(model, X_train_scaled,y_train_cat, X_val_scaled,y_val_cat)\n",
    "\n",
    "# regression\n",
    "\"\"\"history = run(model, X_train_scaled,y_train_cat, X_val_scaled,y_val_cat,\n",
    "              loss='mse',\n",
    "              metrics=['mae'],\n",
    "              opt=optimizers.Adam(learning_rate=0.01, beta_1=0.9, beta_2=0.999))\"\"\""
   ]
  },
  {
   "cell_type": "markdown",
   "id": "68bc0fde",
   "metadata": {},
   "source": [
    "# Layers & Filters"
   ]
  },
  {
   "cell_type": "code",
   "execution_count": 67,
   "id": "4dde0ee6",
   "metadata": {
    "ExecuteTime": {
     "end_time": "2023-04-25T06:55:16.135576Z",
     "start_time": "2023-04-25T06:55:16.123644Z"
    }
   },
   "outputs": [
    {
     "data": {
      "text/plain": [
       "TensorShape([3, 3, 1, 16])"
      ]
     },
     "execution_count": 67,
     "metadata": {},
     "output_type": "execute_result"
    }
   ],
   "source": [
    "layer_1 = model.layers[0]\n",
    "layer_1.weights[0].shape"
   ]
  },
  {
   "cell_type": "code",
   "execution_count": 68,
   "id": "0aa56d04",
   "metadata": {
    "ExecuteTime": {
     "end_time": "2023-04-25T06:55:21.720558Z",
     "start_time": "2023-04-25T06:55:21.475463Z"
    }
   },
   "outputs": [
    {
     "data": {
      "image/png": "[encoded data removed]",
      "text/plain": [
       "<Figure size 432x288 with 1 Axes>"
      ]
     },
     "metadata": {
      "needs_background": "light"
     },
     "output_type": "display_data"
    }
   ],
   "source": [
    "plt.imshow(layer_1.weights[0][:,:,:,15], cmap='gray');"
   ]
  },
  {
   "cell_type": "code",
   "execution_count": 69,
   "id": "faf4b1c6",
   "metadata": {
    "ExecuteTime": {
     "end_time": "2023-04-25T06:55:24.681824Z",
     "start_time": "2023-04-25T06:55:24.668383Z"
    }
   },
   "outputs": [
    {
     "data": {
      "text/plain": [
       "TensorShape([10, 28, 28, 16])"
      ]
     },
     "execution_count": 69,
     "metadata": {},
     "output_type": "execute_result"
    }
   ],
   "source": [
    "batch = X_train_scaled[0:10]\n",
    "activation_1 = layer_1(batch)\n",
    "activation_1.shape"
   ]
  },
  {
   "cell_type": "code",
   "execution_count": 70,
   "id": "ba5143ef",
   "metadata": {
    "ExecuteTime": {
     "end_time": "2023-04-25T06:55:31.976084Z",
     "start_time": "2023-04-25T06:55:29.564180Z"
    }
   },
   "outputs": [
    {
     "data": {
      "image/png": "[encoded data removed]",
      "text/plain": [
       "<Figure size 1080x432 with 16 Axes>"
      ]
     },
     "metadata": {
      "needs_background": "light"
     },
     "output_type": "display_data"
    }
   ],
   "source": [
    "# first channel output on the first image\n",
    "fit, axs = plt.subplots(4,4, figsize=(15,6))\n",
    "for i in range(4):\n",
    "    for j in range(4):\n",
    "        feature_map = activation_1[0,:,:,i+j]\n",
    "        axs[i,j].imshow(feature_map, cmap='gray')"
   ]
  },
  {
   "cell_type": "markdown",
   "id": "9dcad921",
   "metadata": {},
   "source": [
    "# Plot results"
   ]
  },
  {
   "cell_type": "code",
   "execution_count": 71,
   "id": "35b08348",
   "metadata": {
    "ExecuteTime": {
     "end_time": "2023-04-25T06:55:36.000839Z",
     "start_time": "2023-04-25T06:55:35.986778Z"
    }
   },
   "outputs": [],
   "source": [
    "def plot_history(history, labels = [\"loss\"]):\n",
    "    h = history.history\n",
    "    with plt.style.context('seaborn-deep'):\n",
    "        fig, ax = plt.subplots(1, max(2,len(labels)), figsize=(15, 4))\n",
    "        x_axis = np.arange(len(h[labels[0]]))\n",
    "        for i in range(len(labels)):\n",
    "            l = labels[i]\n",
    "            L = l.capitalize()\n",
    "            ax[i].set_title(l)\n",
    "            ax[i].plot(x_axis, h[l], color=\"blue\", linestyle=\":\", marker=\"X\", label=\"Train \"+L)\n",
    "            ax[i].plot(x_axis, h['val_'+l], color=\"orange\", linestyle=\"-\", marker=\"X\", label=\"Val \"+L)\n",
    "            ax[i].grid(axis=\"x\", linewidth=0.5)\n",
    "            ax[i].grid(axis=\"y\", linewidth=0.5)\n",
    "            ax[i].legend()\n",
    "        plt.show()"
   ]
  },
  {
   "cell_type": "code",
   "execution_count": 72,
   "id": "f02767aa",
   "metadata": {
    "ExecuteTime": {
     "end_time": "2023-04-25T06:55:39.472001Z",
     "start_time": "2023-04-25T06:55:39.011095Z"
    }
   },
   "outputs": [
    {
     "data": {
      "image/png": "[encoded data removed]",
      "text/plain": [
       "<Figure size 1080x288 with 2 Axes>"
      ]
     },
     "metadata": {
      "needs_background": "light"
     },
     "output_type": "display_data"
    }
   ],
   "source": [
    "plot_history(history, [\"loss\", \"accuracy\"])"
   ]
  },
  {
   "cell_type": "markdown",
   "id": "cbbd18d4",
   "metadata": {},
   "source": [
    "# Baseline Score"
   ]
  },
  {
   "cell_type": "markdown",
   "id": "3a109e06",
   "metadata": {
    "ExecuteTime": {
     "end_time": "2023-04-25T04:18:29.272395Z",
     "start_time": "2023-04-25T04:18:29.262753Z"
    }
   },
   "source": [
    "Zero Rate Classifier:\n",
    "- https://towardsdatascience.com/calculating-a-baseline-accuracy-for-a-classification-model-a4b342ceb88f"
   ]
  },
  {
   "cell_type": "code",
   "execution_count": 35,
   "id": "31c8c83d",
   "metadata": {
    "ExecuteTime": {
     "end_time": "2023-04-25T04:20:50.998398Z",
     "start_time": "2023-04-25T04:20:50.984666Z"
    }
   },
   "outputs": [
    {
     "data": {
      "text/plain": [
       "1    6742\n",
       "7    6265\n",
       "3    6131\n",
       "2    5958\n",
       "9    5949\n",
       "0    5923\n",
       "6    5918\n",
       "8    5851\n",
       "4    5842\n",
       "5    5421\n",
       "dtype: int64"
      ]
     },
     "execution_count": 35,
     "metadata": {},
     "output_type": "execute_result"
    }
   ],
   "source": [
    "distr = pd.Series(y_train).value_counts()\n",
    "distr"
   ]
  },
  {
   "cell_type": "code",
   "execution_count": 55,
   "id": "3e60bf6c",
   "metadata": {
    "ExecuteTime": {
     "end_time": "2023-04-25T04:47:14.116093Z",
     "start_time": "2023-04-25T04:47:14.103815Z"
    }
   },
   "outputs": [
    {
     "name": "stdout",
     "output_type": "stream",
     "text": [
      "Our baseline is: 10.028815944444444%\n"
     ]
    }
   ],
   "source": [
    "def categorical_baseline(y_train):\n",
    "    distr = pd.Series(y_train).value_counts()\n",
    "    total = len(y_train)\n",
    "    return ((distr / total) ** 2).sum()\n",
    "\n",
    "baseline = categorical_baseline(y_train)\n",
    "\n",
    "print(\"Our baseline is: \" + str(baseline*100) + \"%\")"
   ]
  },
  {
   "cell_type": "markdown",
   "id": "c77c0549",
   "metadata": {},
   "source": [
    "# Evaluation vs test set"
   ]
  },
  {
   "cell_type": "code",
   "execution_count": 73,
   "id": "31426b08",
   "metadata": {
    "ExecuteTime": {
     "end_time": "2023-04-25T06:56:14.100622Z",
     "start_time": "2023-04-25T06:55:57.178861Z"
    }
   },
   "outputs": [
    {
     "name": "stdout",
     "output_type": "stream",
     "text": [
      "1407/1407 [==============================] - 10s 7ms/step - loss: 0.0087 - accuracy: 0.9973\n",
      "469/469 [==============================] - 4s 8ms/step - loss: 0.0478 - accuracy: 0.9881\n",
      "313/313 [==============================] - 2s 7ms/step - loss: 0.0383 - accuracy: 0.9899\n",
      "The accuracy on the train set is of 99.73 %\n",
      "The accuracy on the val set is of 98.81 %\n",
      "The accuracy on the test set is of 98.99 %\n"
     ]
    }
   ],
   "source": [
    "def evaluate(X_train_scaled,y_train_cat, X_val_scaled,y_val_cat, X_test_scaled, y_test_cat):\n",
    "    eval_res = {\n",
    "        \"train\": model.evaluate(X_train_scaled, y_train_cat, batch_size=None, verbose = 1)[1],\n",
    "        \"val\": model.evaluate(X_val_scaled, y_val_cat, batch_size=None, verbose = 1)[1],\n",
    "        \"test\": model.evaluate(X_test_scaled, y_test_cat, batch_size=None, verbose = 1)[1]\n",
    "    }\n",
    "    return eval_res\n",
    "\n",
    "eval_res = evaluate(X_train_scaled,y_train_cat, X_val_scaled,y_val_cat, X_test_scaled, y_test_cat)\n",
    "print(f'The accuracy on the train set is of {eval_res[\"train\"]*100:.2f} %')\n",
    "print(f'The accuracy on the val set is of {eval_res[\"val\"]*100:.2f} %')\n",
    "print(f'The accuracy on the test set is of {eval_res[\"test\"]*100:.2f} %')"
   ]
  },
  {
   "cell_type": "code",
   "execution_count": 74,
   "id": "75477333",
   "metadata": {
    "ExecuteTime": {
     "end_time": "2023-04-25T06:56:23.758946Z",
     "start_time": "2023-04-25T06:56:20.955701Z"
    }
   },
   "outputs": [
    {
     "name": "stdout",
     "output_type": "stream",
     "text": [
      "313/313 [==============================] - 2s 7ms/step\n"
     ]
    },
    {
     "data": {
      "text/plain": [
       "array([[7.6530968e-15, 2.5115809e-10, 2.0987536e-09, ..., 9.9999994e-01,\n",
       "        5.6686962e-14, 6.1817096e-10],\n",
       "       [4.5254516e-12, 3.6721728e-14, 9.9999994e-01, ..., 2.9413952e-15,\n",
       "        1.2432874e-13, 1.0521376e-21],\n",
       "       [1.3670645e-10, 9.9999911e-01, 2.6525814e-08, ..., 1.9433324e-09,\n",
       "        5.7705643e-07, 7.0596068e-10],\n",
       "       ...,\n",
       "       [1.0951095e-23, 1.1399109e-09, 2.3345244e-16, ..., 1.5422065e-11,\n",
       "        3.6730241e-12, 3.3493492e-09],\n",
       "       [8.8451646e-14, 3.2411072e-14, 1.2470693e-19, ..., 2.4187084e-19,\n",
       "        1.6161432e-07, 1.0049005e-11],\n",
       "       [7.2727921e-11, 3.3992709e-13, 3.6787162e-12, ..., 4.0938363e-19,\n",
       "        4.9179959e-11, 1.2254035e-14]], dtype=float32)"
      ]
     },
     "execution_count": 74,
     "metadata": {},
     "output_type": "execute_result"
    }
   ],
   "source": [
    "model.predict(X_test_scaled)"
   ]
  },
  {
   "cell_type": "markdown",
   "id": "b5c0b29b",
   "metadata": {},
   "source": [
    "# Predict one observation"
   ]
  },
  {
   "cell_type": "code",
   "execution_count": 75,
   "id": "0937e483",
   "metadata": {
    "ExecuteTime": {
     "end_time": "2023-04-25T06:56:27.553419Z",
     "start_time": "2023-04-25T06:56:27.236200Z"
    }
   },
   "outputs": [
    {
     "name": "stdout",
     "output_type": "stream",
     "text": [
      "1/1 [==============================] - 0s 38ms/step\n"
     ]
    },
    {
     "data": {
      "image/png": "[encoded data removed]",
      "text/plain": [
       "<Figure size 432x288 with 1 Axes>"
      ]
     },
     "metadata": {
      "needs_background": "light"
     },
     "output_type": "display_data"
    },
    {
     "name": "stdout",
     "output_type": "stream",
     "text": [
      "Prediction is = Number 9 (100.00%)\n"
     ]
    }
   ],
   "source": [
    "label = 12\n",
    "\n",
    "predicted = list(model.predict(np.array([X_test_scaled[label]]))[0])\n",
    "#print(\"prediction table:\", predicted)\n",
    "plt.imshow(X_test_scaled[label], cmap='gray')\n",
    "plt.show()\n",
    "\n",
    "predicted_label = labels[predicted.index(max(predicted))]\n",
    "print(\"Prediction is =\", predicted_label, f\"({max(predicted)*100:.2f}%)\")"
   ]
  },
  {
   "cell_type": "markdown",
   "id": "948b2b3d",
   "metadata": {},
   "source": [
    "# Class Scores"
   ]
  },
  {
   "cell_type": "code",
   "execution_count": 76,
   "id": "e578c5d2",
   "metadata": {
    "ExecuteTime": {
     "end_time": "2023-04-25T06:56:36.549379Z",
     "start_time": "2023-04-25T06:56:36.539127Z"
    },
    "scrolled": true
   },
   "outputs": [
    {
     "name": "stdout",
     "output_type": "stream",
     "text": [
      "Prediction table for 'Number 9':\n",
      "\n",
      " [3.3507745e-19, 4.752253e-17, 4.743725e-16, 7.314405e-13, 5.44116e-07, 2.1716316e-13, 6.824018e-21, 6.388595e-08, 4.7820276e-11, 0.9999994]\n"
     ]
    }
   ],
   "source": [
    "print(f\"Prediction table for '{predicted_label}':\")\n",
    "print(\"\\n\",predicted)"
   ]
  },
  {
   "cell_type": "markdown",
   "id": "e4b4aa74",
   "metadata": {},
   "source": [
    "# Save"
   ]
  },
  {
   "cell_type": "code",
   "execution_count": 78,
   "id": "dd5b734f",
   "metadata": {
    "ExecuteTime": {
     "end_time": "2023-04-25T06:57:13.620658Z",
     "start_time": "2023-04-25T06:57:11.234885Z"
    }
   },
   "outputs": [
    {
     "name": "stdout",
     "output_type": "stream",
     "text": [
      "Keras weights file (<HDF5 file \"variables.h5\" (mode r+)>) saving:\n",
      "...layers\n",
      "......conv2d\n",
      ".........vars\n",
      "............0\n",
      "............1\n",
      "......conv2d_1\n",
      ".........vars\n",
      "............0\n",
      "............1\n",
      "......dense\n",
      ".........vars\n",
      "............0\n",
      "............1\n",
      "......dense_1\n",
      ".........vars\n",
      "............0\n",
      "............1\n",
      "......dropout\n",
      ".........vars\n",
      "......flatten\n",
      ".........vars\n",
      "......max_pooling2d\n",
      ".........vars\n",
      "......max_pooling2d_1\n",
      ".........vars\n",
      "...metrics\n",
      "......mean\n",
      ".........vars\n",
      "............0\n",
      "............1\n",
      "......mean_metric_wrapper\n",
      ".........vars\n",
      "............0\n",
      "............1\n",
      "...optimizer\n",
      "......vars\n",
      ".........0\n",
      ".........1\n",
      ".........10\n",
      ".........11\n",
      ".........12\n",
      ".........13\n",
      ".........14\n",
      ".........15\n",
      ".........16\n",
      ".........2\n",
      ".........3\n",
      ".........4\n",
      ".........5\n",
      ".........6\n",
      ".........7\n",
      ".........8\n",
      ".........9\n",
      "...vars\n",
      "Keras model archive saving:\n",
      "File Name                                             Modified             Size\n",
      "metadata.json                                  2023-04-25 08:57:11           64\n",
      "config.json                                    2023-04-25 08:57:11         3241\n",
      "variables.h5                                   2023-04-25 08:57:11      1009952\n"
     ]
    },
    {
     "name": "stderr",
     "output_type": "stream",
     "text": [
      "/home/nes/.pyenv/versions/3.8.12/envs/BatteryProject/lib/python3.8/site-packages/tensorflowjs/converters/keras_h5_conversion.py:123: H5pyDeprecationWarning: The default file mode will change to 'r' (read-only) in h5py 3.0. To suppress this warning, pass the mode you need to h5py.File(), or set the global default h5.get_config().default_file_mode, or set the environment variable H5PY_DEFAULT_READONLY=1. Available modes are: 'r', 'r+', 'w', 'w-'/'x', 'a'. See the docs for details.\n",
      "  return h5py.File(h5file)\n",
      "WARNING:absl:Found untraced functions such as _jit_compiled_convolution_op, _jit_compiled_convolution_op, _update_step_xla while saving (showing 3 of 3). These functions will not be directly callable after loading.\n"
     ]
    },
    {
     "name": "stdout",
     "output_type": "stream",
     "text": [
      "INFO:tensorflow:Assets written to: /tmp/tmp633kz_wb/assets\n"
     ]
    },
    {
     "name": "stderr",
     "output_type": "stream",
     "text": [
      "INFO:tensorflow:Assets written to: /tmp/tmp633kz_wb/assets\n",
      "2023-04-25 08:57:13.387586: W tensorflow/compiler/mlir/lite/python/tf_tfl_flatbuffer_helpers.cc:362] Ignored output_format.\n",
      "2023-04-25 08:57:13.387668: W tensorflow/compiler/mlir/lite/python/tf_tfl_flatbuffer_helpers.cc:365] Ignored drop_control_dependency.\n",
      "2023-04-25 08:57:13.387876: I tensorflow/cc/saved_model/reader.cc:45] Reading SavedModel from: /tmp/tmp633kz_wb\n",
      "2023-04-25 08:57:13.390009: I tensorflow/cc/saved_model/reader.cc:89] Reading meta graph with tags { serve }\n",
      "2023-04-25 08:57:13.390035: I tensorflow/cc/saved_model/reader.cc:130] Reading SavedModel debug info (if present) from: /tmp/tmp633kz_wb\n"
     ]
    }
   ],
   "source": [
    "def create_csv_id():\n",
    "    dir_path = os.path.join(os.path.dirname(os.getcwd()), 'models')\n",
    "    file_path = os.path.join(dir_path, 'ids.csv')\n",
    "    cur_id = 0\n",
    "    # folder exists ?\n",
    "    if not os.path.exists(dir_path):\n",
    "        os.mkdir(dir_path)\n",
    "    # file exists ?\n",
    "    if not os.path.exists(file_path):\n",
    "        df = pd.DataFrame([0], columns=['id'])\n",
    "        df.to_csv(file_path, index=False)\n",
    "    else:\n",
    "        # csv -> dataframe\n",
    "        df = pd.read_csv(file_path)\n",
    "        cur_id = df[\"id\"].iloc[-1] + 1\n",
    "        with open(file_path, \"a\") as f:\n",
    "            csv.writer(f).writerow([cur_id])\n",
    "            \n",
    "    return {\"cur_id\": cur_id, \"dir_path\": dir_path}\n",
    "\n",
    "\n",
    "def save_model(model):\n",
    "    res = create_csv_id()\n",
    "    dir_path = res[\"dir_path\"]\n",
    "    str_id = str(res[\"cur_id\"]).zfill(4)\n",
    "    base_name = f'model_{str_id}'\n",
    "    \n",
    "    # normal\n",
    "    joblib.dump(model, os.path.join(dir_path, base_name+'.pkl'))\n",
    "    \n",
    "    # for tensorflow.js\n",
    "    tfjs.converters.save_keras_model(model, os.path.join(dir_path, base_name))\n",
    "\n",
    "    # for lite\n",
    "    converter = tf.lite.TFLiteConverter.from_keras_model(model)\n",
    "    tflite_model = converter.convert()\n",
    "    with open(os.path.join(dir_path, base_name+'.tflite'), 'wb') as f:\n",
    "        f.write(tflite_model)\n",
    "    return\n",
    "\n",
    "save_model(model)"
   ]
  }
 ],
 "metadata": {
  "kernelspec": {
   "display_name": "Python 3 (ipykernel)",
   "language": "python",
   "name": "python3"
  },
  "language_info": {
   "codemirror_mode": {
    "name": "ipython",
    "version": 3
   },
   "file_extension": ".py",
   "mimetype": "text/x-python",
   "name": "python",
   "nbconvert_exporter": "python",
   "pygments_lexer": "ipython3",
   "version": "3.8.12"
  },
  "toc": {
   "base_numbering": 1,
   "nav_menu": {},
   "number_sections": true,
   "sideBar": true,
   "skip_h1_title": false,
   "title_cell": "Table of Contents",
   "title_sidebar": "Contents",
   "toc_cell": false,
   "toc_position": {
    "height": "calc(100% - 180px)",
    "left": "10px",
    "top": "150px",
    "width": "209.8px"
   },
   "toc_section_display": true,
   "toc_window_display": true
  }
 },
 "nbformat": 4,
 "nbformat_minor": 5
}
