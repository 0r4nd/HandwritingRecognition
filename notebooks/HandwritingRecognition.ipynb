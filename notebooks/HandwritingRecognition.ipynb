{
 "cells": [
  {
   "cell_type": "markdown",
   "id": "cdb13ad7",
   "metadata": {
    "ExecuteTime": {
     "end_time": "2023-04-17T18:20:50.643830Z",
     "start_time": "2023-04-17T18:20:49.745008Z"
    }
   },
   "source": [
    "# Imports"
   ]
  },
  {
   "cell_type": "code",
   "execution_count": 84,
   "id": "8b15e5c2",
   "metadata": {
    "ExecuteTime": {
     "end_time": "2023-04-17T19:55:08.331091Z",
     "start_time": "2023-04-17T19:55:08.322224Z"
    }
   },
   "outputs": [],
   "source": [
    "import numpy as np\n",
    "import pprint\n",
    "\n",
    "import matplotlib.pyplot as plt\n",
    "\n",
    "from tensorflow.keras import layers, models\n",
    "from tensorflow.keras import datasets\n",
    "from tensorflow.keras.callbacks import EarlyStopping\n",
    "from tensorflow.keras.backend import expand_dims\n",
    "from tensorflow.keras.utils import to_categorical\n"
   ]
  },
  {
   "cell_type": "markdown",
   "id": "7392da11",
   "metadata": {},
   "source": [
    "# Libs options"
   ]
  },
  {
   "cell_type": "code",
   "execution_count": 41,
   "id": "9c58e757",
   "metadata": {
    "ExecuteTime": {
     "end_time": "2023-04-17T19:01:16.055624Z",
     "start_time": "2023-04-17T19:01:16.047807Z"
    }
   },
   "outputs": [],
   "source": [
    "#np.set_printoptions(threshold=16)\n",
    "pp = pprint.PrettyPrinter(indent=4, width=90)"
   ]
  },
  {
   "cell_type": "markdown",
   "id": "5cbbc447",
   "metadata": {},
   "source": [
    "# Dataset"
   ]
  },
  {
   "cell_type": "code",
   "execution_count": 66,
   "id": "495a99ce",
   "metadata": {
    "ExecuteTime": {
     "end_time": "2023-04-17T19:33:32.978250Z",
     "start_time": "2023-04-17T19:33:32.561039Z"
    }
   },
   "outputs": [
    {
     "name": "stdout",
     "output_type": "stream",
     "text": [
      "train/valid: (60000, 28, 28) (60000,)\n",
      "test: (10000, 28, 28) (10000,)\n"
     ]
    }
   ],
   "source": [
    "(X_train, y_train), (X_test, y_test) = datasets.mnist.load_data(path=\"mnist.npz\")\n",
    "print(\"train/valid:\", X_train.shape, y_train.shape)\n",
    "print(\"test:\", X_test.shape, y_test.shape)"
   ]
  },
  {
   "cell_type": "code",
   "execution_count": 73,
   "id": "5aa00c9b",
   "metadata": {
    "ExecuteTime": {
     "end_time": "2023-04-17T19:34:34.435596Z",
     "start_time": "2023-04-17T19:34:34.424709Z"
    }
   },
   "outputs": [
    {
     "data": {
      "text/plain": [
       "[0, 0, 0, 0, 0, 0, 0, 0, 0, 0, 0, 0, 0, 81, 240, 253, 253, 119, 25, 0, 0, 0, 0, 0, 0, 0, 0, 0]"
      ]
     },
     "execution_count": 73,
     "metadata": {},
     "output_type": "execute_result"
    }
   ],
   "source": [
    "list(X_train[0][14])"
   ]
  },
  {
   "cell_type": "code",
   "execution_count": 68,
   "id": "535dcdb0",
   "metadata": {
    "ExecuteTime": {
     "end_time": "2023-04-17T19:33:40.954237Z",
     "start_time": "2023-04-17T19:33:40.713720Z"
    }
   },
   "outputs": [
    {
     "data": {
      "image/png": "[encoded data removed]",
      "text/plain": [
       "<Figure size 432x288 with 1 Axes>"
      ]
     },
     "metadata": {
      "needs_background": "light"
     },
     "output_type": "display_data"
    }
   ],
   "source": [
    "plt.imshow(X_train[0], cmap='gray');\n"
   ]
  },
  {
   "cell_type": "code",
   "execution_count": 75,
   "id": "fe4499fd",
   "metadata": {
    "ExecuteTime": {
     "end_time": "2023-04-17T19:44:49.534221Z",
     "start_time": "2023-04-17T19:44:49.521547Z"
    }
   },
   "outputs": [
    {
     "data": {
      "text/plain": [
       "(28, 28, 1)"
      ]
     },
     "execution_count": 75,
     "metadata": {},
     "output_type": "execute_result"
    }
   ],
   "source": [
    "X_train = np.expand_dims(X_train, axis=-1)\n",
    "X_test = np.expand_dims(X_test, axis=-1)\n",
    "X_train[0].shape"
   ]
  },
  {
   "cell_type": "markdown",
   "id": "2d188be0",
   "metadata": {},
   "source": [
    "# To categorical"
   ]
  },
  {
   "cell_type": "code",
   "execution_count": 16,
   "id": "5aa658d8",
   "metadata": {
    "ExecuteTime": {
     "end_time": "2023-04-17T18:39:25.032596Z",
     "start_time": "2023-04-17T18:39:25.024977Z"
    }
   },
   "outputs": [],
   "source": [
    "labels = [\"0\",\n",
    "          \"1\",\n",
    "          \"2\",\n",
    "          \"3\",\n",
    "          \"4\",\n",
    "          \"5\",\n",
    "          \"6\",\n",
    "          \"7\",\n",
    "          \"8\",\n",
    "          \"9\"]"
   ]
  },
  {
   "cell_type": "code",
   "execution_count": 56,
   "id": "a4152a18",
   "metadata": {
    "ExecuteTime": {
     "end_time": "2023-04-17T19:23:43.653545Z",
     "start_time": "2023-04-17T19:23:43.640768Z"
    }
   },
   "outputs": [
    {
     "name": "stdout",
     "output_type": "stream",
     "text": [
      "y_train_cat.shape = (60000, 10)\n",
      "y_test_cat.shape = (10000, 10)\n",
      "array([0, 0, 0, 0, 0, 1, 0, 0, 0, 0], dtype=uint8)\n"
     ]
    }
   ],
   "source": [
    "y_train_cat = to_categorical(y_train, num_classes=10, dtype =\"uint8\")\n",
    "y_test_cat = to_categorical(y_test, num_classes=10, dtype =\"uint8\")\n",
    "print(\"y_train_cat.shape =\",y_train_cat.shape)\n",
    "print(\"y_test_cat.shape =\", y_test_cat.shape)\n",
    "pp.pprint(y_train_cat[0])"
   ]
  },
  {
   "cell_type": "code",
   "execution_count": 59,
   "id": "5bf69acf",
   "metadata": {
    "ExecuteTime": {
     "end_time": "2023-04-17T19:24:01.817222Z",
     "start_time": "2023-04-17T19:24:01.561058Z"
    },
    "scrolled": true
   },
   "outputs": [
    {
     "name": "stdout",
     "output_type": "stream",
     "text": [
      "label is: 6\n"
     ]
    },
    {
     "data": {
      "image/png": "[encoded data removed]",
      "text/plain": [
       "<Figure size 432x288 with 1 Axes>"
      ]
     },
     "metadata": {
      "needs_background": "light"
     },
     "output_type": "display_data"
    }
   ],
   "source": [
    "def categorical_to_id(arr):\n",
    "    sum = 0\n",
    "    for i in range(len(arr)):\n",
    "        if arr[i]: return i\n",
    "    return -1\n",
    "\n",
    "item = 18\n",
    "\n",
    "print(\"label is:\", categorical_to_id(y_train_cat[item]))\n",
    "plt.imshow(X_train[item], cmap='gray')\n",
    "plt.show()"
   ]
  },
  {
   "cell_type": "code",
   "execution_count": 78,
   "id": "5e330930",
   "metadata": {
    "ExecuteTime": {
     "end_time": "2023-04-17T19:46:14.737219Z",
     "start_time": "2023-04-17T19:46:14.625547Z"
    }
   },
   "outputs": [
    {
     "name": "stdout",
     "output_type": "stream",
     "text": [
      "Model: \"sequential_2\"\n",
      "_________________________________________________________________\n",
      " Layer (type)                Output Shape              Param #   \n",
      "=================================================================\n",
      " conv2d_4 (Conv2D)           (None, 28, 28, 8)         136       \n",
      "                                                                 \n",
      " max_pooling2d_4 (MaxPooling  (None, 14, 14, 8)        0         \n",
      " 2D)                                                             \n",
      "                                                                 \n",
      " conv2d_5 (Conv2D)           (None, 14, 14, 16)        1168      \n",
      "                                                                 \n",
      " max_pooling2d_5 (MaxPooling  (None, 7, 7, 16)         0         \n",
      " 2D)                                                             \n",
      "                                                                 \n",
      " flatten_2 (Flatten)         (None, 784)               0         \n",
      "                                                                 \n",
      " dense_4 (Dense)             (None, 10)                7850      \n",
      "                                                                 \n",
      " dense_5 (Dense)             (None, 10)                110       \n",
      "                                                                 \n",
      "=================================================================\n",
      "Total params: 9,264\n",
      "Trainable params: 9,264\n",
      "Non-trainable params: 0\n",
      "_________________________________________________________________\n"
     ]
    }
   ],
   "source": [
    "def get_model(X):\n",
    "    model = models.Sequential()\n",
    "    \n",
    "    model.add(layers.Conv2D(8, (4,4), activation='relu', padding='same', input_shape=X[0].shape))\n",
    "    model.add(layers.MaxPool2D(pool_size=(2,2)))\n",
    "    \n",
    "    model.add(layers.Conv2D(16, (3,3), activation='relu', padding='same'))\n",
    "    model.add(layers.MaxPool2D(pool_size=(2,2)))\n",
    "\n",
    "    model.add(layers.Flatten())\n",
    "    model.add(layers.Dense(10, activation='relu'))\n",
    "    model.add(layers.Dense(10, activation='softmax'))\n",
    "    \n",
    "    model.compile(loss='categorical_crossentropy',\n",
    "                  optimizer='adam', \n",
    "                  metrics=['accuracy'])\n",
    "    return model\n",
    "\n",
    "model = get_model(X_train)\n",
    "model.summary()"
   ]
  },
  {
   "cell_type": "markdown",
   "id": "5969bc45",
   "metadata": {},
   "source": [
    "# Train "
   ]
  },
  {
   "cell_type": "code",
   "execution_count": 80,
   "id": "649aa4bc",
   "metadata": {
    "ExecuteTime": {
     "end_time": "2023-04-17T19:51:17.102821Z",
     "start_time": "2023-04-17T19:48:56.937979Z"
    }
   },
   "outputs": [
    {
     "name": "stdout",
     "output_type": "stream",
     "text": [
      "Epoch 1/5\n",
      "1313/1313 [==============================] - 29s 21ms/step - loss: 2.1194 - accuracy: 0.2045 - val_loss: 2.0196 - val_accuracy: 0.2089\n",
      "Epoch 2/5\n",
      "1313/1313 [==============================] - 27s 20ms/step - loss: 1.9956 - accuracy: 0.2122 - val_loss: 1.9880 - val_accuracy: 0.2136\n",
      "Epoch 3/5\n",
      "1313/1313 [==============================] - 29s 22ms/step - loss: 1.9589 - accuracy: 0.2284 - val_loss: 1.8761 - val_accuracy: 0.2714\n",
      "Epoch 4/5\n",
      "1313/1313 [==============================] - 29s 22ms/step - loss: 1.5289 - accuracy: 0.4157 - val_loss: 1.2522 - val_accuracy: 0.5372\n",
      "Epoch 5/5\n",
      "1313/1313 [==============================] - 27s 20ms/step - loss: 0.7107 - accuracy: 0.7667 - val_loss: 0.4046 - val_accuracy: 0.8663\n"
     ]
    }
   ],
   "source": [
    "es = EarlyStopping(patience = 5)\n",
    "\n",
    "history = model.fit(X_train, \n",
    "                    y_train_cat,\n",
    "                    validation_split = 0.3, # auto val generation\n",
    "                    batch_size = 32,\n",
    "                    epochs = 5,\n",
    "                    callbacks = [es],\n",
    "                    verbose = 1)"
   ]
  },
  {
   "cell_type": "markdown",
   "id": "22ae285e",
   "metadata": {},
   "source": [
    "# Plot results"
   ]
  },
  {
   "cell_type": "code",
   "execution_count": 131,
   "id": "6b72630f",
   "metadata": {
    "ExecuteTime": {
     "end_time": "2023-04-17T20:20:05.183847Z",
     "start_time": "2023-04-17T20:20:05.170161Z"
    }
   },
   "outputs": [],
   "source": [
    "def plot_history(history, labels = [\"loss\"]):\n",
    "    h = history.history\n",
    "    with plt.style.context('seaborn-deep'):\n",
    "        fig, ax = plt.subplots(1, max(2,len(labels)), figsize=(15, 4))\n",
    "        x_axis = np.arange(len(h[labels[0]]))\n",
    "        for i in range(len(labels)):\n",
    "            l = labels[i]\n",
    "            L = l.capitalize()\n",
    "            ax[i].set_title(l)\n",
    "            ax[i].plot(x_axis, h[l], color=\"blue\", linestyle=\":\", marker=\"X\", label=\"Train \"+L)\n",
    "            ax[i].plot(x_axis, h['val_'+l], color=\"orange\", linestyle=\"-\", marker=\"X\", label=\"Val \"+L)\n",
    "            ax[i].grid(axis=\"x\", linewidth=0.5)\n",
    "            ax[i].grid(axis=\"y\", linewidth=0.5)\n",
    "            ax[i].legend()\n",
    "        plt.show()"
   ]
  },
  {
   "cell_type": "code",
   "execution_count": 130,
   "id": "c85bc327",
   "metadata": {
    "ExecuteTime": {
     "end_time": "2023-04-17T20:20:02.000908Z",
     "start_time": "2023-04-17T20:20:01.500384Z"
    }
   },
   "outputs": [
    {
     "data": {
      "image/png": "[encoded data removed]",
      "text/plain": [
       "<Figure size 1080x288 with 2 Axes>"
      ]
     },
     "metadata": {
      "needs_background": "light"
     },
     "output_type": "display_data"
    }
   ],
   "source": [
    "plot_history(history, [\"loss\", \"accuracy\"])"
   ]
  },
  {
   "cell_type": "code",
   "execution_count": 82,
   "id": "b8bb3df8",
   "metadata": {
    "ExecuteTime": {
     "end_time": "2023-04-17T19:52:10.056499Z",
     "start_time": "2023-04-17T19:52:07.257216Z"
    }
   },
   "outputs": [
    {
     "name": "stdout",
     "output_type": "stream",
     "text": [
      "313/313 [==============================] - 3s 9ms/step - loss: 0.4009 - accuracy: 0.8693\n",
      "The accuracy on the test set is of 86.93 %\n"
     ]
    }
   ],
   "source": [
    "res = model.evaluate(X_test, y_test_cat, verbose = 1)\n",
    "print(f'The accuracy on the test set is of {res[1]*100:.2f} %')"
   ]
  }
 ],
 "metadata": {
  "kernelspec": {
   "display_name": "Python 3 (ipykernel)",
   "language": "python",
   "name": "python3"
  },
  "language_info": {
   "codemirror_mode": {
    "name": "ipython",
    "version": 3
   },
   "file_extension": ".py",
   "mimetype": "text/x-python",
   "name": "python",
   "nbconvert_exporter": "python",
   "pygments_lexer": "ipython3",
   "version": "3.8.12"
  },
  "toc": {
   "base_numbering": 1,
   "nav_menu": {},
   "number_sections": true,
   "sideBar": true,
   "skip_h1_title": false,
   "title_cell": "Table of Contents",
   "title_sidebar": "Contents",
   "toc_cell": false,
   "toc_position": {
    "height": "calc(100% - 180px)",
    "left": "10px",
    "top": "150px",
    "width": "276px"
   },
   "toc_section_display": true,
   "toc_window_display": true
  }
 },
 "nbformat": 4,
 "nbformat_minor": 5
}
