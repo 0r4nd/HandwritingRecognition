{
 "cells": [
  {
   "cell_type": "markdown",
   "id": "cdb13ad7",
   "metadata": {
    "ExecuteTime": {
     "end_time": "2023-04-17T18:20:50.643830Z",
     "start_time": "2023-04-17T18:20:49.745008Z"
    }
   },
   "source": [
    "# Imports"
   ]
  },
  {
   "cell_type": "code",
   "execution_count": 420,
   "id": "8b15e5c2",
   "metadata": {
    "ExecuteTime": {
     "end_time": "2023-04-20T19:51:44.693867Z",
     "start_time": "2023-04-20T19:51:44.680111Z"
    }
   },
   "outputs": [],
   "source": [
    "import os\n",
    "import csv\n",
    "import numpy as np\n",
    "import pprint\n",
    "\n",
    "import matplotlib.pyplot as plt\n",
    "from matplotlib.patches import Rectangle\n",
    "from PIL import Image\n",
    "\n",
    "import pandas as pd\n",
    "\n",
    "from timeit import default_timer as timer\n",
    "import joblib\n",
    "\n",
    "from tensorflow.keras import layers, models\n",
    "from tensorflow.keras import datasets\n",
    "from tensorflow.keras.callbacks import EarlyStopping\n",
    "from tensorflow.keras.backend import expand_dims\n",
    "from tensorflow.keras.utils import to_categorical\n",
    "from sklearn.model_selection import train_test_split\n"
   ]
  },
  {
   "cell_type": "markdown",
   "id": "34a89a66",
   "metadata": {},
   "source": [
    "# Libs options"
   ]
  },
  {
   "cell_type": "code",
   "execution_count": 41,
   "id": "4aa7c937",
   "metadata": {
    "ExecuteTime": {
     "end_time": "2023-04-17T19:01:16.055624Z",
     "start_time": "2023-04-17T19:01:16.047807Z"
    }
   },
   "outputs": [],
   "source": [
    "#np.set_printoptions(threshold=16)\n",
    "pp = pprint.PrettyPrinter(indent=4, width=90)"
   ]
  },
  {
   "cell_type": "markdown",
   "id": "36ffa586",
   "metadata": {},
   "source": [
    "# Dataset"
   ]
  },
  {
   "cell_type": "code",
   "execution_count": 391,
   "id": "495a99ce",
   "metadata": {
    "ExecuteTime": {
     "end_time": "2023-04-20T18:55:54.782605Z",
     "start_time": "2023-04-20T18:55:53.867826Z"
    }
   },
   "outputs": [
    {
     "name": "stdout",
     "output_type": "stream",
     "text": [
      "bounding-squares csv loaded\n",
      "train: (45000, 28, 28, 1) (45000, 10)\n",
      "val: (15000, 28, 28, 1) (15000, 10)\n",
      "test: (10000, 28, 28, 1) (10000, 10)\n",
      "aabb_train: (7, 4, 21, 24)\n",
      "aabb_val: (8, 5, 20, 25)\n",
      "aabb_test: (6, 7, 22, 27)\n"
     ]
    }
   ],
   "source": [
    "def list_first_val(arr):\n",
    "    for i in arr:\n",
    "        if i > 0:\n",
    "            return 1\n",
    "    return -1\n",
    "\n",
    "def get_aabb2D(data):\n",
    "    \"\"\"aligned-axis bounding-box (bounding square)\"\"\"\n",
    "    x1 = 0xffff\n",
    "    y1 = 0xffff\n",
    "    x2 = 0\n",
    "    y2 = 0\n",
    "    # y1\n",
    "    for j in range(len(data)):\n",
    "        if list_first_val(data[j]) > 0:\n",
    "            y1 = j\n",
    "            break\n",
    "    # y2\n",
    "    for j in range(len(data)):\n",
    "        end = len(data)-j-1\n",
    "        if list_first_val(data[end]) > 0:\n",
    "            y2 = end\n",
    "            break\n",
    "    # x1, x2\n",
    "    for j in range(len(data)):\n",
    "        ydata = data[j]\n",
    "        val = 0xffff\n",
    "        last = 0\n",
    "        for i in range(len(ydata)):\n",
    "            if ydata[i] > 0:\n",
    "                x1 = min(x1,i)\n",
    "                x2 = max(x2,i)\n",
    "    return (x1,y1, x2+1,y2+1)\n",
    "    \n",
    "def get_X_aabb2D(X):\n",
    "    aabbs = []\n",
    "    for i in range(len(X)):\n",
    "        aabbs.append(get_aabb2D(X[i]))\n",
    "        #if i > 10: break\n",
    "    return aabbs\n",
    "\n",
    "def read_aabb_csv(path):\n",
    "    df = pd.read_csv(path)\n",
    "    return list(df.itertuples(index=False, name=None))\n",
    "\n",
    "def write_aabb_csv(X, path):\n",
    "    aabb = get_X_aabb2D(X)\n",
    "    df = pd.DataFrame(aabb, columns=['x1','y1','x2','y2'])\n",
    "    df.to_csv(path, index=False)\n",
    "    return aabb\n",
    "    \n",
    "    \n",
    "def scaling(X_train, X_val, X_test):\n",
    "    X_train_scaled = X_train / 255.\n",
    "    X_val_scaled = X_val / 255.\n",
    "    X_test_scaled = X_test / 255.\n",
    "    return X_train_scaled, X_val_scaled, X_test_scaled\n",
    "\n",
    "def get_data():\n",
    "    (X_train, y_train), (X_test, y_test) = datasets.mnist.load_data(path=\"mnist.npz\")\n",
    "    #train_test_split(self.train_index , test_size = 0.25, random_state=1)\n",
    "    \n",
    "    # load aabb\n",
    "    if os.path.isfile('aabb_train.csv'):\n",
    "        aabb_train = read_aabb_csv('aabb_train.csv')\n",
    "        aabb_test = read_aabb_csv('aabb_test.csv')\n",
    "        print(\"bounding-squares csv loaded\")\n",
    "    else: # or compute them (slow!)\n",
    "        aabb_train = write_aabb_csv(X_train, 'aabb_train.csv')\n",
    "        aabb_test = write_aabb_csv(X_test, 'aabb_test.csv')\n",
    "        print(\"bounging-squares csv computed\")\n",
    "    #display(df_train)\n",
    "    \n",
    "    # add a dim: (28, 28) -> (28, 28, 1)\n",
    "    X_train = np.expand_dims(X_train, axis=-1)\n",
    "    X_test = np.expand_dims(X_test, axis=-1)\n",
    "    \n",
    "    # to categorical\n",
    "    y_train_cat = to_categorical(y_train, num_classes=10, dtype =\"uint8\")\n",
    "    y_test_cat = to_categorical(y_test, num_classes=10, dtype =\"uint8\")\n",
    "    \n",
    "    # split train/validation\n",
    "    X_train, X_val, y_train_cat, y_val_cat = train_test_split(X_train, y_train_cat, test_size=0.25, random_state=1)\n",
    "    aabb_train, aabb_val = train_test_split(aabb_train, test_size=0.25, random_state=1)\n",
    "    \n",
    "    # scaling\n",
    "    X_train_scaled, X_val_scaled, X_test_scaled = scaling(X_train,X_val,X_test)\n",
    "    \n",
    "    return (X_train_scaled, y_train_cat),(X_val_scaled, y_val_cat),(X_test_scaled, y_test_cat),(aabb_train, aabb_val, aabb_test)\n",
    "\n",
    "            \n",
    "(X_train_scaled, y_train_cat),(X_val_scaled, y_val_cat),(X_test_scaled, y_test_cat),(aabb_train, aabb_val, aabb_test) = get_data()\n",
    "\n",
    "#print(\"train/valid:\", X_train.shape, y_train.shape)\n",
    "#print(\"test:\", X_test.shape, y_test.shape)\n",
    "\n",
    "print(\"train:\", X_train_scaled.shape, y_train_cat.shape);\n",
    "print(\"val:\", X_val_scaled.shape, y_val_cat.shape);\n",
    "print(\"test:\", X_test_scaled.shape, y_test_cat.shape);\n",
    "\n",
    "print(\"aabb_train:\", aabb_train[0]);\n",
    "print(\"aabb_val:\", aabb_val[0]);\n",
    "print(\"aabb_test:\", aabb_test[0]);"
   ]
  },
  {
   "cell_type": "code",
   "execution_count": 359,
   "id": "94db3e89",
   "metadata": {
    "ExecuteTime": {
     "end_time": "2023-04-20T18:20:00.984784Z",
     "start_time": "2023-04-20T18:20:00.969819Z"
    }
   },
   "outputs": [
    {
     "data": {
      "text/plain": [
       "[array([0.]), array([0.]), array([0.]), array([0.]), array([0.]), array([0.]), array([0.]), array([0.]), array([0.]), array([0.]), array([0.]), array([0.]), array([0.]), array([0.]), array([0.]), array([0.24705882]), array([0.96078431]), array([0.94509804]), array([0.14901961]), array([0.]), array([0.]), array([0.]), array([0.]), array([0.]), array([0.]), array([0.]), array([0.]), array([0.])]"
      ]
     },
     "execution_count": 359,
     "metadata": {},
     "output_type": "execute_result"
    }
   ],
   "source": [
    "list(X_train[0][14])"
   ]
  },
  {
   "cell_type": "markdown",
   "id": "c23229b0",
   "metadata": {},
   "source": [
    "# Draw image + Bounding Box"
   ]
  },
  {
   "cell_type": "code",
   "execution_count": 392,
   "id": "535dcdb0",
   "metadata": {
    "ExecuteTime": {
     "end_time": "2023-04-20T18:56:02.096792Z",
     "start_time": "2023-04-20T18:56:01.843490Z"
    }
   },
   "outputs": [
    {
     "data": {
      "image/png": "[encoded data removed]",
      "text/plain": [
       "<Figure size 432x288 with 1 Axes>"
      ]
     },
     "metadata": {
      "needs_background": "light"
     },
     "output_type": "display_data"
    }
   ],
   "source": [
    "def plt_rectangle(tup):\n",
    "    x1 = tup[0]\n",
    "    y1 = tup[1]\n",
    "    x2 = tup[2]\n",
    "    y2 = tup[3]\n",
    "    plt.gca().add_patch(Rectangle((x1-0.5,y1-0.5),x2-x1,y2-y1,linewidth=1,edgecolor='r',facecolor='none'))\n",
    "    return\n",
    "\n",
    "\n",
    "idx = 144\n",
    "plt.imshow(X_train_scaled[idx], cmap='gray');\n",
    "plt_rectangle(aabb_train[idx])\n"
   ]
  },
  {
   "cell_type": "code",
   "execution_count": 377,
   "id": "8201a3ea",
   "metadata": {
    "ExecuteTime": {
     "end_time": "2023-04-20T18:39:35.115355Z",
     "start_time": "2023-04-20T18:39:34.840212Z"
    },
    "scrolled": true
   },
   "outputs": [
    {
     "name": "stdout",
     "output_type": "stream",
     "text": [
      "label is: Number 5\n"
     ]
    },
    {
     "data": {
      "image/png": "[encoded data removed]",
      "text/plain": [
       "<Figure size 432x288 with 1 Axes>"
      ]
     },
     "metadata": {
      "needs_background": "light"
     },
     "output_type": "display_data"
    }
   ],
   "source": [
    "labels = [\"Number 0\",\n",
    "          \"Number 1\",\n",
    "          \"Number 2\",\n",
    "          \"Number 3\",\n",
    "          \"Number 4\",\n",
    "          \"Number 5\",\n",
    "          \"Number 6\",\n",
    "          \"Number 7\",\n",
    "          \"Number 8\",\n",
    "          \"Number 9\"]\n",
    "\n",
    "def categorical_to_id(arr_cat, labels=None):\n",
    "    res = -1\n",
    "    for i in range(len(arr_cat)):\n",
    "        if arr_cat[i]:\n",
    "            res = i\n",
    "            break\n",
    "    if labels is None:\n",
    "        return res\n",
    "    return labels[res]\n",
    "\n",
    "item = 21\n",
    "\n",
    "print(\"label is:\", categorical_to_id(y_train_cat[item], labels))\n",
    "plt.imshow(X_train_scaled[item], cmap='gray');"
   ]
  },
  {
   "cell_type": "code",
   "execution_count": 378,
   "id": "da8ed988",
   "metadata": {
    "ExecuteTime": {
     "end_time": "2023-04-20T18:40:00.992853Z",
     "start_time": "2023-04-20T18:40:00.888425Z"
    }
   },
   "outputs": [
    {
     "name": "stdout",
     "output_type": "stream",
     "text": [
      "Model: \"sequential_7\"\n",
      "_________________________________________________________________\n",
      " Layer (type)                Output Shape              Param #   \n",
      "=================================================================\n",
      " conv2d_13 (Conv2D)          (None, 28, 28, 8)         136       \n",
      "                                                                 \n",
      " max_pooling2d_12 (MaxPoolin  (None, 14, 14, 8)        0         \n",
      " g2D)                                                            \n",
      "                                                                 \n",
      " conv2d_14 (Conv2D)          (None, 14, 14, 16)        1168      \n",
      "                                                                 \n",
      " max_pooling2d_13 (MaxPoolin  (None, 7, 7, 16)         0         \n",
      " g2D)                                                            \n",
      "                                                                 \n",
      " flatten_6 (Flatten)         (None, 784)               0         \n",
      "                                                                 \n",
      " dense_12 (Dense)            (None, 10)                7850      \n",
      "                                                                 \n",
      " dense_13 (Dense)            (None, 10)                110       \n",
      "                                                                 \n",
      "=================================================================\n",
      "Total params: 9,264\n",
      "Trainable params: 9,264\n",
      "Non-trainable params: 0\n",
      "_________________________________________________________________\n"
     ]
    }
   ],
   "source": [
    "def get_model(X):\n",
    "    model = models.Sequential()\n",
    "    \n",
    "    model.add(layers.Conv2D(8, (4,4), activation='relu', padding='same', input_shape=X[0].shape))\n",
    "    model.add(layers.MaxPool2D(pool_size=(2,2)))\n",
    "    \n",
    "    model.add(layers.Conv2D(16, (3,3), activation='relu', padding='same'))\n",
    "    model.add(layers.MaxPool2D(pool_size=(2,2)))\n",
    "\n",
    "    model.add(layers.Flatten())\n",
    "    model.add(layers.Dense(10, activation='relu'))\n",
    "    model.add(layers.Dense(10, activation='softmax'))\n",
    "    return model\n",
    "\n",
    "model = get_model(X_train_scaled)\n",
    "model.summary()"
   ]
  },
  {
   "cell_type": "markdown",
   "id": "1695c6c2",
   "metadata": {},
   "source": [
    "# Train "
   ]
  },
  {
   "cell_type": "code",
   "execution_count": 379,
   "id": "dfe83ffe",
   "metadata": {
    "ExecuteTime": {
     "end_time": "2023-04-20T18:45:56.992324Z",
     "start_time": "2023-04-20T18:43:49.247954Z"
    }
   },
   "outputs": [
    {
     "name": "stdout",
     "output_type": "stream",
     "text": [
      "Epoch 1/5\n",
      "1407/1407 [==============================] - 27s 19ms/step - loss: 0.4682 - accuracy: 0.8442 - val_loss: 0.1844 - val_accuracy: 0.9467\n",
      "Epoch 2/5\n",
      "1407/1407 [==============================] - 25s 18ms/step - loss: 0.1269 - accuracy: 0.9627 - val_loss: 0.1315 - val_accuracy: 0.9611\n",
      "Epoch 3/5\n",
      "1407/1407 [==============================] - 25s 18ms/step - loss: 0.0998 - accuracy: 0.9705 - val_loss: 0.1117 - val_accuracy: 0.9673\n",
      "Epoch 4/5\n",
      "1407/1407 [==============================] - 25s 18ms/step - loss: 0.0828 - accuracy: 0.9752 - val_loss: 0.0907 - val_accuracy: 0.9745\n",
      "Epoch 5/5\n",
      "1407/1407 [==============================] - 25s 18ms/step - loss: 0.0699 - accuracy: 0.9784 - val_loss: 0.0948 - val_accuracy: 0.9725\n",
      "training time: 127.72920079994947\n"
     ]
    }
   ],
   "source": [
    "\n",
    "def run(model, X_train_scaled,y_train_cat, X_val_scaled,y_val_cat,\n",
    "        opti = 'adam',\n",
    "        loss = 'categorical_crossentropy',\n",
    "        metrics = ['accuracy'],\n",
    "        epochs = 5,\n",
    "        batch_size = 32):\n",
    "    \n",
    "    start_time = timer()\n",
    "    \n",
    "    model.compile(optimizer=opti, \n",
    "                  loss=loss,\n",
    "                  metrics=metrics)\n",
    "    \n",
    "    es = EarlyStopping(patience = 10, restore_best_weights = True)\n",
    "    history = model.fit(X_train_scaled, \n",
    "                        y_train_cat,\n",
    "                        #validation_split = 0.3, # auto val generation\n",
    "                        validation_data = (X_val_scaled, y_val_cat),\n",
    "                        batch_size = batch_size,\n",
    "                        epochs = epochs,\n",
    "                        callbacks = [es],\n",
    "                        verbose = 1)\n",
    "    \n",
    "    training_time = timer() - start_time\n",
    "    print(\"training time:\", training_time)\n",
    "    \n",
    "    return history\n",
    "\n",
    "history = run(model, X_train_scaled,y_train_cat, X_val_scaled,y_val_cat)"
   ]
  },
  {
   "cell_type": "markdown",
   "id": "ebb652eb",
   "metadata": {},
   "source": [
    "# Plot results"
   ]
  },
  {
   "cell_type": "code",
   "execution_count": 380,
   "id": "e4516e46",
   "metadata": {
    "ExecuteTime": {
     "end_time": "2023-04-20T18:46:09.188346Z",
     "start_time": "2023-04-20T18:46:09.176377Z"
    }
   },
   "outputs": [],
   "source": [
    "def plot_history(history, labels = [\"loss\"]):\n",
    "    h = history.history\n",
    "    with plt.style.context('seaborn-deep'):\n",
    "        fig, ax = plt.subplots(1, max(2,len(labels)), figsize=(15, 4))\n",
    "        x_axis = np.arange(len(h[labels[0]]))\n",
    "        for i in range(len(labels)):\n",
    "            l = labels[i]\n",
    "            L = l.capitalize()\n",
    "            ax[i].set_title(l)\n",
    "            ax[i].plot(x_axis, h[l], color=\"blue\", linestyle=\":\", marker=\"X\", label=\"Train \"+L)\n",
    "            ax[i].plot(x_axis, h['val_'+l], color=\"orange\", linestyle=\"-\", marker=\"X\", label=\"Val \"+L)\n",
    "            ax[i].grid(axis=\"x\", linewidth=0.5)\n",
    "            ax[i].grid(axis=\"y\", linewidth=0.5)\n",
    "            ax[i].legend()\n",
    "        plt.show()"
   ]
  },
  {
   "cell_type": "code",
   "execution_count": 381,
   "id": "2145ce74",
   "metadata": {
    "ExecuteTime": {
     "end_time": "2023-04-20T18:46:12.525051Z",
     "start_time": "2023-04-20T18:46:11.994595Z"
    }
   },
   "outputs": [
    {
     "data": {
      "image/png": "[encoded data removed]",
      "text/plain": [
       "<Figure size 1080x288 with 2 Axes>"
      ]
     },
     "metadata": {
      "needs_background": "light"
     },
     "output_type": "display_data"
    }
   ],
   "source": [
    "plot_history(history, [\"loss\", \"accuracy\"])"
   ]
  },
  {
   "cell_type": "markdown",
   "id": "d7508c42",
   "metadata": {},
   "source": [
    "# Evaluation vs test set"
   ]
  },
  {
   "cell_type": "code",
   "execution_count": 397,
   "id": "1b07b1f2",
   "metadata": {
    "ExecuteTime": {
     "end_time": "2023-04-20T19:02:28.347238Z",
     "start_time": "2023-04-20T19:02:10.188460Z"
    }
   },
   "outputs": [
    {
     "name": "stdout",
     "output_type": "stream",
     "text": [
      "1407/1407 [==============================] - 11s 8ms/step - loss: 0.0670 - accuracy: 0.9798\n",
      "469/469 [==============================] - 4s 8ms/step - loss: 0.0948 - accuracy: 0.9725\n",
      "313/313 [==============================] - 2s 8ms/step - loss: 0.0753 - accuracy: 0.9768\n",
      "The accuracy on the train set is of 97.98 %\n",
      "The accuracy on the val set is of 97.25 %\n",
      "The accuracy on the test set is of 97.68 %\n"
     ]
    }
   ],
   "source": [
    "def evaluate(X_train_scaled,y_train_cat, X_val_scaled,y_val_cat, X_test_scaled, y_test_cat):\n",
    "    eval_res = {\n",
    "        \"train\": model.evaluate(X_train_scaled, y_train_cat, batch_size=None, verbose = 1)[1],\n",
    "        \"val\": model.evaluate(X_val_scaled, y_val_cat, batch_size=None, verbose = 1)[1],\n",
    "        \"test\": model.evaluate(X_test_scaled, y_test_cat, batch_size=None, verbose = 1)[1]\n",
    "    }\n",
    "    return eval_res\n",
    "\n",
    "eval_res = evaluate(X_train_scaled,y_train_cat, X_val_scaled,y_val_cat, X_test_scaled, y_test_cat)\n",
    "print(f'The accuracy on the train set is of {eval_res[\"train\"]*100:.2f} %')\n",
    "print(f'The accuracy on the val set is of {eval_res[\"val\"]*100:.2f} %')\n",
    "print(f'The accuracy on the test set is of {eval_res[\"test\"]*100:.2f} %')"
   ]
  },
  {
   "cell_type": "code",
   "execution_count": 398,
   "id": "2451b21e",
   "metadata": {
    "ExecuteTime": {
     "end_time": "2023-04-20T19:02:53.121824Z",
     "start_time": "2023-04-20T19:02:51.012257Z"
    }
   },
   "outputs": [
    {
     "data": {
      "text/plain": [
       "array([[6.5325336e-16, 6.6724130e-07, 6.5385684e-08, ..., 9.9994528e-01,\n",
       "        3.0016611e-07, 6.9486015e-07],\n",
       "       [1.6788428e-07, 7.1038638e-04, 9.9926776e-01, ..., 1.8594360e-08,\n",
       "        1.4008916e-05, 3.4854362e-13],\n",
       "       [5.8247611e-09, 9.9740124e-01, 2.0772277e-05, ..., 2.4532803e-04,\n",
       "        1.5641943e-03, 1.1115384e-07],\n",
       "       ...,\n",
       "       [1.0115179e-18, 1.8957289e-06, 4.0689709e-09, ..., 4.1895871e-07,\n",
       "        9.7220197e-07, 4.7530490e-04],\n",
       "       [3.0065023e-10, 2.1965496e-12, 3.5250223e-13, ..., 4.4118809e-14,\n",
       "        2.6713955e-04, 6.7136301e-07],\n",
       "       [2.2947717e-10, 5.6846162e-08, 2.2614157e-13, ..., 1.4326955e-15,\n",
       "        6.4021357e-08, 2.8601900e-14]], dtype=float32)"
      ]
     },
     "execution_count": 398,
     "metadata": {},
     "output_type": "execute_result"
    }
   ],
   "source": [
    "model.predict(X_test_scaled)"
   ]
  },
  {
   "cell_type": "markdown",
   "id": "0724f3c8",
   "metadata": {},
   "source": [
    "# Predict one observation"
   ]
  },
  {
   "cell_type": "code",
   "execution_count": 400,
   "id": "69206df7",
   "metadata": {
    "ExecuteTime": {
     "end_time": "2023-04-20T19:03:14.422114Z",
     "start_time": "2023-04-20T19:03:14.102207Z"
    }
   },
   "outputs": [
    {
     "data": {
      "image/png": "[encoded data removed]",
      "text/plain": [
       "<Figure size 432x288 with 1 Axes>"
      ]
     },
     "metadata": {
      "needs_background": "light"
     },
     "output_type": "display_data"
    },
    {
     "name": "stdout",
     "output_type": "stream",
     "text": [
      "Prediction is = Number 4 (99.99%)\n"
     ]
    }
   ],
   "source": [
    "label = 19\n",
    "\n",
    "predicted = list(model.predict(np.array([X_test_scaled[label]]))[0])\n",
    "#print(\"prediction table:\", predicted)\n",
    "plt.imshow(X_test_scaled[label], cmap='gray')\n",
    "plt.show()\n",
    "\n",
    "predicted_label = labels[predicted.index(max(predicted))]\n",
    "print(\"Prediction is =\", predicted_label, f\"({max(predicted)*100:.2f}%)\")"
   ]
  },
  {
   "cell_type": "markdown",
   "id": "92608660",
   "metadata": {},
   "source": [
    "# Class Scores"
   ]
  },
  {
   "cell_type": "code",
   "execution_count": 401,
   "id": "751e171d",
   "metadata": {
    "ExecuteTime": {
     "end_time": "2023-04-20T19:03:19.188684Z",
     "start_time": "2023-04-20T19:03:19.180669Z"
    },
    "scrolled": true
   },
   "outputs": [
    {
     "name": "stdout",
     "output_type": "stream",
     "text": [
      "Prediction table for 'Number 4':\n",
      "\n",
      " [1.1360338e-14, 6.761655e-05, 1.8850276e-06, 7.6032825e-07, 0.99987996, 1.0256237e-08, 6.7345123e-12, 4.859161e-06, 2.5060738e-06, 4.2330186e-05]\n"
     ]
    }
   ],
   "source": [
    "print(f\"Prediction table for '{predicted_label}':\")\n",
    "print(\"\\n\",predicted)"
   ]
  },
  {
   "cell_type": "markdown",
   "id": "7c7ed99f",
   "metadata": {},
   "source": [
    "# Save"
   ]
  },
  {
   "cell_type": "code",
   "execution_count": 464,
   "id": "315536d6",
   "metadata": {
    "ExecuteTime": {
     "end_time": "2023-04-20T19:57:53.212932Z",
     "start_time": "2023-04-20T19:57:53.184824Z"
    }
   },
   "outputs": [
    {
     "data": {
      "text/plain": [
       "0"
      ]
     },
     "execution_count": 464,
     "metadata": {},
     "output_type": "execute_result"
    }
   ],
   "source": [
    "def create_csv_id():\n",
    "    dir_path = os.path.join(os.path.dirname(os.getcwd()), 'models')\n",
    "    file_path = os.path.join(dir_path, 'ids.csv')\n",
    "    cur_id = 0\n",
    "    # folder exists ?\n",
    "    if not os.path.exists(dir_path):\n",
    "        os.mkdir(dir_path)\n",
    "    # file exists ?\n",
    "    if not os.path.exists(file_path):\n",
    "        df = pd.DataFrame([0], columns=['id'])\n",
    "        df.to_csv(file_path, index=False)\n",
    "        return cur_id\n",
    "    # csv -> dataframe\n",
    "    df = pd.read_csv(file_path)\n",
    "    cur_id = df[\"id\"].iloc[-1] + 1\n",
    "    \n",
    "    with open(file_path, \"a\") as f:\n",
    "        csv.writer(f).writerow([cur_id])\n",
    "    return cur_id\n",
    "\n",
    "create_csv_id()"
   ]
  },
  {
   "cell_type": "code",
   "execution_count": 402,
   "id": "80b1ea75",
   "metadata": {
    "ExecuteTime": {
     "end_time": "2023-04-20T19:03:25.712686Z",
     "start_time": "2023-04-20T19:03:24.071245Z"
    }
   },
   "outputs": [
    {
     "name": "stdout",
     "output_type": "stream",
     "text": [
      "INFO:tensorflow:Assets written to: ram://c4ded182-a61b-4654-a60e-b8a3444d2afa/assets\n"
     ]
    },
    {
     "data": {
      "text/plain": [
       "['model_digits.joblib']"
      ]
     },
     "execution_count": 402,
     "metadata": {},
     "output_type": "execute_result"
    }
   ],
   "source": [
    "joblib.dump(model, f'model_digits.joblib')"
   ]
  }
 ],
 "metadata": {
  "kernelspec": {
   "display_name": "Python 3 (ipykernel)",
   "language": "python",
   "name": "python3"
  },
  "language_info": {
   "codemirror_mode": {
    "name": "ipython",
    "version": 3
   },
   "file_extension": ".py",
   "mimetype": "text/x-python",
   "name": "python",
   "nbconvert_exporter": "python",
   "pygments_lexer": "ipython3",
   "version": "3.8.12"
  },
  "toc": {
   "base_numbering": 1,
   "nav_menu": {},
   "number_sections": true,
   "sideBar": true,
   "skip_h1_title": false,
   "title_cell": "Table of Contents",
   "title_sidebar": "Contents",
   "toc_cell": false,
   "toc_position": {
    "height": "calc(100% - 180px)",
    "left": "10px",
    "top": "150px",
    "width": "209.8px"
   },
   "toc_section_display": true,
   "toc_window_display": true
  }
 },
 "nbformat": 4,
 "nbformat_minor": 5
}
