{
 "cells": [
  {
   "cell_type": "markdown",
   "id": "cdb13ad7",
   "metadata": {
    "ExecuteTime": {
     "end_time": "2023-04-17T18:20:50.643830Z",
     "start_time": "2023-04-17T18:20:49.745008Z"
    }
   },
   "source": [
    "# Imports"
   ]
  },
  {
   "cell_type": "code",
   "execution_count": 177,
   "id": "8b15e5c2",
   "metadata": {
    "ExecuteTime": {
     "end_time": "2023-05-10T06:42:32.647506Z",
     "start_time": "2023-05-10T06:42:32.627538Z"
    }
   },
   "outputs": [],
   "source": [
    "import os\n",
    "import csv\n",
    "import random\n",
    "import numpy as np\n",
    "import pprint\n",
    "\n",
    "import matplotlib.pyplot as plt\n",
    "from matplotlib.patches import Rectangle\n",
    "from PIL import Image\n",
    "\n",
    "\n",
    "import pandas as pd\n",
    "\n",
    "from timeit import default_timer as timer\n",
    "import joblib\n",
    "\n",
    "import tensorflow as tf\n",
    "import tensorflowjs as tfjs\n",
    "\n",
    "from tensorflow.keras import layers, models, optimizers, regularizers\n",
    "from tensorflow.keras import datasets\n",
    "from tensorflow.keras.callbacks import EarlyStopping\n",
    "\n",
    "from tensorflow.keras.backend import expand_dims\n",
    "from tensorflow.keras.utils import to_categorical\n",
    "from sklearn.model_selection import train_test_split"
   ]
  },
  {
   "cell_type": "markdown",
   "id": "1f0b00ca",
   "metadata": {},
   "source": [
    "# BoundingBox Packer Class\n"
   ]
  },
  {
   "cell_type": "code",
   "execution_count": 32,
   "id": "ec7e9243",
   "metadata": {
    "ExecuteTime": {
     "end_time": "2023-05-09T07:29:12.898535Z",
     "start_time": "2023-05-09T07:29:12.851692Z"
    }
   },
   "outputs": [],
   "source": [
    "\n",
    "class BinPackerNode:\n",
    "    def __init__(self, x=0, y=0, width=0,height=0, data=None, left=None,right=None):\n",
    "        self.x = x\n",
    "        self.y = y\n",
    "        self.width = width\n",
    "        self.height = height\n",
    "        self.data = data\n",
    "        self.left = left\n",
    "        self.right = right\n",
    "\n",
    "    def split(self, data, width, height):\n",
    "        self.data = data\n",
    "        self.left = BinPackerNode(self.x,self.y+height, self.width, self.height-height)\n",
    "        self.right = BinPackerNode(self.x+width,self.y, self.width-width, height)\n",
    "        return self\n",
    "    \n",
    "    @staticmethod\n",
    "    def find(node, width, height):\n",
    "        if node.data:\n",
    "            return BinPackerNode.find(node.right, width, height) or BinPackerNode.find(node.left, width, height)\n",
    "        elif width <= node.width and height <= node.height:\n",
    "            return node\n",
    "        return None\n",
    "\n",
    "\n",
    "class BinPacker:\n",
    "    def __init__(self, width, height):\n",
    "        self.root = BinPackerNode(0,0,width,height)\n",
    "    \n",
    "    cbsort = {\n",
    "        \"w\": (lambda a,b: b[\"width\"] - a[\"width\"]),\n",
    "        \"h\": (lambda a,b: b[\"height\"] - a[\"height\"]),\n",
    "        \"a\": (lambda a,b: b[\"width\"]*b[\"height\"] - a[\"width\"]*a[\"height\"]),\n",
    "        \"max\": (lambda a,b: max(b[\"width\"], b[\"height\"]) - max(a[\"width\"], a[\"height\"])),\n",
    "        \"min\": (lambda a,b: min(b[\"width\"], b[\"height\"]) - min(a[\"width\"], a[\"height\"])),\n",
    "        \"random\": (lambda a,b: random.random() - 0.5),\n",
    "        \"height\": (lambda a,b: BinPacker.msort(a, b, ['h','w'])),\n",
    "        \"width\": (lambda a,b: BinPacker.msort(a, b, ['w','h'])),\n",
    "        \"area\": (lambda a,b: BinPacker.msort(a, b, ['a','h','w'])),\n",
    "        \"maxside\": (lambda a,b: BinPacker.msort(a, b, ['max','min','h','w'])),\n",
    "    }\n",
    "    \n",
    "    @staticmethod\n",
    "    def msort(a, b, criteria):\n",
    "        diff = 0\n",
    "        for n in range(len(criteria)):\n",
    "            diff = BinPacker.cbsort[criteria[n]](a,b)\n",
    "            if diff != 0:\n",
    "                break\n",
    "        return diff\n",
    "    \n",
    "    @staticmethod\n",
    "    def swap(a,i,j):\n",
    "        t = a[i]\n",
    "        a[i] = a[j]\n",
    "        a[j] = t\n",
    "\n",
    "    @staticmethod\n",
    "    def sort(arr, criteria = ['height']):\n",
    "        for i in range(0, len(arr)-1):\n",
    "            for j in range(i+1, len(arr)):\n",
    "                if BinPacker.msort(arr[i], arr[j], criteria) > 0:\n",
    "                    BinPacker.swap(arr,i,j)\n",
    "\n",
    "    def fit(self, blocks_src, criteria = ['height']):\n",
    "        res = []\n",
    "        blocks = []\n",
    "        \n",
    "        for i in range(len(blocks_src)):\n",
    "            blocks.append(blocks_src[i])\n",
    "\n",
    "        BinPacker.sort(blocks, criteria)\n",
    "\n",
    "        for i in range(len(blocks)):\n",
    "            block = blocks[i]\n",
    "            w = block[\"width\"]\n",
    "            h = block[\"height\"]\n",
    "            node = BinPackerNode.find(self.root, w,h)\n",
    "            if not node:\n",
    "                continue\n",
    "            if not node.split(block[\"data\"] if \"data\" in block else \"empty\", w,h):\n",
    "                continue\n",
    "            node.width = w\n",
    "            node.height = h\n",
    "            res.append(node)\n",
    "        return res\n",
    "    "
   ]
  },
  {
   "cell_type": "markdown",
   "id": "6f216656",
   "metadata": {},
   "source": [
    "Exemple:\n"
   ]
  },
  {
   "cell_type": "code",
   "execution_count": 33,
   "id": "43aed5a2",
   "metadata": {
    "ExecuteTime": {
     "end_time": "2023-05-09T07:29:15.664387Z",
     "start_time": "2023-05-09T07:29:15.644029Z"
    }
   },
   "outputs": [
    {
     "name": "stdout",
     "output_type": "stream",
     "text": [
      "0 0 100 100 16711680\n",
      "100 0 100 100 255\n",
      "0 100 80 80 0\n"
     ]
    }
   ],
   "source": [
    "blocks = [\n",
    "    { \"width\": 100, \"height\": 100, \"data\": {\"color\":0xff0000} },\n",
    "    { \"width\": 100, \"height\": 100, \"data\": {\"color\":0x0000ff} },\n",
    "    { \"width\":  80, \"height\":  80 },\n",
    "    { \"width\":  80, \"height\":  80, \"data\": {\"color\":0x0} },\n",
    "]\n",
    "packer = BinPacker(300,300)\n",
    "res = packer.fit(blocks, [\"area\"])\n",
    "\n",
    "for i in range(len(res)):\n",
    "    node = res[i]\n",
    "    if node.data == \"empty\":\n",
    "        \n",
    "        continue\n",
    "    color = node.data[\"color\"]\n",
    "    print(node.x, node.y, node.width, node.height, color)"
   ]
  },
  {
   "cell_type": "markdown",
   "id": "f7f68fdb",
   "metadata": {},
   "source": [
    "# Generic Class for multiclass objects detection\n"
   ]
  },
  {
   "cell_type": "code",
   "execution_count": 182,
   "id": "b3345e4a",
   "metadata": {
    "ExecuteTime": {
     "end_time": "2023-05-10T06:56:44.951561Z",
     "start_time": "2023-05-10T06:56:44.796661Z"
    }
   },
   "outputs": [],
   "source": [
    "class ObjectDetectionGenerator:\n",
    "    def __init__(self, X_train, y_train, X_test, y_test, dir_path,\n",
    "                 layers_width=300, layers_height=300,\n",
    "                 random_state=1, test_size=0.25):\n",
    "        self.random_state = random_state\n",
    "        self.layers_width = layers_width\n",
    "        self.layers_height = layers_height\n",
    "        self.sprites = {\n",
    "            \"X_train\": X_train,\n",
    "            \"y_train\": y_train,\n",
    "            \"y_train_bbox\": None,\n",
    "            \n",
    "            \"X_val\": None,\n",
    "            \"y_val\": None,\n",
    "            \"y_val_bbox\": None,\n",
    "            \n",
    "            \"X_test\": X_test,\n",
    "            \"y_test\": y_test,\n",
    "            \"y_test_bbox\": None\n",
    "        }\n",
    "        self.layers = { # sprites composition\n",
    "            \"X_train\": [],\n",
    "            \"y_train_id\": None,\n",
    "            \"y_train_bbox\": None,\n",
    "            \n",
    "            \"X_val\": [],\n",
    "            \"y_val_id\": None,\n",
    "            \"y_val_bbox\": None,\n",
    "            \n",
    "            \"X_test\": [],\n",
    "            \"y_test_id\": None,\n",
    "            \"y_test_bbox\": None,\n",
    "            \n",
    "            \"aabb_train\": [],\n",
    "            \"aabb_val\": None,\n",
    "            \"aabb_test\": None\n",
    "        }\n",
    "        self.dir_path = dir_path\n",
    "        self.dir_path_layers = os.path.join(self.dir_path, 'layers')\n",
    "        \n",
    "        s = self.sprites\n",
    "        s[\"X_train\"],s[\"X_val\"],s[\"y_train\"],s[\"y_val\"] = train_test_split(X_train, y_train,\n",
    "                                                  test_size=test_size,\n",
    "                                                  random_state=random_state)\n",
    "    @staticmethod\n",
    "    def list_first_val(arr):\n",
    "        for i in arr:\n",
    "            if i > 0:\n",
    "                return 1\n",
    "        return -1\n",
    "    \n",
    "    @staticmethod\n",
    "    def get_bbox(data):\n",
    "        \"\"\"aligned-axis bounding-box (bounding square)\"\"\"\n",
    "        x1 = 0xffff\n",
    "        y1 = 0xffff\n",
    "        x2 = 0\n",
    "        y2 = 0\n",
    "        # y1\n",
    "        for j in range(len(data)):\n",
    "            if ObjectDetectionGenerator.list_first_val(data[j]) > 0:\n",
    "                y1 = j\n",
    "                break\n",
    "        # y2\n",
    "        for j in range(len(data)):\n",
    "            end = len(data)-j-1\n",
    "            if ObjectDetectionGenerator.list_first_val(data[end]) > 0:\n",
    "                y2 = end\n",
    "                break\n",
    "        # x1, x2\n",
    "        for j in range(len(data)):\n",
    "            ydata = data[j]\n",
    "            val = 0xffff\n",
    "            last = 0\n",
    "            for i in range(len(ydata)):\n",
    "                if ydata[i] > 0:\n",
    "                    x1 = min(x1,i)\n",
    "                    x2 = max(x2,i)\n",
    "        return np.array([x1,y1, x2+1,y2+1])\n",
    "\n",
    "    @staticmethod\n",
    "    def get_X_bbox(X):\n",
    "        bboxes = []\n",
    "        for i in range(len(X)):\n",
    "            bboxes.append(ObjectDetectionGenerator.get_bbox(X[i]))\n",
    "            #if i > 10: break\n",
    "        return bboxes\n",
    "    \n",
    "    @staticmethod\n",
    "    def read_bbox_csv(dir_path, filename):\n",
    "        file_path = os.path.join(dir_path, filename)\n",
    "        df = pd.read_csv(file_path)\n",
    "        return np.array(list(df.itertuples(index=False, name=None)))\n",
    "\n",
    "    @staticmethod\n",
    "    def write_bbox_csv(dir_path, filename, X):\n",
    "        file_path = os.path.join(dir_path, filename)\n",
    "        bbox = ObjectDetectionGenerator.get_X_bbox(X)\n",
    "        df = pd.DataFrame(bbox, columns=['x1','y1','x2','y2'])\n",
    "        df.to_csv(file_path, index=False)\n",
    "        return bbox\n",
    "\n",
    "    @staticmethod\n",
    "    def scaling2D(X_train, X_val, X_test, div=[1,1]):\n",
    "        mat2_div = np.array([div[0],div[1],div[0],div[1]])\n",
    "        X_train_scaled = X_train / mat2_div\n",
    "        X_val_scaled = X_val / mat2_div\n",
    "        X_test_scaled = X_test / mat2_div\n",
    "        return X_train_scaled, X_val_scaled, X_test_scaled\n",
    "\n",
    "    def load_sprites(self, gen_files=True, test_size=0.25, random_state=1):\n",
    "        \"\"\"\n",
    "        - convert csv to png\n",
    "        - load or generate+save aabb's\n",
    "        \"\"\"\n",
    "        s = self.sprites\n",
    "        \n",
    "        if (not gen_files) or self.dir_path == None:\n",
    "            s[\"y_train_bbox\"] = self.get_X_bbox(s[\"X_train\"])\n",
    "            s[\"y_test_bbox\"] = self.get_X_bbox(s[\"X_test\"])\n",
    "            return\n",
    "        # folder exists ?\n",
    "        if not os.path.exists(self.dir_path):\n",
    "            os.mkdir(self.dir_path)\n",
    "        # load aabb\n",
    "        if os.path.exists(os.path.join(self.dir_path, 'y_train_bbox.csv')):\n",
    "            s[\"y_train_bbox\"] = self.read_bbox_csv(self.dir_path, 'y_train_bbox.csv')\n",
    "            s[\"y_test_bbox\"] = self.read_bbox_csv(self.dir_path, 'y_test_bbox.csv')\n",
    "            print(\"bbox csv loaded\")\n",
    "        else: # or compute them (slow!)\n",
    "            s[\"y_train_bbox\"] = self.write_bbox_csv(self.dir_path, 'y_train_bbox.csv', s[\"X_train\"])\n",
    "            s[\"y_test_bbox\"] = self.write_bbox_csv(self.dir_path, 'y_test_bbox.csv', s[\"X_test\"])\n",
    "            print(\"bbox csv computed\")\n",
    "        \n",
    "        s[\"y_train_bbox\"], s[\"y_val_bbox\"] = train_test_split(s[\"y_train_bbox\"],\n",
    "                                                          test_size=test_size,\n",
    "                                                          random_state=random_state)\n",
    "    \n",
    "    def load_layers(self):\n",
    "        dir_path_layers_train = os.path.join(self.dir_path_layers, \"train\")\n",
    "        dir_path_layers_test = os.path.join(self.dir_path_layers, \"test\")\n",
    "        # folders exists ?\n",
    "        if not os.path.exists(dir_path_layers_train):\n",
    "            os.mkdir(dir_path_layers_train)\n",
    "        if not os.path.exists(dir_path_layers_test):\n",
    "            os.mkdir(dir_path_layers_test)\n",
    "            \n",
    "        json_filename = 'layers_y_aabb_train.json'\n",
    "        json_str = pd.Series(self.layers[\"y_train_bbox\"]).to_json(orient='values')\n",
    "        json_file = os.path.join(dir_path_layers_train, json_filename)\n",
    "        with open(json_file, 'w', encoding='utf-8') as f:\n",
    "            f.write(json_str)\n",
    "        print(f'\"{json_filename}\" file saved!')\n",
    "        \n",
    "        # save images\n",
    "        idx = 0\n",
    "        png_filename = os.path.join(self.dir_path_layers, \"X_train_0.png\")\n",
    "        pixels = self.layers[\"X_train\"][idx]\n",
    "        #print(pixels.shape)\n",
    "        #plt.imsave(png_filename, pixels.astype(np.uint8))\n",
    "        \n",
    "        #plt.imsave(png_filename, np.expand_dims(pixels, axis=0).astype(np.uint8))\n",
    "        #plt.imshow(pixels, cmap='gray')\n",
    "        \n",
    "    \n",
    "    def reset_layers(self):\n",
    "        self.layers[\"X_train\"] = []\n",
    "        self.layers[\"y_train_bbox\"] = []\n",
    "        return self\n",
    "    \n",
    "    def clean_layer(self, layer_index=0):\n",
    "        if len(self.layers[\"X_train\"]) > layer_index:\n",
    "            self.layers[\"X_train\"][layer_index] = np.zeros((self.layers_height, self.layers_width, 1))\n",
    "            self.layers[\"y_train_bbox\"][layer_index] = []\n",
    "        return self\n",
    "    \n",
    "    def add_layer(self):\n",
    "        self.layers[\"X_train\"].append(np.zeros((self.layers_height, self.layers_width, 1)))\n",
    "        self.layers[\"y_train_bbox\"].append([])\n",
    "        return self\n",
    "\n",
    "    @staticmethod\n",
    "    def _draw_sprite(src, sx,sy, s_width,s_height,\n",
    "                     dst, dx,dy, d_width,d_height):\n",
    "        # src\n",
    "        s_width_orig = src.shape[1]\n",
    "        s_height_orig = src.shape[0]\n",
    "        # dst\n",
    "        d_width_orig = dst.shape[1]\n",
    "        d_height_orig = dst.shape[0]\n",
    "        dx -= sx\n",
    "        dy -= sy\n",
    "        for j in range(sy,s_height):\n",
    "            for i in range(sx,s_width):\n",
    "                color = src[j][i]\n",
    "                dst[j+dy][i+dx] = color# if color else 127\n",
    "                \n",
    "    @staticmethod\n",
    "    def _aabb_collide_aabb_list(x,y, aabb, pos_list,aabb_list):\n",
    "        if len(aabb_list) == 0:\n",
    "            return False\n",
    "        a = aabb\n",
    "        for i in range(len(aabb_list)):\n",
    "            x2 = pos_list[i][0]\n",
    "            y2 = pos_list[i][1]\n",
    "            b = aabb_list[i]\n",
    "            if a[2]+x < b[0]+x2 or a[0]+x > b[2]+x2:\n",
    "                continue\n",
    "            if a[3]+y < b[1]+y2 or a[1]+y > b[3]+y2:\n",
    "                continue\n",
    "            return True\n",
    "        return False\n",
    "    \n",
    "    @staticmethod\n",
    "    def _plt_rectangle(tup):\n",
    "        x1 = tup[0]\n",
    "        y1 = tup[1]\n",
    "        x2 = tup[2]\n",
    "        y2 = tup[3]\n",
    "        plt.gca().add_patch(Rectangle((x1-0.5,y1-0.5),x2-x1,y2-y1,linewidth=1,edgecolor='r',facecolor='none'))\n",
    "        return\n",
    "\n",
    "    \n",
    "    def _draw_random_sprites(self, layer_index=0, count=20):\n",
    "        random_call_count = 0\n",
    "        dst = self.layers['X_train'][layer_index]\n",
    "        pos_list = []\n",
    "        bbox_list = []\n",
    "        \n",
    "        for i in range(count):\n",
    "            idx = random.randint(0, len(self.sprites['X_train']))\n",
    "            src = self.sprites['X_train'][idx]\n",
    "            bbox = self.sprites['y_train_bbox'][idx]\n",
    "            for j in range(200):\n",
    "                x = random.randint(0, self.layers_width-aabb[2])\n",
    "                y = random.randint(0, self.layers_height-aabb[3])\n",
    "                collision = self._bbox_collide_bbox_list(x,y, bbox, pos_list,aabb_list)\n",
    "                if collision == False:\n",
    "                    break\n",
    "                random_call_count += 1\n",
    "                if j >= 199:\n",
    "                    raise NameError('Too many loops! reduce the number of chars')\n",
    "                \n",
    "            pos_list.append([x,y])\n",
    "            bbox_list.append(aabb)\n",
    "            \n",
    "            bbox_train = np.array([x,y, x+(aabb[2]-aabb[0]), y+(aabb[3]-aabb[1])])\n",
    "            self.layers[\"y_train_bbox\"][layer_index].append(bbox_train)\n",
    "            \n",
    "            #print(\"random call count: \" + str(random_call_count))\n",
    "            self._draw_sprite(src,\n",
    "                              #0,0, 28,28,\n",
    "                              bbox[0],bbox[1], bbox[2],bbox[3],\n",
    "                              dst, x,y, dst.shape[0],dst.shape[1])\n",
    "        \n",
    "    def _draw_packed_sprites(self, layer_index=0, count=20):\n",
    "        random_call_count = 0\n",
    "        dst = self.layers['X_train'][layer_index]\n",
    "        blocks = []\n",
    "        x_pad = 2\n",
    "        y_pad = 2\n",
    "        \n",
    "        for i in range(count):\n",
    "            idx = random.randint(0, len(self.sprites['X_train']))\n",
    "            src = self.sprites['X_train'][idx]\n",
    "            bbox = self.sprites['y_train_bbox'][idx]\n",
    "            blocks.append({\n",
    "                \"width\": (bbox[2]-bbox[0]) + x_pad,\n",
    "                \"height\": (bbox[3]-bbox[1]) + y_pad,\n",
    "                \"data\": {\n",
    "                    \"idx\": idx,\n",
    "                }\n",
    "            })\n",
    "        \n",
    "        # packer\n",
    "        packer = BinPacker(self.layers_width,self.layers_height)\n",
    "        res = packer.fit(blocks, [\"area\"])\n",
    "        \n",
    "        for i in range(len(res)):\n",
    "            node = res[i]\n",
    "            if node.data == \"empty\":\n",
    "                continue\n",
    "            idx = node.data[\"idx\"]\n",
    "            src = self.sprites['X_train'][idx]\n",
    "            bbox = self.sprites['y_train_bbox'][idx]\n",
    "            self._draw_sprite(src,\n",
    "                              #0,0, 28,28,\n",
    "                              bbox[0],bbox[1], bbox[2],bbox[3],\n",
    "                              dst, node.x,node.y, dst.shape[1],dst.shape[0])\n",
    "    \n",
    "    def transform_scale(self, scale=[1,1]):\n",
    "        s = self.sprites\n",
    "        s[\"y_train_bbox\"], s[\"y_val_bbox\"], s[\"y_test_bbox\"] = self.scaling2D(s[\"y_train_bbox\"],\n",
    "                                                                              s[\"y_val_bbox\"],\n",
    "                                                                              s[\"y_test_bbox\"],\n",
    "                                                                              scale)\n",
    "        return s[\"y_train_bbox\"], s[\"y_val_bbox\"], s[\"y_test_bbox\"]\n",
    "    \n",
    "    def show_sprite(self, idx=0):\n",
    "        s = self.sprites\n",
    "        plt.imshow(s[\"X_train\"][idx], cmap='gray')\n",
    "        plt.show()\n",
    "        \n",
    "    def show_layer(self, idx=0):\n",
    "        s = self.layers\n",
    "        #plt.figure(figsize = (20,int(20*(self.layers_height / self.layers_width))))\n",
    "        plt.figure(figsize = (20,20))\n",
    "        #print(s[\"X_train\"][idx].shape)\n",
    "        #print(s[\"aabb_train\"][idx])\n",
    "        # draw layer\n",
    "        plt.imshow(s[\"X_train\"][idx], cmap='gray')\n",
    "        # draw aabb's\n",
    "        for bbox in s[\"y_train_bbox\"][idx]:\n",
    "            self._plt_rectangle(bbox)\n",
    "        plt.show()\n",
    "        "
   ]
  },
  {
   "cell_type": "code",
   "execution_count": 193,
   "id": "dd6a289d",
   "metadata": {
    "ExecuteTime": {
     "end_time": "2023-05-10T08:05:59.196480Z",
     "start_time": "2023-05-10T08:05:58.451391Z"
    }
   },
   "outputs": [
    {
     "name": "stdout",
     "output_type": "stream",
     "text": [
      "bounding-squares csv loaded\n"
     ]
    }
   ],
   "source": [
    "try: # python\n",
    "    dataset_dir = os.path.join(os.path.dirname(os.path.abspath(__file__)), \"..\", \"dataset\")\n",
    "except NameError: # jupyter notebook\n",
    "    dataset_dir = os.path.join(os.path.dirname(os.getcwd()), 'dataset')\n",
    "\n",
    "(X_train, y_train), (X_test, y_test) = datasets.mnist.load_data(path=\"mnist.npz\")\n",
    "og = ObjectDetectionGenerator(X_train, y_train, X_test, y_test, dataset_dir,\n",
    "                              layers_width=256,layers_height=128)\n",
    "og.load_sprites()\n",
    "#og.transform_scale([28.,28.])\n",
    "\n",
    "\n",
    "#og.reset_layers()\n",
    "og.add_layer()\n",
    "og._draw_random_sprites(0, 2)\n",
    "og.add_layer()\n",
    "og._draw_random_sprites(1, 5)\n",
    "\n",
    "#og.show_layer(0)\n",
    "#og.show_layer(1)\n",
    "\n",
    "\n",
    "#print(og.layers[\"aabb_train\"])\n",
    "#print(pd.Series(og.layers[\"aabb_train\"]).to_json(orient='values'))\n",
    "#og.load_layers()\n",
    "\n",
    "def write_layers(og, split_set=\"train\"):\n",
    "    dir_path_layers = os.path.join(og.dir_path_layers, split_set)\n",
    "    for i in range(len(og.layers[\"X_\"+split_set])):\n",
    "        png_filename = os.path.join(dir_path_layers_train, f\"X_{split_set}_{i}.png\")\n",
    "        pixels = np.reshape(og.layers[\"X_\"+split_set][i],(og.layers_height,og.layers_width))\n",
    "        img = Image.fromarray(pixels.astype(np.uint8), mode='L')\n",
    "        img.save(png_filename, format='PNG', bits=8)\n",
    "    return\n",
    "\n",
    "write_layers(og, \"train\")   "
   ]
  },
  {
   "cell_type": "code",
   "execution_count": 40,
   "id": "91424639",
   "metadata": {
    "ExecuteTime": {
     "end_time": "2023-05-09T08:03:06.182960Z",
     "start_time": "2023-05-09T08:03:05.537298Z"
    }
   },
   "outputs": [
    {
     "name": "stdout",
     "output_type": "stream",
     "text": [
      "(128, 256, 1)\n"
     ]
    },
    {
     "data": {
      "image/png": "[encoded data removed]",
      "text/plain": [
       "<Figure size 1440x1440 with 1 Axes>"
      ]
     },
     "metadata": {
      "needs_background": "light"
     },
     "output_type": "display_data"
    }
   ],
   "source": [
    "og.clean_layer(0)\n",
    "og._draw_packed_sprites(0, 100)\n",
    "og.show_layer(0)"
   ]
  },
  {
   "cell_type": "code",
   "execution_count": 42,
   "id": "505c7bca",
   "metadata": {
    "ExecuteTime": {
     "end_time": "2023-05-09T08:03:10.532384Z",
     "start_time": "2023-05-09T08:03:10.489431Z"
    }
   },
   "outputs": [
    {
     "ename": "AttributeError",
     "evalue": "'ObjectDetectionGenerator' object has no attribute 'show_layers'",
     "output_type": "error",
     "traceback": [
      "\u001b[0;31m---------------------------------------------------------------------------\u001b[0m",
      "\u001b[0;31mAttributeError\u001b[0m                            Traceback (most recent call last)",
      "Input \u001b[0;32mIn [42]\u001b[0m, in \u001b[0;36m<cell line: 4>\u001b[0;34m()\u001b[0m\n\u001b[1;32m      2\u001b[0m og\u001b[38;5;241m.\u001b[39madd_layer()\n\u001b[1;32m      3\u001b[0m og\u001b[38;5;241m.\u001b[39m_draw_random_sprites(\u001b[38;5;241m0\u001b[39m, \u001b[38;5;241m1\u001b[39m)\n\u001b[0;32m----> 4\u001b[0m \u001b[43mog\u001b[49m\u001b[38;5;241;43m.\u001b[39;49m\u001b[43mshow_layers\u001b[49m()\n",
      "\u001b[0;31mAttributeError\u001b[0m: 'ObjectDetectionGenerator' object has no attribute 'show_layers'"
     ]
    }
   ],
   "source": [
    "og.reset_layers()\n",
    "og.add_layer()\n",
    "og._draw_random_sprites(0, 1)\n",
    "og.show_layers()"
   ]
  },
  {
   "cell_type": "markdown",
   "id": "aee56d15",
   "metadata": {},
   "source": [
    "# Trainer Class"
   ]
  },
  {
   "cell_type": "code",
   "execution_count": 76,
   "id": "df17193f",
   "metadata": {
    "ExecuteTime": {
     "end_time": "2023-04-29T03:10:36.388733Z",
     "start_time": "2023-04-29T03:10:36.248390Z"
    }
   },
   "outputs": [],
   "source": [
    "\n",
    "class Trainer():\n",
    "    def __init__(self, canvas_width=300, canvas_height=300):\n",
    "        self.canvas_width = canvas_width\n",
    "        self.canvas_heigth = canvas_height\n",
    "        \n",
    "        self.X_train = None\n",
    "        self.y_train = [None,None]\n",
    "        \n",
    "        self.X_val = None\n",
    "        self.y_val = [None,None]\n",
    "        \n",
    "        self.X_test = None\n",
    "        self.y_test = [None,None]\n",
    "        \n",
    "        \n",
    "    def scaling(self):\n",
    "        self.mean_scaler = 0\n",
    "        self.std_scaler = 255.\n",
    "\n",
    "        self.X_train = (self.X_train - self.mean_scaler) / self.std_scaler\n",
    "        self.X_val = (self.X_val - self.mean_scaler) / self.std_scaler\n",
    "        self.X_test = (self.X_test - self.mean_scaler) / self.std_scaler\n",
    "        return self\n",
    "    \n",
    "    \n",
    "    def get_data(self, random_state=1, test_size=0.25):\n",
    "        (self.X_train, self.y_train[0]), (self.X_test, self.y_test[0]) = datasets.mnist.load_data(path=\"mnist.npz\")\n",
    "\n",
    "        # add a dim: (28, 28) -> (28, 28, 1)\n",
    "        # np.expand_dims(X_train, axis=-1)\n",
    "        self.X_train = self.X_train.reshape(len(self.X_train), 28,28,1)\n",
    "        self.X_test = self.X_test.reshape(len(self.X_test), 28,28,1)\n",
    "\n",
    "        # y_train[0] and y_test[0] are categorical\n",
    "        self.y_train[0] = to_categorical(self.y_train[0], num_classes=10, dtype =\"uint8\")\n",
    "        self.y_test[0] = to_categorical(self.y_test[0], num_classes=10, dtype =\"uint8\")\n",
    "\n",
    "        # split train/validation\n",
    "        self.X_train, self.X_val, self.y_train[0], self.y_val[0] = train_test_split(self.X_train, self.y_train[0],\n",
    "                                                                  test_size=test_size,\n",
    "                                                                  random_state=random_state)\n",
    "        # transform data\n",
    "        self.scaling()\n",
    "        \n",
    "        # data augmentation + BoundingBoxes\n",
    "        self.og = ObjectDetectionGenerator(self.X_train, self.y_train, self.X_test, self.y_test,\n",
    "                                           os.path.join(os.path.dirname(os.getcwd()), 'dataset'))\n",
    "        self.og.gen_aabb(test_size=test_size, random_state=random_state)\n",
    "        self.y_train[1], self.y_val[1], self.y_test[1] = self.og.transform_scale([28.,28.])\n",
    "        \n",
    "        return self\n",
    "    \n",
    "    def set_pipeline(self):\n",
    "        \"\"\" classification + regression with 10+4 outputs \"\"\"\n",
    "        # define two sets of inputs\n",
    "        inputs = layers.Input(shape=self.X_train[0].shape)\n",
    "\n",
    "        # the first branch operates on the first input\n",
    "        a = layers.Conv2D(32, kernel_size=(3,3), activation='relu', padding='same')(inputs)\n",
    "        a = layers.MaxPool2D(pool_size=(2,2))(a)\n",
    "\n",
    "        a = layers.Conv2D(64, kernel_size=(3,3), activation='relu', padding='same')(a)\n",
    "        a = layers.MaxPool2D(pool_size=(2,2))(a)\n",
    "        a = layers.Conv2D(64, kernel_size=(3,3), activation='relu', padding='same')(a)\n",
    "        #a = layers.MaxPool2D(pool_size=(2,2))(a)\n",
    "        a = layers.Flatten()(a)\n",
    "        a = layers.Dense(64, activation='relu')(a)\n",
    "\n",
    "        # output for classification\n",
    "        out_softmax = layers.Dense(10, activation='softmax', name='out_softmax')(a)\n",
    "\n",
    "        # output for regression\n",
    "        out_bbox = layers.Dense(32, activation=\"relu\")(a)\n",
    "        out_bbox = layers.Dense(4, activation='sigmoid', name='out_bbox')(a)\n",
    "\n",
    "        self.model = models.Model(inputs=inputs, outputs=[out_softmax,out_bbox])\n",
    "        return self\n",
    "    \n",
    "    def run(self,\n",
    "            optimizer = optimizers.Adam(learning_rate=0.0001, beta_1=0.9, beta_2=0.999),\n",
    "            loss = {'out_softmax': 'categorical_crossentropy',\n",
    "                    'out_sigmoid': 'mse'},\n",
    "            metrics = {'out_softmax': 'accuracy',\n",
    "                       'out_sigmoid': 'mae'},\n",
    "            epochs = 50,\n",
    "            batch_size = 16):\n",
    "\n",
    "        self.optimizer = optimizer\n",
    "        self.loss = loss\n",
    "        self.metrics = metrics\n",
    "        self.epochs = epochs\n",
    "        self.batch_size = batch_size\n",
    "        \n",
    "        # https://distill.pub/2017/momentum/\n",
    "        # https://www.tensorflow.org/api_docs/python/tf/keras/metrics\n",
    "        self.model.compile(optimizer=self.optimizer, \n",
    "                           loss=self.loss,\n",
    "                           metrics=self.metrics)\n",
    "\n",
    "        # early stopping\n",
    "        es = EarlyStopping(patience = 10, restore_best_weights = True)\n",
    "        start_time = timer()\n",
    "        self.history = model.fit(self.X_train, self.y_train,\n",
    "                                 validation_data = (self.X_val, self.y_val),\n",
    "                                 batch_size = batch_size,\n",
    "                                 epochs = epochs,\n",
    "                                 callbacks = [es],\n",
    "                                 verbose = 1)\n",
    "\n",
    "        self.training_time = timer() - start_time\n",
    "        print(\"training time:\", self.training_time)\n",
    "        return self\n",
    "    \n",
    "    def evaluate(self):\n",
    "        self.eval_res = {\n",
    "            \"train\": self.model.evaluate(self.X_train, self.y_train, batch_size=None, verbose = 1),\n",
    "            \"val\": self.model.evaluate(self.X_val, y_val, batch_size=None, verbose = 1),\n",
    "            \"test\": self.model.evaluate(self.X_test, self.y_test, batch_size=None, verbose = 1)\n",
    "        }\n",
    "        return self.eval_res\n",
    "    \n",
    "    def plot_history(self):\n",
    "        labels = ['loss', *self.metrics.values()]\n",
    "        h = self.history\n",
    "        with plt.style.context('seaborn-deep'):\n",
    "            fig, ax = plt.subplots(1, max(2,len(labels)), figsize=(15, 4))\n",
    "            x_axis = np.arange(len(h[labels[0]]))\n",
    "            for i in range(len(labels)):\n",
    "                l = labels[i]\n",
    "                L = l.capitalize()\n",
    "                ax[i].set_title(l)\n",
    "                ax[i].plot(x_axis, h[l], color=\"blue\", linestyle=\":\", marker=\"X\", label=\"Train \"+L)\n",
    "                ax[i].plot(x_axis, h['val_'+l], color=\"orange\", linestyle=\"-\", marker=\"X\", label=\"Val \"+L)\n",
    "                ax[i].grid(axis=\"x\", linewidth=0.5)\n",
    "                ax[i].grid(axis=\"y\", linewidth=0.5)\n",
    "                ax[i].legend()\n",
    "            plt.show()\n",
    "        return self\n",
    "    \n",
    "    \n",
    "    "
   ]
  },
  {
   "cell_type": "markdown",
   "id": "f91c2353",
   "metadata": {},
   "source": [
    "# Dataset"
   ]
  },
  {
   "cell_type": "code",
   "execution_count": 77,
   "id": "495a99ce",
   "metadata": {
    "ExecuteTime": {
     "end_time": "2023-04-29T03:10:42.538871Z",
     "start_time": "2023-04-29T03:10:40.243984Z"
    }
   },
   "outputs": [
    {
     "name": "stdout",
     "output_type": "stream",
     "text": [
      "bounding-squares csv loaded\n",
      "\n",
      "X_train: (45000, 28, 28, 1)\n",
      "X_val: (15000, 28, 28, 1)\n",
      "X_test: (10000, 28, 28, 1)\n",
      "\n",
      "y_train[0]/y_train[1]: (45000, 10) (45000, 4)\n",
      "y_val[0]/y_val[1]: (15000, 10) (15000, 4)\n",
      "y_test[0]/y_test[1]: (10000, 10) (10000, 4)\n",
      "\n"
     ]
    }
   ],
   "source": [
    "trainer = Trainer()\n",
    "trainer.get_data()\n",
    "\n",
    "print(\"\")\n",
    "print(\"X_train:\", trainer.X_train.shape);\n",
    "print(\"X_val:\", trainer.X_val.shape);\n",
    "\n",
    "print(\"X_test:\", trainer.X_test.shape);\n",
    "print(\"\")\n",
    "print(\"y_train[0]/y_train[1]:\", trainer.y_train[0].shape, trainer.y_train[1].shape);\n",
    "print(\"y_val[0]/y_val[1]:\", trainer.y_val[0].shape, trainer.y_val[1].shape);\n",
    "print(\"y_test[0]/y_test[1]:\", trainer.y_test[0].shape, trainer.y_test[1].shape);\n",
    "print(\"\")\n"
   ]
  },
  {
   "cell_type": "code",
   "execution_count": 64,
   "id": "6ca6898d",
   "metadata": {
    "ExecuteTime": {
     "end_time": "2023-04-28T23:45:17.018776Z",
     "start_time": "2023-04-28T23:45:16.981258Z"
    }
   },
   "outputs": [
    {
     "data": {
      "text/plain": [
       "[array([0.]),\n",
       " array([0.]),\n",
       " array([0.]),\n",
       " array([0.]),\n",
       " array([0.]),\n",
       " array([0.]),\n",
       " array([0.]),\n",
       " array([0.]),\n",
       " array([0.]),\n",
       " array([0.]),\n",
       " array([0.]),\n",
       " array([0.]),\n",
       " array([0.]),\n",
       " array([0.]),\n",
       " array([0.]),\n",
       " array([0.24705882]),\n",
       " array([0.96078431]),\n",
       " array([0.94509804]),\n",
       " array([0.14901961]),\n",
       " array([0.]),\n",
       " array([0.]),\n",
       " array([0.]),\n",
       " array([0.]),\n",
       " array([0.]),\n",
       " array([0.]),\n",
       " array([0.]),\n",
       " array([0.]),\n",
       " array([0.])]"
      ]
     },
     "execution_count": 64,
     "metadata": {},
     "output_type": "execute_result"
    }
   ],
   "source": [
    "list(trainer.X_train[0][14])"
   ]
  },
  {
   "cell_type": "markdown",
   "id": "d928b7b9",
   "metadata": {},
   "source": [
    "# Draw image + Bounding Box"
   ]
  },
  {
   "cell_type": "code",
   "execution_count": 152,
   "id": "535dcdb0",
   "metadata": {
    "ExecuteTime": {
     "end_time": "2023-04-29T07:05:58.155892Z",
     "start_time": "2023-04-29T07:05:57.600326Z"
    }
   },
   "outputs": [
    {
     "data": {
      "image/png": "[encoded data removed]",
      "text/plain": [
       "<Figure size 432x288 with 1 Axes>"
      ]
     },
     "metadata": {
      "needs_background": "light"
     },
     "output_type": "display_data"
    }
   ],
   "source": [
    "def plt_rectangle(tup):\n",
    "    x1 = tup[0]\n",
    "    y1 = tup[1]\n",
    "    x2 = tup[2]\n",
    "    y2 = tup[3]\n",
    "    plt.gca().add_patch(Rectangle((x1-0.5,y1-0.5),x2-x1,y2-y1,linewidth=1,edgecolor='r',facecolor='none'))\n",
    "    return\n",
    "\n",
    "\n",
    "idx = 100\n",
    "\n",
    "\n",
    "\n",
    "\n",
    "plt.imshow(trainer.X_train[idx], cmap='gray');\n",
    "\n",
    "plt_rectangle(trainer.y_train[1][idx] * 28)\n"
   ]
  },
  {
   "cell_type": "code",
   "execution_count": 10,
   "id": "ba80a43f",
   "metadata": {
    "ExecuteTime": {
     "end_time": "2023-04-26T10:26:26.448537Z",
     "start_time": "2023-04-26T10:26:26.073749Z"
    },
    "scrolled": true
   },
   "outputs": [
    {
     "name": "stdout",
     "output_type": "stream",
     "text": [
      "label is: Number 5\n"
     ]
    },
    {
     "data": {
      "image/png": "[encoded data removed]",
      "text/plain": [
       "<Figure size 432x288 with 1 Axes>"
      ]
     },
     "metadata": {
      "needs_background": "light"
     },
     "output_type": "display_data"
    }
   ],
   "source": [
    "labels = [\"Number 0\",\n",
    "          \"Number 1\",\n",
    "          \"Number 2\",\n",
    "          \"Number 3\",\n",
    "          \"Number 4\",\n",
    "          \"Number 5\",\n",
    "          \"Number 6\",\n",
    "          \"Number 7\",\n",
    "          \"Number 8\",\n",
    "          \"Number 9\"]\n",
    "\n",
    "def categorical_to_id(arr_cat, labels=None):\n",
    "    res = -1\n",
    "    for i in range(len(arr_cat)):\n",
    "        if arr_cat[i]:\n",
    "            res = i\n",
    "            break\n",
    "    if labels is None:\n",
    "        return res\n",
    "    return labels[res]\n",
    "\n",
    "item = 21\n",
    "\n",
    "print(\"label is:\", categorical_to_id(y_train_cat[item], labels))\n",
    "plt.imshow(X_train_scaled[item], cmap='gray');"
   ]
  },
  {
   "cell_type": "code",
   "execution_count": 24,
   "id": "c783083c",
   "metadata": {
    "ExecuteTime": {
     "end_time": "2023-04-27T07:44:18.136143Z",
     "start_time": "2023-04-27T07:44:17.775461Z"
    }
   },
   "outputs": [
    {
     "name": "stdout",
     "output_type": "stream",
     "text": [
      "Model: \"model\"\n",
      "__________________________________________________________________________________________________\n",
      " Layer (type)                   Output Shape         Param #     Connected to                     \n",
      "==================================================================================================\n",
      " input_1 (InputLayer)           [(None, 28, 28, 1)]  0           []                               \n",
      "                                                                                                  \n",
      " conv2d (Conv2D)                (None, 28, 28, 32)   320         ['input_1[0][0]']                \n",
      "                                                                                                  \n",
      " max_pooling2d (MaxPooling2D)   (None, 14, 14, 32)   0           ['conv2d[0][0]']                 \n",
      "                                                                                                  \n",
      " conv2d_1 (Conv2D)              (None, 14, 14, 64)   18496       ['max_pooling2d[0][0]']          \n"
     ]
    },
    {
     "name": "stderr",
     "output_type": "stream",
     "text": [
      "2023-04-27 09:44:17.818539: W tensorflow/compiler/xla/stream_executor/platform/default/dso_loader.cc:64] Could not load dynamic library 'libcuda.so.1'; dlerror: libcuda.so.1: cannot open shared object file: No such file or directory\n",
      "2023-04-27 09:44:17.818614: W tensorflow/compiler/xla/stream_executor/cuda/cuda_driver.cc:265] failed call to cuInit: UNKNOWN ERROR (303)\n",
      "2023-04-27 09:44:17.818646: I tensorflow/compiler/xla/stream_executor/cuda/cuda_diagnostics.cc:156] kernel driver does not appear to be running on this host (DESKTOP-DIV5ILM): /proc/driver/nvidia/version does not exist\n",
      "2023-04-27 09:44:17.819038: I tensorflow/core/platform/cpu_feature_guard.cc:193] This TensorFlow binary is optimized with oneAPI Deep Neural Network Library (oneDNN) to use the following CPU instructions in performance-critical operations:  AVX2 FMA\n",
      "To enable them in other operations, rebuild TensorFlow with the appropriate compiler flags.\n"
     ]
    },
    {
     "name": "stdout",
     "output_type": "stream",
     "text": [
      "                                                                                                  \n",
      " max_pooling2d_1 (MaxPooling2D)  (None, 7, 7, 64)    0           ['conv2d_1[0][0]']               \n",
      "                                                                                                  \n",
      " conv2d_2 (Conv2D)              (None, 7, 7, 64)     36928       ['max_pooling2d_1[0][0]']        \n",
      "                                                                                                  \n",
      " flatten (Flatten)              (None, 3136)         0           ['conv2d_2[0][0]']               \n",
      "                                                                                                  \n",
      " dense (Dense)                  (None, 64)           200768      ['flatten[0][0]']                \n",
      "                                                                                                  \n",
      " out_softmax (Dense)            (None, 10)           650         ['dense[0][0]']                  \n",
      "                                                                                                  \n",
      " out_bbox (Dense)               (None, 4)            260         ['dense[0][0]']                  \n",
      "                                                                                                  \n",
      "==================================================================================================\n",
      "Total params: 257,422\n",
      "Trainable params: 257,422\n",
      "Non-trainable params: 0\n",
      "__________________________________________________________________________________________________\n"
     ]
    }
   ],
   "source": [
    "self.set_pipeline():\n",
    "\n",
    "\n",
    "#model = get_classification_model(X_train_scaled)\n",
    "#model = get_regression_model(X_train_scaled)\n",
    "model = get_model(X_train_scaled)\n",
    "model.summary()\n",
    "\n"
   ]
  },
  {
   "cell_type": "markdown",
   "id": "ac0c17b4",
   "metadata": {},
   "source": [
    "# Train "
   ]
  },
  {
   "cell_type": "code",
   "execution_count": 61,
   "id": "5b50dc56",
   "metadata": {
    "ExecuteTime": {
     "end_time": "2023-04-26T22:11:00.395090Z",
     "start_time": "2023-04-26T21:58:55.539809Z"
    },
    "scrolled": false
   },
   "outputs": [
    {
     "name": "stdout",
     "output_type": "stream",
     "text": [
      "Epoch 1/50\n",
      "2813/2813 [==============================] - 47s 16ms/step - loss: 0.1828 - out_softmax_loss: 0.1754 - out_bbox_loss: 0.0074 - out_softmax_accuracy: 0.9451 - out_bbox_mae: 0.0625 - val_loss: 0.0911 - val_out_softmax_loss: 0.0889 - val_out_bbox_loss: 0.0022 - val_out_softmax_accuracy: 0.9714 - val_out_bbox_mae: 0.0363\n",
      "Epoch 2/50\n",
      "2813/2813 [==============================] - 42s 15ms/step - loss: 0.0600 - out_softmax_loss: 0.0583 - out_bbox_loss: 0.0016 - out_softmax_accuracy: 0.9815 - out_bbox_mae: 0.0309 - val_loss: 0.0619 - val_out_softmax_loss: 0.0607 - val_out_bbox_loss: 0.0012 - val_out_softmax_accuracy: 0.9818 - val_out_bbox_mae: 0.0263\n",
      "Epoch 3/50\n",
      "2813/2813 [==============================] - 42s 15ms/step - loss: 0.0424 - out_softmax_loss: 0.0413 - out_bbox_loss: 0.0011 - out_softmax_accuracy: 0.9865 - out_bbox_mae: 0.0255 - val_loss: 0.0620 - val_out_softmax_loss: 0.0610 - val_out_bbox_loss: 0.0010 - val_out_softmax_accuracy: 0.9836 - val_out_bbox_mae: 0.0245\n",
      "Epoch 4/50\n",
      "2813/2813 [==============================] - 43s 15ms/step - loss: 0.0321 - out_softmax_loss: 0.0311 - out_bbox_loss: 0.0010 - out_softmax_accuracy: 0.9894 - out_bbox_mae: 0.0242 - val_loss: 0.0474 - val_out_softmax_loss: 0.0465 - val_out_bbox_loss: 9.5598e-04 - val_out_softmax_accuracy: 0.9870 - val_out_bbox_mae: 0.0233\n",
      "Epoch 5/50\n",
      "2813/2813 [==============================] - 42s 15ms/step - loss: 0.0257 - out_softmax_loss: 0.0247 - out_bbox_loss: 9.9874e-04 - out_softmax_accuracy: 0.9924 - out_bbox_mae: 0.0239 - val_loss: 0.0511 - val_out_softmax_loss: 0.0501 - val_out_bbox_loss: 0.0010 - val_out_softmax_accuracy: 0.9863 - val_out_bbox_mae: 0.0244\n",
      "Epoch 6/50\n",
      "2813/2813 [==============================] - 44s 16ms/step - loss: 0.0212 - out_softmax_loss: 0.0202 - out_bbox_loss: 9.6140e-04 - out_softmax_accuracy: 0.9933 - out_bbox_mae: 0.0233 - val_loss: 0.0449 - val_out_softmax_loss: 0.0440 - val_out_bbox_loss: 9.4350e-04 - val_out_softmax_accuracy: 0.9889 - val_out_bbox_mae: 0.0233\n",
      "Epoch 7/50\n",
      "2813/2813 [==============================] - 45s 16ms/step - loss: 0.0177 - out_softmax_loss: 0.0167 - out_bbox_loss: 9.6747e-04 - out_softmax_accuracy: 0.9947 - out_bbox_mae: 0.0234 - val_loss: 0.0594 - val_out_softmax_loss: 0.0584 - val_out_bbox_loss: 9.8997e-04 - val_out_softmax_accuracy: 0.9843 - val_out_bbox_mae: 0.0236\n",
      "Epoch 8/50\n",
      "2813/2813 [==============================] - 60s 21ms/step - loss: 0.0131 - out_softmax_loss: 0.0122 - out_bbox_loss: 9.3389e-04 - out_softmax_accuracy: 0.9960 - out_bbox_mae: 0.0230 - val_loss: 0.0726 - val_out_softmax_loss: 0.0716 - val_out_bbox_loss: 0.0010 - val_out_softmax_accuracy: 0.9847 - val_out_bbox_mae: 0.0237\n",
      "Epoch 9/50\n",
      "2813/2813 [==============================] - 49s 17ms/step - loss: 0.0130 - out_softmax_loss: 0.0121 - out_bbox_loss: 9.4682e-04 - out_softmax_accuracy: 0.9961 - out_bbox_mae: 0.0232 - val_loss: 0.0838 - val_out_softmax_loss: 0.0827 - val_out_bbox_loss: 0.0010 - val_out_softmax_accuracy: 0.9823 - val_out_bbox_mae: 0.0242\n",
      "Epoch 10/50\n",
      "2813/2813 [==============================] - 46s 16ms/step - loss: 0.0115 - out_softmax_loss: 0.0106 - out_bbox_loss: 9.0890e-04 - out_softmax_accuracy: 0.9963 - out_bbox_mae: 0.0227 - val_loss: 0.0525 - val_out_softmax_loss: 0.0516 - val_out_bbox_loss: 9.5948e-04 - val_out_softmax_accuracy: 0.9888 - val_out_bbox_mae: 0.0234\n",
      "Epoch 11/50\n",
      "2813/2813 [==============================] - 47s 17ms/step - loss: 0.0104 - out_softmax_loss: 0.0095 - out_bbox_loss: 9.3013e-04 - out_softmax_accuracy: 0.9968 - out_bbox_mae: 0.0229 - val_loss: 0.0605 - val_out_softmax_loss: 0.0596 - val_out_bbox_loss: 9.1872e-04 - val_out_softmax_accuracy: 0.9876 - val_out_bbox_mae: 0.0228\n",
      "Epoch 12/50\n",
      "2813/2813 [==============================] - 43s 15ms/step - loss: 0.0085 - out_softmax_loss: 0.0076 - out_bbox_loss: 9.2228e-04 - out_softmax_accuracy: 0.9974 - out_bbox_mae: 0.0229 - val_loss: 0.0663 - val_out_softmax_loss: 0.0655 - val_out_bbox_loss: 8.5745e-04 - val_out_softmax_accuracy: 0.9869 - val_out_bbox_mae: 0.0220\n",
      "Epoch 13/50\n",
      "2813/2813 [==============================] - 43s 15ms/step - loss: 0.0086 - out_softmax_loss: 0.0077 - out_bbox_loss: 9.0096e-04 - out_softmax_accuracy: 0.9975 - out_bbox_mae: 0.0225 - val_loss: 0.0725 - val_out_softmax_loss: 0.0716 - val_out_bbox_loss: 8.6769e-04 - val_out_softmax_accuracy: 0.9854 - val_out_bbox_mae: 0.0221\n",
      "Epoch 14/50\n",
      "2813/2813 [==============================] - 43s 15ms/step - loss: 0.0072 - out_softmax_loss: 0.0063 - out_bbox_loss: 9.0099e-04 - out_softmax_accuracy: 0.9977 - out_bbox_mae: 0.0226 - val_loss: 0.0792 - val_out_softmax_loss: 0.0783 - val_out_bbox_loss: 9.5235e-04 - val_out_softmax_accuracy: 0.9877 - val_out_bbox_mae: 0.0234\n",
      "Epoch 15/50\n",
      "2813/2813 [==============================] - 46s 16ms/step - loss: 0.0092 - out_softmax_loss: 0.0083 - out_bbox_loss: 8.9694e-04 - out_softmax_accuracy: 0.9972 - out_bbox_mae: 0.0226 - val_loss: 0.0625 - val_out_softmax_loss: 0.0615 - val_out_bbox_loss: 9.3767e-04 - val_out_softmax_accuracy: 0.9883 - val_out_bbox_mae: 0.0233\n",
      "Epoch 16/50\n",
      "2813/2813 [==============================] - 44s 16ms/step - loss: 0.0072 - out_softmax_loss: 0.0064 - out_bbox_loss: 8.8769e-04 - out_softmax_accuracy: 0.9978 - out_bbox_mae: 0.0224 - val_loss: 0.0668 - val_out_softmax_loss: 0.0660 - val_out_bbox_loss: 8.6660e-04 - val_out_softmax_accuracy: 0.9880 - val_out_bbox_mae: 0.0219\n",
      "training time: 724.8218819000031\n"
     ]
    }
   ],
   "source": [
    "\n",
    "def run(model, X_train,y_train, X_val,y_val,\n",
    "        opt = 'adam',\n",
    "        loss = 'categorical_crossentropy',\n",
    "        metrics = ['accuracy'],\n",
    "        epochs = 50,\n",
    "        batch_size = 16):\n",
    "    \n",
    "    # https://distill.pub/2017/momentum/\n",
    "    # https://www.tensorflow.org/api_docs/python/tf/keras/metrics\n",
    "    model.compile(optimizer=opt, \n",
    "                  loss=loss,\n",
    "                  metrics=metrics)\n",
    "    \n",
    "    # early stopping\n",
    "    es = EarlyStopping(patience = 10, restore_best_weights = True)\n",
    "    \n",
    "    start_time = timer()\n",
    "    history = model.fit(X_train, \n",
    "                        y_train,\n",
    "                        #validation_split = 0.3, # auto val generation\n",
    "                        validation_data = (X_val, y_val),\n",
    "                        batch_size = batch_size,\n",
    "                        epochs = epochs,\n",
    "                        callbacks = [es],\n",
    "                        verbose = 1)\n",
    "    \n",
    "    training_time = timer() - start_time\n",
    "    print(\"training time:\", training_time)\n",
    "    \n",
    "    return history\n",
    "\n",
    "# classification with N classes\n",
    "#history = run(model, X_train_scaled,y_train_cat, X_val_scaled,y_val_cat)\n",
    "\n",
    "# regression\n",
    "\"\"\"history = run(model, X_train_scaled,aabb_train, X_val_scaled,aabb_val,\n",
    "              loss='mse',\n",
    "              metrics=['mae'],\n",
    "              opt=optimizers.Adam(learning_rate=0.01, beta_1=0.9, beta_2=0.999))\"\"\"\n",
    "\n",
    "# classification + regression\n",
    "history = run(model, X_train_scaled,[y_train_cat,y_train_aabb], X_val_scaled,[y_val_cat,y_val_aabb],\n",
    "              loss={'out_softmax': 'categorical_crossentropy',\n",
    "                    'out_bbox': 'mse'},\n",
    "              metrics={'out_softmax': 'accuracy',\n",
    "                       'out_bbox': 'mae'},\n",
    "              opt=optimizers.Adam(learning_rate=0.0001, beta_1=0.9, beta_2=0.999))\n",
    "\n",
    "# print(\"aabb_train:\", aabb_train[0]);\n",
    "# print(\"aabb_val:\", aabb_val[0]);\n",
    "# print(\"aabb_test:\", aabb_test[0]);"
   ]
  },
  {
   "cell_type": "markdown",
   "id": "68bc0fde",
   "metadata": {},
   "source": [
    "# Layers & Filters"
   ]
  },
  {
   "cell_type": "code",
   "execution_count": 67,
   "id": "4dde0ee6",
   "metadata": {
    "ExecuteTime": {
     "end_time": "2023-04-25T06:55:16.135576Z",
     "start_time": "2023-04-25T06:55:16.123644Z"
    }
   },
   "outputs": [
    {
     "data": {
      "text/plain": [
       "TensorShape([3, 3, 1, 16])"
      ]
     },
     "execution_count": 67,
     "metadata": {},
     "output_type": "execute_result"
    }
   ],
   "source": [
    "layer_1 = model.layers[0]\n",
    "layer_1.weights[0].shape"
   ]
  },
  {
   "cell_type": "code",
   "execution_count": 68,
   "id": "0aa56d04",
   "metadata": {
    "ExecuteTime": {
     "end_time": "2023-04-25T06:55:21.720558Z",
     "start_time": "2023-04-25T06:55:21.475463Z"
    }
   },
   "outputs": [
    {
     "data": {
      "image/png": "[encoded data removed]",
      "text/plain": [
       "<Figure size 432x288 with 1 Axes>"
      ]
     },
     "metadata": {
      "needs_background": "light"
     },
     "output_type": "display_data"
    }
   ],
   "source": [
    "plt.imshow(layer_1.weights[0][:,:,:,15], cmap='gray');"
   ]
  },
  {
   "cell_type": "code",
   "execution_count": 69,
   "id": "faf4b1c6",
   "metadata": {
    "ExecuteTime": {
     "end_time": "2023-04-25T06:55:24.681824Z",
     "start_time": "2023-04-25T06:55:24.668383Z"
    }
   },
   "outputs": [
    {
     "data": {
      "text/plain": [
       "TensorShape([10, 28, 28, 16])"
      ]
     },
     "execution_count": 69,
     "metadata": {},
     "output_type": "execute_result"
    }
   ],
   "source": [
    "batch = X_train_scaled[0:10]\n",
    "activation_1 = layer_1(batch)\n",
    "activation_1.shape"
   ]
  },
  {
   "cell_type": "code",
   "execution_count": 70,
   "id": "ba5143ef",
   "metadata": {
    "ExecuteTime": {
     "end_time": "2023-04-25T06:55:31.976084Z",
     "start_time": "2023-04-25T06:55:29.564180Z"
    }
   },
   "outputs": [
    {
     "data": {
      "image/png": "[encoded data removed]",
      "text/plain": [
       "<Figure size 1080x432 with 16 Axes>"
      ]
     },
     "metadata": {
      "needs_background": "light"
     },
     "output_type": "display_data"
    }
   ],
   "source": [
    "# first channel output on the first image\n",
    "fit, axs = plt.subplots(4,4, figsize=(15,6))\n",
    "for i in range(4):\n",
    "    for j in range(4):\n",
    "        feature_map = activation_1[0,:,:,i+j]\n",
    "        axs[i,j].imshow(feature_map, cmap='gray')"
   ]
  },
  {
   "cell_type": "markdown",
   "id": "9dcad921",
   "metadata": {},
   "source": [
    "# Plot results"
   ]
  },
  {
   "cell_type": "code",
   "execution_count": 62,
   "id": "35b08348",
   "metadata": {
    "ExecuteTime": {
     "end_time": "2023-04-26T22:11:43.617759Z",
     "start_time": "2023-04-26T22:11:43.602021Z"
    }
   },
   "outputs": [],
   "source": [
    "def plot_history(history, labels = [\"loss\"]):\n",
    "    h = history.history\n",
    "    with plt.style.context('seaborn-deep'):\n",
    "        fig, ax = plt.subplots(1, max(2,len(labels)), figsize=(15, 4))\n",
    "        x_axis = np.arange(len(h[labels[0]]))\n",
    "        for i in range(len(labels)):\n",
    "            l = labels[i]\n",
    "            L = l.capitalize()\n",
    "            ax[i].set_title(l)\n",
    "            ax[i].plot(x_axis, h[l], color=\"blue\", linestyle=\":\", marker=\"X\", label=\"Train \"+L)\n",
    "            ax[i].plot(x_axis, h['val_'+l], color=\"orange\", linestyle=\"-\", marker=\"X\", label=\"Val \"+L)\n",
    "            ax[i].grid(axis=\"x\", linewidth=0.5)\n",
    "            ax[i].grid(axis=\"y\", linewidth=0.5)\n",
    "            ax[i].legend()\n",
    "        plt.show()"
   ]
  },
  {
   "cell_type": "code",
   "execution_count": 63,
   "id": "f02767aa",
   "metadata": {
    "ExecuteTime": {
     "end_time": "2023-04-26T22:11:48.190276Z",
     "start_time": "2023-04-26T22:11:47.514784Z"
    }
   },
   "outputs": [
    {
     "data": {
      "image/png": "[encoded data removed]",
      "text/plain": [
       "<Figure size 1080x288 with 3 Axes>"
      ]
     },
     "metadata": {
      "needs_background": "light"
     },
     "output_type": "display_data"
    }
   ],
   "source": [
    "#plot_history(history, [\"loss\", \"accuracy\"])\n",
    "plot_history(history, [\"loss\", \"out_softmax_accuracy\", \"out_bbox_mae\"])"
   ]
  },
  {
   "cell_type": "markdown",
   "id": "cbbd18d4",
   "metadata": {},
   "source": [
    "# Baseline Score"
   ]
  },
  {
   "cell_type": "markdown",
   "id": "3a109e06",
   "metadata": {
    "ExecuteTime": {
     "end_time": "2023-04-25T04:18:29.272395Z",
     "start_time": "2023-04-25T04:18:29.262753Z"
    }
   },
   "source": [
    "Zero Rate Classifier:\n",
    "- https://towardsdatascience.com/calculating-a-baseline-accuracy-for-a-classification-model-a4b342ceb88f"
   ]
  },
  {
   "cell_type": "code",
   "execution_count": 12,
   "id": "31c8c83d",
   "metadata": {
    "ExecuteTime": {
     "end_time": "2023-04-25T21:54:11.254634Z",
     "start_time": "2023-04-25T21:54:11.240478Z"
    }
   },
   "outputs": [
    {
     "data": {
      "text/plain": [
       "1    6742\n",
       "7    6265\n",
       "3    6131\n",
       "2    5958\n",
       "9    5949\n",
       "0    5923\n",
       "6    5918\n",
       "8    5851\n",
       "4    5842\n",
       "5    5421\n",
       "dtype: int64"
      ]
     },
     "execution_count": 12,
     "metadata": {},
     "output_type": "execute_result"
    }
   ],
   "source": [
    "distr = pd.Series(y_train).value_counts()\n",
    "distr"
   ]
  },
  {
   "cell_type": "code",
   "execution_count": 55,
   "id": "3e60bf6c",
   "metadata": {
    "ExecuteTime": {
     "end_time": "2023-04-25T04:47:14.116093Z",
     "start_time": "2023-04-25T04:47:14.103815Z"
    }
   },
   "outputs": [
    {
     "name": "stdout",
     "output_type": "stream",
     "text": [
      "Our baseline is: 10.028815944444444%\n"
     ]
    }
   ],
   "source": [
    "def categorical_baseline(y_train):\n",
    "    distr = pd.Series(y_train).value_counts()\n",
    "    total = len(y_train)\n",
    "    return ((distr / total) ** 2).sum()\n",
    "\n",
    "baseline = categorical_baseline(y_train)\n",
    "\n",
    "print(\"Our baseline is: \" + str(baseline*100) + \"%\")"
   ]
  },
  {
   "cell_type": "markdown",
   "id": "c77c0549",
   "metadata": {},
   "source": [
    "# Evaluation vs test set"
   ]
  },
  {
   "cell_type": "code",
   "execution_count": 64,
   "id": "31426b08",
   "metadata": {
    "ExecuteTime": {
     "end_time": "2023-04-26T22:12:45.509306Z",
     "start_time": "2023-04-26T22:12:24.730543Z"
    }
   },
   "outputs": [
    {
     "name": "stdout",
     "output_type": "stream",
     "text": [
      "1407/1407 [==============================] - 13s 9ms/step - loss: 0.0092 - out_softmax_loss: 0.0082 - out_bbox_loss: 9.3938e-04 - out_softmax_accuracy: 0.9976 - out_bbox_mae: 0.0232\n",
      "469/469 [==============================] - 5s 10ms/step - loss: 0.0449 - out_softmax_loss: 0.0440 - out_bbox_loss: 9.4350e-04 - out_softmax_accuracy: 0.9889 - out_bbox_mae: 0.0233\n",
      "313/313 [==============================] - 3s 9ms/step - loss: 0.0353 - out_softmax_loss: 0.0344 - out_bbox_loss: 9.2117e-04 - out_softmax_accuracy: 0.9887 - out_bbox_mae: 0.0231\n"
     ]
    }
   ],
   "source": [
    "def evaluate(X_train,y_train, X_val,y_val, X_test, y_test):\n",
    "    eval_res = {\n",
    "        \"train\": model.evaluate(X_train, y_train, batch_size=None, verbose = 1)[1],\n",
    "        \"val\": model.evaluate(X_val, y_val, batch_size=None, verbose = 1)[1],\n",
    "        \"test\": model.evaluate(X_test, y_test, batch_size=None, verbose = 1)[1]\n",
    "    }\n",
    "    return eval_res\n",
    "\n",
    "#eval_res = evaluate(X_train_scaled,y_train_cat, X_val_scaled,y_val_cat, X_test_scaled, y_test_cat)\n",
    "#eval_res = evaluate(X_train_scaled,y_train_aabb, X_val_scaled,y_val_aabb, X_test_scaled, y_test_aabb)\n",
    "\n",
    "eval_res = evaluate(X_train_scaled, [y_train_cat,y_train_aabb],\n",
    "                    X_val_scaled, [y_val_cat,y_val_aabb],\n",
    "                    X_test_scaled, [y_test_cat,y_test_aabb])\n",
    "\n",
    "#print(f'The accuracy on the train set is of {eval_res[\"train\"]*100:.2f} %')\n",
    "#print(f'The accuracy on the val set is of {eval_res[\"val\"]*100:.2f} %')\n",
    "#print(f'The accuracy on the test set is of {eval_res[\"test\"]*100:.2f} %')"
   ]
  },
  {
   "cell_type": "code",
   "execution_count": 47,
   "id": "75477333",
   "metadata": {
    "ExecuteTime": {
     "end_time": "2023-04-26T06:48:10.797219Z",
     "start_time": "2023-04-26T06:48:10.674382Z"
    }
   },
   "outputs": [
    {
     "name": "stdout",
     "output_type": "stream",
     "text": [
      "1/1 [==============================] - 0s 31ms/step\n"
     ]
    },
    {
     "data": {
      "text/plain": [
       "array([[1.5612330e-05, 4.5116025e-10, 6.6141633e-06, 1.0511721e-09,\n",
       "        1.7484422e-04, 7.8093956e-07, 9.9978155e-01, 1.4887961e-14,\n",
       "        2.0626305e-05, 8.8840124e-10]], dtype=float32)"
      ]
     },
     "execution_count": 47,
     "metadata": {},
     "output_type": "execute_result"
    }
   ],
   "source": [
    "model.predict(X_test_scaled)\n",
    "#model.predict(np.array([X_test_scaled[label]]))[0]"
   ]
  },
  {
   "cell_type": "markdown",
   "id": "b5c0b29b",
   "metadata": {},
   "source": [
    "# Predict one observation"
   ]
  },
  {
   "cell_type": "code",
   "execution_count": 69,
   "id": "0937e483",
   "metadata": {
    "ExecuteTime": {
     "end_time": "2023-04-26T22:15:51.529521Z",
     "start_time": "2023-04-26T22:15:51.147606Z"
    }
   },
   "outputs": [
    {
     "name": "stdout",
     "output_type": "stream",
     "text": [
      "1/1 [==============================] - 0s 40ms/step\n",
      "Prediction is = Number 7 (100.00%)\n"
     ]
    },
    {
     "data": {
      "image/png": "[encoded data removed]",
      "text/plain": [
       "<Figure size 432x288 with 1 Axes>"
      ]
     },
     "metadata": {
      "needs_background": "light"
     },
     "output_type": "display_data"
    }
   ],
   "source": [
    "label = 133\n",
    "\n",
    "predicted = model.predict(np.array([X_test_scaled[label]]))\n",
    "predicted_class = list(predicted[0][0])\n",
    "predicted_linear = predicted[1][0]\n",
    "\n",
    "#print(\"prediction table:\", predicted)\n",
    "plt.imshow(X_test_scaled[label], cmap='gray')\n",
    "\n",
    "predicted_label = labels[predicted_class.index(max(predicted_class))]\n",
    "print(\"Prediction is =\", predicted_label, f\"({max(predicted_class)*100:.2f}%)\")\n",
    "\n",
    "plt_rectangle(predicted_linear*28)\n",
    "plt.show()"
   ]
  },
  {
   "cell_type": "markdown",
   "id": "948b2b3d",
   "metadata": {},
   "source": [
    "# Class Scores"
   ]
  },
  {
   "cell_type": "code",
   "execution_count": 76,
   "id": "e578c5d2",
   "metadata": {
    "ExecuteTime": {
     "end_time": "2023-04-25T06:56:36.549379Z",
     "start_time": "2023-04-25T06:56:36.539127Z"
    },
    "scrolled": true
   },
   "outputs": [
    {
     "name": "stdout",
     "output_type": "stream",
     "text": [
      "Prediction table for 'Number 9':\n",
      "\n",
      " [3.3507745e-19, 4.752253e-17, 4.743725e-16, 7.314405e-13, 5.44116e-07, 2.1716316e-13, 6.824018e-21, 6.388595e-08, 4.7820276e-11, 0.9999994]\n"
     ]
    }
   ],
   "source": [
    "print(f\"Prediction table for '{predicted_label}':\")\n",
    "print(\"\\n\",predicted)"
   ]
  },
  {
   "cell_type": "markdown",
   "id": "e4b4aa74",
   "metadata": {},
   "source": [
    "# Save"
   ]
  },
  {
   "cell_type": "code",
   "execution_count": 70,
   "id": "dd5b734f",
   "metadata": {
    "ExecuteTime": {
     "end_time": "2023-04-26T22:16:30.863982Z",
     "start_time": "2023-04-26T22:16:27.307239Z"
    }
   },
   "outputs": [
    {
     "name": "stdout",
     "output_type": "stream",
     "text": [
      "Keras weights file (<HDF5 file \"variables.h5\" (mode r+)>) saving:\n",
      "...layers\n",
      "......conv2d\n",
      ".........vars\n",
      "............0\n",
      "............1\n",
      "......conv2d_1\n",
      ".........vars\n",
      "............0\n",
      "............1\n",
      "......dense\n",
      ".........vars\n",
      "............0\n",
      "............1\n",
      "......dense_1\n",
      ".........vars\n",
      "............0\n",
      "............1\n",
      "......dense_2\n",
      ".........vars\n",
      "............0\n",
      "............1\n",
      "......flatten\n",
      ".........vars\n",
      "......input_layer\n",
      ".........vars\n",
      "......max_pooling2d\n",
      ".........vars\n",
      "......max_pooling2d_1\n",
      ".........vars\n",
      "...metrics\n",
      "......mean\n",
      ".........vars\n",
      "............0\n",
      "............1\n",
      "......mean_1\n",
      ".........vars\n",
      "............0\n",
      "............1\n",
      "......mean_2\n",
      ".........vars\n",
      "............0\n",
      "............1\n",
      "......mean_metric_wrapper\n",
      ".........vars\n",
      "............0\n",
      "............1\n",
      "......mean_metric_wrapper_1\n",
      ".........vars\n",
      "............0\n",
      "............1\n",
      "...optimizer\n",
      "......vars\n",
      ".........0\n",
      ".........1\n",
      ".........10\n",
      ".........11\n",
      ".........12\n",
      ".........13\n",
      ".........14\n",
      ".........15\n",
      ".........16\n",
      ".........17\n",
      ".........18\n",
      ".........19\n",
      ".........2\n",
      ".........20\n",
      ".........3\n",
      ".........4\n",
      ".........5\n",
      ".........6\n",
      ".........7\n",
      ".........8\n",
      ".........9\n",
      "...vars\n",
      "Keras model archive saving:\n",
      "File Name                                             Modified             Size\n",
      "metadata.json                                  2023-04-27 00:16:27           64\n",
      "config.json                                    2023-04-27 00:16:27         4262\n",
      "variables.h5                                   2023-04-27 00:16:27       714736\n"
     ]
    },
    {
     "name": "stderr",
     "output_type": "stream",
     "text": [
      "/home/nes/.pyenv/versions/3.8.12/envs/BatteryProject/lib/python3.8/site-packages/tensorflowjs/converters/keras_h5_conversion.py:123: H5pyDeprecationWarning: The default file mode will change to 'r' (read-only) in h5py 3.0. To suppress this warning, pass the mode you need to h5py.File(), or set the global default h5.get_config().default_file_mode, or set the environment variable H5PY_DEFAULT_READONLY=1. Available modes are: 'r', 'r+', 'w', 'w-'/'x', 'a'. See the docs for details.\n",
      "  return h5py.File(h5file)\n",
      "WARNING:absl:Found untraced functions such as _jit_compiled_convolution_op, _jit_compiled_convolution_op, _update_step_xla while saving (showing 3 of 3). These functions will not be directly callable after loading.\n"
     ]
    },
    {
     "name": "stdout",
     "output_type": "stream",
     "text": [
      "INFO:tensorflow:Assets written to: /tmp/tmpi0y8eh99/assets\n"
     ]
    },
    {
     "name": "stderr",
     "output_type": "stream",
     "text": [
      "INFO:tensorflow:Assets written to: /tmp/tmpi0y8eh99/assets\n",
      "2023-04-27 00:16:30.553779: W tensorflow/compiler/mlir/lite/python/tf_tfl_flatbuffer_helpers.cc:362] Ignored output_format.\n",
      "2023-04-27 00:16:30.553865: W tensorflow/compiler/mlir/lite/python/tf_tfl_flatbuffer_helpers.cc:365] Ignored drop_control_dependency.\n",
      "2023-04-27 00:16:30.554723: I tensorflow/cc/saved_model/reader.cc:45] Reading SavedModel from: /tmp/tmpi0y8eh99\n",
      "2023-04-27 00:16:30.557388: I tensorflow/cc/saved_model/reader.cc:89] Reading meta graph with tags { serve }\n",
      "2023-04-27 00:16:30.557418: I tensorflow/cc/saved_model/reader.cc:130] Reading SavedModel debug info (if present) from: /tmp/tmpi0y8eh99\n",
      "2023-04-27 00:16:30.564968: I tensorflow/compiler/mlir/mlir_graph_optimization_pass.cc:357] MLIR V1 optimization pass is not enabled\n",
      "2023-04-27 00:16:30.737197: I tensorflow/compiler/mlir/tensorflow/utils/dump_mlir_util.cc:268] disabling MLIR crash reproducer, set env var `MLIR_CRASH_REPRODUCER_DIRECTORY` to enable.\n"
     ]
    }
   ],
   "source": [
    "def create_csv_id():\n",
    "    dir_path = os.path.join(os.path.dirname(os.getcwd()), 'models')\n",
    "    file_path = os.path.join(dir_path, 'ids.csv')\n",
    "    cur_id = 0\n",
    "    # folder exists ?\n",
    "    if not os.path.exists(dir_path):\n",
    "        os.mkdir(dir_path)\n",
    "    # file exists ?\n",
    "    if not os.path.exists(file_path):\n",
    "        df = pd.DataFrame([0], columns=['id'])\n",
    "        df.to_csv(file_path, index=False)\n",
    "    else:\n",
    "        # csv -> dataframe\n",
    "        df = pd.read_csv(file_path)\n",
    "        cur_id = df[\"id\"].iloc[-1] + 1\n",
    "        with open(file_path, \"a\") as f:\n",
    "            csv.writer(f).writerow([cur_id])\n",
    "            \n",
    "    return {\"cur_id\": cur_id, \"dir_path\": dir_path}\n",
    "\n",
    "\n",
    "def save_model(model):\n",
    "    res = create_csv_id()\n",
    "    dir_path = res[\"dir_path\"]\n",
    "    str_id = str(res[\"cur_id\"]).zfill(4)\n",
    "    base_name = f'model_{str_id}'\n",
    "    \n",
    "    # normal\n",
    "    joblib.dump(model, os.path.join(dir_path, base_name+'.pkl'))\n",
    "    \n",
    "    # for tensorflow.js\n",
    "    tfjs.converters.save_keras_model(model, os.path.join(dir_path, base_name))\n",
    "\n",
    "    # for lite\n",
    "    converter = tf.lite.TFLiteConverter.from_keras_model(model)\n",
    "    tflite_model = converter.convert()\n",
    "    with open(os.path.join(dir_path, base_name+'.tflite'), 'wb') as f:\n",
    "        f.write(tflite_model)\n",
    "    return\n",
    "\n",
    "save_model(model)"
   ]
  },
  {
   "cell_type": "markdown",
   "id": "f5a44f68",
   "metadata": {},
   "source": [
    "# Links"
   ]
  },
  {
   "cell_type": "markdown",
   "id": "c23af298",
   "metadata": {},
   "source": [
    "R-CNN:\n",
    "1. https://web.eecs.umich.edu/~justincj/teaching/eecs498/WI2022/\n",
    "2. https://arxiv.org/pdf/1506.01497.pdf\n",
    "3. https://towardsdatascience.com/understanding-and-implementing-faster-r-cnn-a-step-by-step-guide-11acfff216b0\n",
    "\n",
    "\n",
    "https://github.com/weiliu89/caffe/tree/ssd"
   ]
  },
  {
   "cell_type": "code",
   "execution_count": null,
   "id": "2e909306",
   "metadata": {},
   "outputs": [],
   "source": []
  }
 ],
 "metadata": {
  "kernelspec": {
   "display_name": "Python 3 (ipykernel)",
   "language": "python",
   "name": "python3"
  },
  "language_info": {
   "codemirror_mode": {
    "name": "ipython",
    "version": 3
   },
   "file_extension": ".py",
   "mimetype": "text/x-python",
   "name": "python",
   "nbconvert_exporter": "python",
   "pygments_lexer": "ipython3",
   "version": "3.8.12"
  },
  "toc": {
   "base_numbering": 1,
   "nav_menu": {},
   "number_sections": true,
   "sideBar": true,
   "skip_h1_title": false,
   "title_cell": "Table of Contents",
   "title_sidebar": "Contents",
   "toc_cell": false,
   "toc_position": {
    "height": "calc(100% - 180px)",
    "left": "10px",
    "top": "150px",
    "width": "165px"
   },
   "toc_section_display": true,
   "toc_window_display": true
  }
 },
 "nbformat": 4,
 "nbformat_minor": 5
}
