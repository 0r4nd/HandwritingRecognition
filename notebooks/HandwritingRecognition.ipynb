{
 "cells": [
  {
   "cell_type": "markdown",
   "id": "cdb13ad7",
   "metadata": {
    "ExecuteTime": {
     "end_time": "2023-04-17T18:20:50.643830Z",
     "start_time": "2023-04-17T18:20:49.745008Z"
    }
   },
   "source": [
    "# Imports"
   ]
  },
  {
   "cell_type": "code",
   "execution_count": 185,
   "id": "8b15e5c2",
   "metadata": {
    "ExecuteTime": {
     "end_time": "2023-04-17T23:34:37.774000Z",
     "start_time": "2023-04-17T23:34:36.133454Z"
    }
   },
   "outputs": [],
   "source": [
    "import numpy as np\n",
    "import pprint\n",
    "\n",
    "import matplotlib.pyplot as plt\n",
    "import pandas as pd\n",
    "\n",
    "from timeit import default_timer as timer\n",
    "import joblib\n",
    "\n",
    "from tensorflow.keras import layers, models\n",
    "from tensorflow.keras import datasets\n",
    "from tensorflow.keras.callbacks import EarlyStopping\n",
    "from tensorflow.keras.backend import expand_dims\n",
    "from tensorflow.keras.utils import to_categorical\n",
    "from sklearn.model_selection import train_test_split\n"
   ]
  },
  {
   "cell_type": "markdown",
   "id": "ff7f0255",
   "metadata": {},
   "source": [
    "# Libs options"
   ]
  },
  {
   "cell_type": "code",
   "execution_count": 41,
   "id": "d33c0366",
   "metadata": {
    "ExecuteTime": {
     "end_time": "2023-04-17T19:01:16.055624Z",
     "start_time": "2023-04-17T19:01:16.047807Z"
    }
   },
   "outputs": [],
   "source": [
    "#np.set_printoptions(threshold=16)\n",
    "pp = pprint.PrettyPrinter(indent=4, width=90)"
   ]
  },
  {
   "cell_type": "markdown",
   "id": "d3a1411e",
   "metadata": {},
   "source": [
    "# Dataset"
   ]
  },
  {
   "cell_type": "code",
   "execution_count": 250,
   "id": "495a99ce",
   "metadata": {
    "ExecuteTime": {
     "end_time": "2023-04-19T20:32:25.906242Z",
     "start_time": "2023-04-19T20:32:25.468911Z"
    }
   },
   "outputs": [
    {
     "name": "stdout",
     "output_type": "stream",
     "text": [
      "train/valid: (60000, 28, 28) (60000,)\n",
      "test: (10000, 28, 28) (10000,)\n",
      "aabb_train: [(4, 5, 23, 24)]\n",
      "aabb_test: [(6, 7, 21, 26)]\n"
     ]
    }
   ],
   "source": [
    "def list_first_val(arr):\n",
    "    for i in arr:\n",
    "        if i > 0:\n",
    "            return 1\n",
    "    return -1\n",
    "\n",
    "def get_aabb2D(data):\n",
    "    \"\"\"aligned-axis bounding-box (bounding square)\"\"\"\n",
    "    x1 = 999999\n",
    "    y1 = 999999\n",
    "    x2 = 0\n",
    "    y2 = 0\n",
    "    # y1\n",
    "    for j in range(len(data)):\n",
    "        if list_first_val(data[j]) > 0:\n",
    "            y1 = j\n",
    "            break\n",
    "    # y2\n",
    "    for j in range(len(data)):\n",
    "        end = len(data)-j-1\n",
    "        if list_first_val(data[end]) > 0:\n",
    "            y2 = end\n",
    "            break\n",
    "    # x1, x2\n",
    "    for j in range(len(data)):\n",
    "        ydata = data[j]\n",
    "        val = 99999\n",
    "        last = 0\n",
    "        for i in range(len(ydata)):\n",
    "            if ydata[i] > 0:\n",
    "                x1 = min(x1,i)\n",
    "                x2 = max(x2,i)\n",
    "    return (x1,y1, x2,y2)\n",
    "    \n",
    "\n",
    "def get_data():\n",
    "    (X_train, y_train), (X_test, y_test) = datasets.mnist.load_data(path=\"mnist.npz\")\n",
    "    #train_test_split(self.train_index , test_size = 0.25, random_state=1)\n",
    "    aabb_train = []\n",
    "    for i in X_train:\n",
    "        aabb_train.append(get_aabb2D(i))\n",
    "        break\n",
    "    aabb_test = []\n",
    "    for i in X_test:\n",
    "        aabb_test.append(get_aabb2D(i))\n",
    "        break\n",
    "        \n",
    "    return (X_train,y_train), (X_test,y_test), (aabb_train, aabb_test)\n",
    "\n",
    "(X_train,y_train), (X_test,y_test), (aabb_train, aabb_test) = get_data()\n",
    "\n",
    "print(\"train/valid:\", X_train.shape, y_train.shape)\n",
    "print(\"test:\", X_test.shape, y_test.shape)\n",
    "print(\"aabb_train:\", aabb_train)\n",
    "print(\"aabb_test:\", aabb_test)"
   ]
  },
  {
   "cell_type": "code",
   "execution_count": 73,
   "id": "23345da0",
   "metadata": {
    "ExecuteTime": {
     "end_time": "2023-04-17T19:34:34.435596Z",
     "start_time": "2023-04-17T19:34:34.424709Z"
    }
   },
   "outputs": [
    {
     "data": {
      "text/plain": [
       "[0, 0, 0, 0, 0, 0, 0, 0, 0, 0, 0, 0, 0, 81, 240, 253, 253, 119, 25, 0, 0, 0, 0, 0, 0, 0, 0, 0]"
      ]
     },
     "execution_count": 73,
     "metadata": {},
     "output_type": "execute_result"
    }
   ],
   "source": [
    "list(X_train[0][14])"
   ]
  },
  {
   "cell_type": "code",
   "execution_count": 68,
   "id": "535dcdb0",
   "metadata": {
    "ExecuteTime": {
     "end_time": "2023-04-17T19:33:40.954237Z",
     "start_time": "2023-04-17T19:33:40.713720Z"
    }
   },
   "outputs": [
    {
     "data": {
      "image/png": "[encoded data removed]",
      "text/plain": [
       "<Figure size 432x288 with 1 Axes>"
      ]
     },
     "metadata": {
      "needs_background": "light"
     },
     "output_type": "display_data"
    }
   ],
   "source": [
    "plt.imshow(X_train[0], cmap='gray');"
   ]
  },
  {
   "cell_type": "code",
   "execution_count": 75,
   "id": "0bdf7f94",
   "metadata": {
    "ExecuteTime": {
     "end_time": "2023-04-17T19:44:49.534221Z",
     "start_time": "2023-04-17T19:44:49.521547Z"
    }
   },
   "outputs": [
    {
     "data": {
      "text/plain": [
       "(28, 28, 1)"
      ]
     },
     "execution_count": 75,
     "metadata": {},
     "output_type": "execute_result"
    }
   ],
   "source": [
    "X_train = np.expand_dims(X_train, axis=-1)\n",
    "X_test = np.expand_dims(X_test, axis=-1)\n",
    "X_train[0].shape"
   ]
  },
  {
   "cell_type": "markdown",
   "id": "ce921a6a",
   "metadata": {},
   "source": [
    "# To categorical"
   ]
  },
  {
   "cell_type": "code",
   "execution_count": 56,
   "id": "5522406d",
   "metadata": {
    "ExecuteTime": {
     "end_time": "2023-04-17T19:23:43.653545Z",
     "start_time": "2023-04-17T19:23:43.640768Z"
    }
   },
   "outputs": [
    {
     "name": "stdout",
     "output_type": "stream",
     "text": [
      "y_train_cat.shape = (60000, 10)\n",
      "y_test_cat.shape = (10000, 10)\n",
      "array([0, 0, 0, 0, 0, 1, 0, 0, 0, 0], dtype=uint8)\n"
     ]
    }
   ],
   "source": [
    "y_train_cat = to_categorical(y_train, num_classes=10, dtype =\"uint8\")\n",
    "y_test_cat = to_categorical(y_test, num_classes=10, dtype =\"uint8\")\n",
    "print(\"y_train_cat.shape =\",y_train_cat.shape)\n",
    "print(\"y_test_cat.shape =\", y_test_cat.shape)\n",
    "pp.pprint(y_train_cat[0])"
   ]
  },
  {
   "cell_type": "code",
   "execution_count": 149,
   "id": "a4302f01",
   "metadata": {
    "ExecuteTime": {
     "end_time": "2023-04-17T20:39:37.693703Z",
     "start_time": "2023-04-17T20:39:37.416899Z"
    },
    "scrolled": true
   },
   "outputs": [
    {
     "name": "stdout",
     "output_type": "stream",
     "text": [
      "label is: Number 0\n"
     ]
    },
    {
     "data": {
      "image/png": "[encoded data removed]",
      "text/plain": [
       "<Figure size 432x288 with 1 Axes>"
      ]
     },
     "metadata": {
      "needs_background": "light"
     },
     "output_type": "display_data"
    }
   ],
   "source": [
    "labels = [\"Number 0\",\n",
    "          \"Number 1\",\n",
    "          \"Number 2\",\n",
    "          \"Number 3\",\n",
    "          \"Number 4\",\n",
    "          \"Number 5\",\n",
    "          \"Number 6\",\n",
    "          \"Number 7\",\n",
    "          \"Number 8\",\n",
    "          \"Number 9\"]\n",
    "\n",
    "def categorical_to_id(arr_cat, labels=None):\n",
    "    res = -1\n",
    "    for i in range(len(arr_cat)):\n",
    "        if arr_cat[i]:\n",
    "            res = i\n",
    "            break\n",
    "    if labels is None:\n",
    "        return res\n",
    "    return labels[res]\n",
    "\n",
    "item = 21\n",
    "\n",
    "print(\"label is:\", categorical_to_id(y_train_cat[item], labels))\n",
    "plt.imshow(X_train[item], cmap='gray');"
   ]
  },
  {
   "cell_type": "code",
   "execution_count": 78,
   "id": "b1fdd9b9",
   "metadata": {
    "ExecuteTime": {
     "end_time": "2023-04-17T19:46:14.737219Z",
     "start_time": "2023-04-17T19:46:14.625547Z"
    }
   },
   "outputs": [
    {
     "name": "stdout",
     "output_type": "stream",
     "text": [
      "Model: \"sequential_2\"\n",
      "_________________________________________________________________\n",
      " Layer (type)                Output Shape              Param #   \n",
      "=================================================================\n",
      " conv2d_4 (Conv2D)           (None, 28, 28, 8)         136       \n",
      "                                                                 \n",
      " max_pooling2d_4 (MaxPooling  (None, 14, 14, 8)        0         \n",
      " 2D)                                                             \n",
      "                                                                 \n",
      " conv2d_5 (Conv2D)           (None, 14, 14, 16)        1168      \n",
      "                                                                 \n",
      " max_pooling2d_5 (MaxPooling  (None, 7, 7, 16)         0         \n",
      " 2D)                                                             \n",
      "                                                                 \n",
      " flatten_2 (Flatten)         (None, 784)               0         \n",
      "                                                                 \n",
      " dense_4 (Dense)             (None, 10)                7850      \n",
      "                                                                 \n",
      " dense_5 (Dense)             (None, 10)                110       \n",
      "                                                                 \n",
      "=================================================================\n",
      "Total params: 9,264\n",
      "Trainable params: 9,264\n",
      "Non-trainable params: 0\n",
      "_________________________________________________________________\n"
     ]
    }
   ],
   "source": [
    "def get_model(X):\n",
    "    model = models.Sequential()\n",
    "    \n",
    "    model.add(layers.Conv2D(8, (4,4), activation='relu', padding='same', input_shape=X[0].shape))\n",
    "    model.add(layers.MaxPool2D(pool_size=(2,2)))\n",
    "    \n",
    "    model.add(layers.Conv2D(16, (3,3), activation='relu', padding='same'))\n",
    "    model.add(layers.MaxPool2D(pool_size=(2,2)))\n",
    "\n",
    "    model.add(layers.Flatten())\n",
    "    model.add(layers.Dense(10, activation='relu'))\n",
    "    model.add(layers.Dense(10, activation='softmax'))\n",
    "    \n",
    "    model.compile(loss='categorical_crossentropy',\n",
    "                  optimizer='adam', \n",
    "                  metrics=['accuracy'])\n",
    "    return model\n",
    "\n",
    "model = get_model(X_train)\n",
    "model.summary()"
   ]
  },
  {
   "cell_type": "markdown",
   "id": "bbdb84ce",
   "metadata": {},
   "source": [
    "# Train "
   ]
  },
  {
   "cell_type": "code",
   "execution_count": 80,
   "id": "b5a62da2",
   "metadata": {
    "ExecuteTime": {
     "end_time": "2023-04-17T19:51:17.102821Z",
     "start_time": "2023-04-17T19:48:56.937979Z"
    }
   },
   "outputs": [
    {
     "name": "stdout",
     "output_type": "stream",
     "text": [
      "Epoch 1/5\n",
      "1313/1313 [==============================] - 29s 21ms/step - loss: 2.1194 - accuracy: 0.2045 - val_loss: 2.0196 - val_accuracy: 0.2089\n",
      "Epoch 2/5\n",
      "1313/1313 [==============================] - 27s 20ms/step - loss: 1.9956 - accuracy: 0.2122 - val_loss: 1.9880 - val_accuracy: 0.2136\n",
      "Epoch 3/5\n",
      "1313/1313 [==============================] - 29s 22ms/step - loss: 1.9589 - accuracy: 0.2284 - val_loss: 1.8761 - val_accuracy: 0.2714\n",
      "Epoch 4/5\n",
      "1313/1313 [==============================] - 29s 22ms/step - loss: 1.5289 - accuracy: 0.4157 - val_loss: 1.2522 - val_accuracy: 0.5372\n",
      "Epoch 5/5\n",
      "1313/1313 [==============================] - 27s 20ms/step - loss: 0.7107 - accuracy: 0.7667 - val_loss: 0.4046 - val_accuracy: 0.8663\n"
     ]
    }
   ],
   "source": [
    "es = EarlyStopping(patience = 5)\n",
    "\n",
    "history = model.fit(X_train, \n",
    "                    y_train_cat,\n",
    "                    validation_split = 0.3, # auto val generation\n",
    "                    batch_size = 32,\n",
    "                    epochs = 5,\n",
    "                    callbacks = [es],\n",
    "                    verbose = 1)"
   ]
  },
  {
   "cell_type": "markdown",
   "id": "3b82828f",
   "metadata": {},
   "source": [
    "# Plot results"
   ]
  },
  {
   "cell_type": "code",
   "execution_count": 131,
   "id": "4d360c0b",
   "metadata": {
    "ExecuteTime": {
     "end_time": "2023-04-17T20:20:05.183847Z",
     "start_time": "2023-04-17T20:20:05.170161Z"
    }
   },
   "outputs": [],
   "source": [
    "def plot_history(history, labels = [\"loss\"]):\n",
    "    h = history.history\n",
    "    with plt.style.context('seaborn-deep'):\n",
    "        fig, ax = plt.subplots(1, max(2,len(labels)), figsize=(15, 4))\n",
    "        x_axis = np.arange(len(h[labels[0]]))\n",
    "        for i in range(len(labels)):\n",
    "            l = labels[i]\n",
    "            L = l.capitalize()\n",
    "            ax[i].set_title(l)\n",
    "            ax[i].plot(x_axis, h[l], color=\"blue\", linestyle=\":\", marker=\"X\", label=\"Train \"+L)\n",
    "            ax[i].plot(x_axis, h['val_'+l], color=\"orange\", linestyle=\"-\", marker=\"X\", label=\"Val \"+L)\n",
    "            ax[i].grid(axis=\"x\", linewidth=0.5)\n",
    "            ax[i].grid(axis=\"y\", linewidth=0.5)\n",
    "            ax[i].legend()\n",
    "        plt.show()"
   ]
  },
  {
   "cell_type": "code",
   "execution_count": 130,
   "id": "8bb4dec6",
   "metadata": {
    "ExecuteTime": {
     "end_time": "2023-04-17T20:20:02.000908Z",
     "start_time": "2023-04-17T20:20:01.500384Z"
    }
   },
   "outputs": [
    {
     "data": {
      "image/png": "[encoded data removed]",
      "text/plain": [
       "<Figure size 1080x288 with 2 Axes>"
      ]
     },
     "metadata": {
      "needs_background": "light"
     },
     "output_type": "display_data"
    }
   ],
   "source": [
    "plot_history(history, [\"loss\", \"accuracy\"])"
   ]
  },
  {
   "cell_type": "markdown",
   "id": "cd03568c",
   "metadata": {},
   "source": [
    "# Evaluation vs test set"
   ]
  },
  {
   "cell_type": "code",
   "execution_count": 82,
   "id": "ea7a5220",
   "metadata": {
    "ExecuteTime": {
     "end_time": "2023-04-17T19:52:10.056499Z",
     "start_time": "2023-04-17T19:52:07.257216Z"
    }
   },
   "outputs": [
    {
     "name": "stdout",
     "output_type": "stream",
     "text": [
      "313/313 [==============================] - 3s 9ms/step - loss: 0.4009 - accuracy: 0.8693\n",
      "The accuracy on the test set is of 86.93 %\n"
     ]
    }
   ],
   "source": [
    "res = model.evaluate(X_test, y_test_cat, verbose = 1)\n",
    "print(f'The accuracy on the test set is of {res[1]*100:.2f} %')"
   ]
  },
  {
   "cell_type": "code",
   "execution_count": 146,
   "id": "506d2646",
   "metadata": {
    "ExecuteTime": {
     "end_time": "2023-04-17T20:37:23.715880Z",
     "start_time": "2023-04-17T20:37:21.747285Z"
    }
   },
   "outputs": [
    {
     "data": {
      "text/plain": [
       "array([[1.03352750e-06, 1.71291773e-04, 1.77900530e-02, ...,\n",
       "        9.81079996e-01, 1.70364075e-14, 6.06243077e-07],\n",
       "       [1.69893667e-07, 4.48315125e-03, 9.95162964e-01, ...,\n",
       "        3.41266947e-04, 1.33264514e-16, 6.70170859e-15],\n",
       "       [1.65387348e-03, 9.94628847e-01, 9.32386727e-04, ...,\n",
       "        4.41743441e-06, 2.33719940e-03, 1.46670104e-07],\n",
       "       ...,\n",
       "       [3.83029919e-06, 6.25696121e-05, 3.89114439e-06, ...,\n",
       "        6.84602419e-04, 8.21099151e-04, 1.00558385e-01],\n",
       "       [1.93734840e-02, 2.57317326e-03, 6.81413040e-02, ...,\n",
       "        2.85640657e-02, 2.70486195e-02, 5.43044284e-02],\n",
       "       [5.32048270e-02, 3.71932838e-05, 1.22127123e-04, ...,\n",
       "        6.43704379e-06, 4.72970947e-04, 1.50836995e-05]], dtype=float32)"
      ]
     },
     "execution_count": 146,
     "metadata": {},
     "output_type": "execute_result"
    }
   ],
   "source": [
    "model.predict(X_test)"
   ]
  },
  {
   "cell_type": "markdown",
   "id": "84d22540",
   "metadata": {},
   "source": [
    "# Predict one observation"
   ]
  },
  {
   "cell_type": "code",
   "execution_count": 176,
   "id": "959e2745",
   "metadata": {
    "ExecuteTime": {
     "end_time": "2023-04-17T20:59:09.377674Z",
     "start_time": "2023-04-17T20:59:09.051720Z"
    }
   },
   "outputs": [
    {
     "data": {
      "image/png": "[encoded data removed]",
      "text/plain": [
       "<Figure size 432x288 with 1 Axes>"
      ]
     },
     "metadata": {
      "needs_background": "light"
     },
     "output_type": "display_data"
    },
    {
     "name": "stdout",
     "output_type": "stream",
     "text": [
      "Prediction is = Number 1 (99.91%)\n"
     ]
    }
   ],
   "source": [
    "label = 5\n",
    "\n",
    "predicted = list(model.predict(np.array([X_test[label]]))[0])\n",
    "#print(\"prediction table:\", predicted)\n",
    "plt.imshow(X_test[label], cmap='gray')\n",
    "plt.show()\n",
    "\n",
    "predicted_label = labels[predicted.index(max(predicted))]\n",
    "print(\"Prediction is =\", predicted_label, f\"({max(predicted)*100:.2f}%)\")"
   ]
  },
  {
   "cell_type": "markdown",
   "id": "45c1e490",
   "metadata": {},
   "source": [
    "# Class Scores"
   ]
  },
  {
   "cell_type": "code",
   "execution_count": 182,
   "id": "9ab89d54",
   "metadata": {
    "ExecuteTime": {
     "end_time": "2023-04-17T21:00:56.149292Z",
     "start_time": "2023-04-17T21:00:56.137625Z"
    },
    "scrolled": true
   },
   "outputs": [
    {
     "name": "stdout",
     "output_type": "stream",
     "text": [
      "Prediction table for 'Number 1':\n",
      "\n",
      " [0.00021510555, 0.99914587, 0.00042324836, 3.05158e-08, 3.9256654e-05, 5.286392e-12, 2.3547776e-13, 5.5486765e-07, 0.00017592404, 2.5604643e-09]\n"
     ]
    }
   ],
   "source": [
    "print(f\"Prediction table for '{predicted_label}':\")\n",
    "print(\"\\n\",predicted)"
   ]
  },
  {
   "cell_type": "markdown",
   "id": "e0e48cf9",
   "metadata": {},
   "source": [
    "# Save"
   ]
  },
  {
   "cell_type": "code",
   "execution_count": 184,
   "id": "06990589",
   "metadata": {
    "ExecuteTime": {
     "end_time": "2023-04-17T21:41:12.502169Z",
     "start_time": "2023-04-17T21:41:11.048689Z"
    }
   },
   "outputs": [
    {
     "name": "stderr",
     "output_type": "stream",
     "text": [
      "2023-04-17 23:41:11.560063: W tensorflow/python/util/util.cc:368] Sets are not currently considered sequences, but this may change in the future, so consider avoiding using them.\n"
     ]
    },
    {
     "name": "stdout",
     "output_type": "stream",
     "text": [
      "INFO:tensorflow:Assets written to: ram://e402c9da-5e2d-4386-a46d-728e1e9d7dd5/assets\n"
     ]
    },
    {
     "data": {
      "text/plain": [
       "['model_digits.joblib']"
      ]
     },
     "execution_count": 184,
     "metadata": {},
     "output_type": "execute_result"
    }
   ],
   "source": [
    "joblib.dump(model, f'model_digits.joblib')"
   ]
  }
 ],
 "metadata": {
  "kernelspec": {
   "display_name": "Python 3 (ipykernel)",
   "language": "python",
   "name": "python3"
  },
  "language_info": {
   "codemirror_mode": {
    "name": "ipython",
    "version": 3
   },
   "file_extension": ".py",
   "mimetype": "text/x-python",
   "name": "python",
   "nbconvert_exporter": "python",
   "pygments_lexer": "ipython3",
   "version": "3.8.12"
  },
  "toc": {
   "base_numbering": 1,
   "nav_menu": {},
   "number_sections": true,
   "sideBar": true,
   "skip_h1_title": false,
   "title_cell": "Table of Contents",
   "title_sidebar": "Contents",
   "toc_cell": false,
   "toc_position": {
    "height": "calc(100% - 180px)",
    "left": "10px",
    "top": "150px",
    "width": "276px"
   },
   "toc_section_display": true,
   "toc_window_display": true
  }
 },
 "nbformat": 4,
 "nbformat_minor": 5
}
